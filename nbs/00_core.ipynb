{
 "cells": [
  {
   "cell_type": "markdown",
   "metadata": {},
   "source": [
    "# core\n",
    "\n",
    "> Fill in a module description here"
   ]
  },
  {
   "cell_type": "code",
   "execution_count": null,
   "metadata": {},
   "outputs": [],
   "source": [
    "#| default_exp core"
   ]
  },
  {
   "cell_type": "code",
   "execution_count": 4,
   "metadata": {},
   "outputs": [],
   "source": [
    "#| hide\n",
    "from nbdev.showdoc import *"
   ]
  },
  {
   "cell_type": "code",
   "execution_count": 11,
   "metadata": {},
   "outputs": [],
   "source": [
    "#| export \n",
    "import httpx\n",
    "import zipfile\n",
    "from fastcore.all import *\n",
    "from fastcore.utils import *\n",
    "import pandas as pd"
   ]
  },
  {
   "cell_type": "code",
   "execution_count": 12,
   "metadata": {},
   "outputs": [
    {
     "data": {
      "text/html": [
       "<div>\n",
       "<style scoped>\n",
       "    .dataframe tbody tr th:only-of-type {\n",
       "        vertical-align: middle;\n",
       "    }\n",
       "\n",
       "    .dataframe tbody tr th {\n",
       "        vertical-align: top;\n",
       "    }\n",
       "\n",
       "    .dataframe thead th {\n",
       "        text-align: right;\n",
       "    }\n",
       "</style>\n",
       "<table border=\"1\" class=\"dataframe\">\n",
       "  <thead>\n",
       "    <tr style=\"text-align: right;\">\n",
       "      <th></th>\n",
       "      <th>TATAMOTORS</th>\n",
       "      <th>ASHOKLEY</th>\n",
       "      <th>OLECTRA</th>\n",
       "      <th>FORCEMOT</th>\n",
       "      <th>SMLISUZU</th>\n",
       "    </tr>\n",
       "  </thead>\n",
       "  <tbody>\n",
       "    <tr>\n",
       "      <th>Financial Year 2024</th>\n",
       "      <td>https://www.bseindia.com/stockinfo/AnnPdfOpen....</td>\n",
       "      <td>https://www.bseindia.com/stockinfo/AnnPdfOpen....</td>\n",
       "      <td>https://www.bseindia.com/stockinfo/AnnPdfOpen....</td>\n",
       "      <td>https://www.bseindia.com/stockinfo/AnnPdfOpen....</td>\n",
       "      <td>https://www.bseindia.com/stockinfo/AnnPdfOpen....</td>\n",
       "    </tr>\n",
       "    <tr>\n",
       "      <th>Financial Year 2023</th>\n",
       "      <td>https://www.bseindia.com/stockinfo/AnnPdfOpen....</td>\n",
       "      <td>https://www.bseindia.com/stockinfo/AnnPdfOpen....</td>\n",
       "      <td>https://www.bseindia.com/stockinfo/AnnPdfOpen....</td>\n",
       "      <td>https://www.bseindia.com/stockinfo/AnnPdfOpen....</td>\n",
       "      <td>https://www.bseindia.com/stockinfo/AnnPdfOpen....</td>\n",
       "    </tr>\n",
       "    <tr>\n",
       "      <th>Financial Year 2022</th>\n",
       "      <td>https://www.bseindia.com/bseplus/AnnualReport/...</td>\n",
       "      <td>https://www.bseindia.com/bseplus/AnnualReport/...</td>\n",
       "      <td>https://www.bseindia.com/bseplus/AnnualReport/...</td>\n",
       "      <td>https://www.bseindia.com/bseplus/AnnualReport/...</td>\n",
       "      <td>https://www.bseindia.com/bseplus/AnnualReport/...</td>\n",
       "    </tr>\n",
       "    <tr>\n",
       "      <th>Financial Year 2021</th>\n",
       "      <td>https://www.bseindia.com/bseplus/AnnualReport/...</td>\n",
       "      <td>https://www.bseindia.com/bseplus/AnnualReport/...</td>\n",
       "      <td>https://www.bseindia.com/bseplus/AnnualReport/...</td>\n",
       "      <td>https://www.bseindia.com/bseplus/AnnualReport/...</td>\n",
       "      <td>https://www.bseindia.com/bseplus/AnnualReport/...</td>\n",
       "    </tr>\n",
       "    <tr>\n",
       "      <th>Financial Year 2020</th>\n",
       "      <td>https://www.bseindia.com/bseplus/AnnualReport/...</td>\n",
       "      <td>https://www.bseindia.com/bseplus/AnnualReport/...</td>\n",
       "      <td>https://www.bseindia.com/bseplus/AnnualReport/...</td>\n",
       "      <td>https://www.bseindia.com/bseplus/AnnualReport/...</td>\n",
       "      <td>https://www.bseindia.com/bseplus/AnnualReport/...</td>\n",
       "    </tr>\n",
       "  </tbody>\n",
       "</table>\n",
       "</div>"
      ],
      "text/plain": [
       "                                                            TATAMOTORS  \\\n",
       "Financial Year 2024  https://www.bseindia.com/stockinfo/AnnPdfOpen....   \n",
       "Financial Year 2023  https://www.bseindia.com/stockinfo/AnnPdfOpen....   \n",
       "Financial Year 2022  https://www.bseindia.com/bseplus/AnnualReport/...   \n",
       "Financial Year 2021  https://www.bseindia.com/bseplus/AnnualReport/...   \n",
       "Financial Year 2020  https://www.bseindia.com/bseplus/AnnualReport/...   \n",
       "\n",
       "                                                              ASHOKLEY  \\\n",
       "Financial Year 2024  https://www.bseindia.com/stockinfo/AnnPdfOpen....   \n",
       "Financial Year 2023  https://www.bseindia.com/stockinfo/AnnPdfOpen....   \n",
       "Financial Year 2022  https://www.bseindia.com/bseplus/AnnualReport/...   \n",
       "Financial Year 2021  https://www.bseindia.com/bseplus/AnnualReport/...   \n",
       "Financial Year 2020  https://www.bseindia.com/bseplus/AnnualReport/...   \n",
       "\n",
       "                                                               OLECTRA  \\\n",
       "Financial Year 2024  https://www.bseindia.com/stockinfo/AnnPdfOpen....   \n",
       "Financial Year 2023  https://www.bseindia.com/stockinfo/AnnPdfOpen....   \n",
       "Financial Year 2022  https://www.bseindia.com/bseplus/AnnualReport/...   \n",
       "Financial Year 2021  https://www.bseindia.com/bseplus/AnnualReport/...   \n",
       "Financial Year 2020  https://www.bseindia.com/bseplus/AnnualReport/...   \n",
       "\n",
       "                                                              FORCEMOT  \\\n",
       "Financial Year 2024  https://www.bseindia.com/stockinfo/AnnPdfOpen....   \n",
       "Financial Year 2023  https://www.bseindia.com/stockinfo/AnnPdfOpen....   \n",
       "Financial Year 2022  https://www.bseindia.com/bseplus/AnnualReport/...   \n",
       "Financial Year 2021  https://www.bseindia.com/bseplus/AnnualReport/...   \n",
       "Financial Year 2020  https://www.bseindia.com/bseplus/AnnualReport/...   \n",
       "\n",
       "                                                              SMLISUZU  \n",
       "Financial Year 2024  https://www.bseindia.com/stockinfo/AnnPdfOpen....  \n",
       "Financial Year 2023  https://www.bseindia.com/stockinfo/AnnPdfOpen....  \n",
       "Financial Year 2022  https://www.bseindia.com/bseplus/AnnualReport/...  \n",
       "Financial Year 2021  https://www.bseindia.com/bseplus/AnnualReport/...  \n",
       "Financial Year 2020  https://www.bseindia.com/bseplus/AnnualReport/...  "
      ]
     },
     "execution_count": 12,
     "metadata": {},
     "output_type": "execute_result"
    }
   ],
   "source": [
    "#| hide \n",
    "df = pd.read_csv(\"company2.csv\", index_col=0)\n",
    "df.head()"
   ]
  },
  {
   "cell_type": "code",
   "execution_count": 13,
   "metadata": {},
   "outputs": [],
   "source": [
    "#| export\n",
    "def make_dirs(base:Path, df:pd.core.frame.DataFrame):\n",
    "    \"\"\"\n",
    "    Takes in base directory make all the directory for given dataframe wrt index and and columns in hierarchy\n",
    "    Example:\n",
    "    If df has columns ['A', 'B'] and index ['X', 'Y'], the following structure is created:\n",
    "    \n",
    "    base/\n",
    "    ├── A/\n",
    "    │   ├── X/\n",
    "    │   └── Y/\n",
    "    └── B/\n",
    "        ├── X/\n",
    "        └── Y/\n",
    "    \"\"\"\n",
    "    base.mkdir(exist_ok=True)\n",
    "    for c in df.columns:\n",
    "        dir = base/c\n",
    "        dir.mkdir(exist_ok=True)\n",
    "        for i in df.index:\n",
    "            if \"Right \" not in i:\n",
    "                (dir/i).mkdir(exist_ok=True)"
   ]
  },
  {
   "cell_type": "markdown",
   "metadata": {},
   "source": [
    "## download url and rename"
   ]
  },
  {
   "cell_type": "code",
   "execution_count": 14,
   "metadata": {},
   "outputs": [],
   "source": [
    "dir = Path(\"result\")\n",
    "make_dirs(dir, df)"
   ]
  },
  {
   "cell_type": "code",
   "execution_count": 15,
   "metadata": {},
   "outputs": [],
   "source": [
    "#| export \n",
    "import httpx\n",
    "async def download_url(url:str, fn:Path):\n",
    "    \"\"\"\n",
    "    download given url and write it a given fn.\n",
    "    \"\"\"\n",
    "    headers = {\n",
    "    'User-Agent': 'Mozilla/5.0 (Windows NT 10.0; Win64; x64) AppleWebKit/537.36 (KHTML, like Gecko) Chrome/120.0.0.0 Safari/537.36',\n",
    "    'Accept': 'text/html,application/pdf,*/*'\n",
    "    }\n",
    "    timeout = httpx.Timeout(connect=20.0, read=120.0, write=30.0, pool=60.0)\n",
    "\n",
    "    async with httpx.AsyncClient(timeout=30.0, follow_redirects=True) as client:\n",
    "        try:\n",
    "            res = await client.get(url, headers=headers)\n",
    "            if res.status_code == 200:\n",
    "                with open(fn, 'wb') as f:\n",
    "                    f.write(res.content)\n",
    "                return True\n",
    "            else:\n",
    "                print(f\"Error downloading: Status code {res.status_code}\")\n",
    "                return False\n",
    "        except httpx.RequestError as e:\n",
    "            print(f\"Request failed: {e}\")\n",
    "            return False"
   ]
  },
  {
   "cell_type": "code",
   "execution_count": null,
   "metadata": {},
   "outputs": [
    {
     "data": {
      "text/plain": [
       "True"
      ]
     },
     "execution_count": null,
     "metadata": {},
     "output_type": "execute_result"
    }
   ],
   "source": [
    "url = \"https://www.bseindia.com/xml-data/corpfiling/AttachHis/0913b647-b205-4a3c-ad9b-8c493f97f972.pdf\"\n",
    "fn = dir/\"temp.pdf\"\n",
    "await download_url(url, fn)\n",
    "assert fn.is_file()"
   ]
  },
  {
   "cell_type": "code",
   "execution_count": null,
   "metadata": {},
   "outputs": [],
   "source": [
    "url = \"https://archives.nseindia.com/annual_reports/AR_ASHOKLEY_2009_2010_18082010121500.zip\"\n",
    "fn = dir/\"temp.zip\"\n",
    "await download_url(url, fn)\n",
    "assert fn.is_file() "
   ]
  },
  {
   "cell_type": "code",
   "execution_count": 16,
   "metadata": {},
   "outputs": [],
   "source": [
    "#| hide\n",
    "fn = dir/\"1.pdf\"\n",
    "url = \"https://static-assets.tatamotors.com/Production/www-tatamotors-com-NEW/wp-content/uploads/2024/05/tata-motor-IAR-2023-24.pdf\"\n",
    "await download_url(url, fn)\n",
    "assert fn.is_file()"
   ]
  },
  {
   "cell_type": "code",
   "execution_count": 18,
   "metadata": {},
   "outputs": [],
   "source": [
    "#| export\n",
    "def rn_zip_extract(zipf, fn):\n",
    "    \"\"\"\n",
    "    Donwload and extract the given files with filename fn \n",
    "    \"\"\"\n",
    "    home = Path(zipf).parent\n",
    "    with zipfile.ZipFile(zipf, 'r') as zip_ref:\n",
    "        f = zip_ref.namelist()[0]\n",
    "        zip_ref.extractall(path=home)\n",
    "        fi = home/f\n",
    "        fi.rename(fn)"
   ]
  },
  {
   "cell_type": "code",
   "execution_count": null,
   "metadata": {},
   "outputs": [],
   "source": [
    "p = dir/\"i.pdf\"\n",
    "rn_zip_extract(fn, p)\n",
    "assert p.is_file()\n"
   ]
  },
  {
   "cell_type": "code",
   "execution_count": null,
   "metadata": {},
   "outputs": [],
   "source": [
    "#| hide\n",
    "!rm -rf result/*.pdf result/*.zip"
   ]
  },
  {
   "cell_type": "code",
   "execution_count": 19,
   "metadata": {},
   "outputs": [],
   "source": [
    "#| export \n",
    "async def download_rename(url, fn, dir):\n",
    "    \"\"\"\n",
    "    download given url and rename the file only handles zip and pdf\n",
    "    \"\"\"\n",
    "    fn, dir = Path(fn), Path(dir)\n",
    "    dir.mkdir(exist_ok=True)\n",
    "\n",
    "    if \".zip\" in url:\n",
    "        zip = dir/\"temp.zip\"\n",
    "        await download_url(url, zip)\n",
    "        rn_zip_extract(zip, fn)\n",
    "        Path(dir/\"temp.zip\").unlink()\n",
    "    elif \".pdf\" in url:\n",
    "        await download_url(url, fn)"
   ]
  },
  {
   "cell_type": "code",
   "execution_count": null,
   "metadata": {},
   "outputs": [],
   "source": [
    "await download_rename(url, fn, dir)\n",
    "assert fn.is_file()"
   ]
  },
  {
   "cell_type": "markdown",
   "metadata": {},
   "source": [
    "## Pdf functions"
   ]
  },
  {
   "cell_type": "code",
   "execution_count": 20,
   "metadata": {},
   "outputs": [],
   "source": [
    "#| export\n",
    "import PyPDF2\n",
    "\n",
    "def pdfPC(pth):\n",
    "    \"\"\"\n",
    "    given pdf file name returns the no of pages \n",
    "    \"\"\"\n",
    "    with open(pth, 'rb') as f:\n",
    "        reader = PyPDF2.PdfReader(f)\n",
    "        return len(reader.pages)"
   ]
  },
  {
   "cell_type": "code",
   "execution_count": 21,
   "metadata": {},
   "outputs": [],
   "source": [
    "PC = pdfPC(fn)\n",
    "assert PC != 0"
   ]
  },
  {
   "cell_type": "code",
   "execution_count": 22,
   "metadata": {},
   "outputs": [],
   "source": [
    "#| export \n",
    "from pdf2image import convert_from_path\n",
    "from PIL.PpmImagePlugin import PpmImageFile\n",
    "from typing import Tuple, Callable, List, Optional\n",
    "from PIL import Image"
   ]
  },
  {
   "cell_type": "code",
   "execution_count": 23,
   "metadata": {},
   "outputs": [],
   "source": [
    "#| export \n",
    "def pdf2imgOffset(\n",
    "    fn: str, \n",
    "    limit: Tuple[int, int], \n",
    "    transform: Optional[Callable[[Image.Image], Image.Image]] = None,\n",
    "    dir:Optional[Path] = None) -> List[Image.Image]:\n",
    "    \"\"\"\n",
    "    given a pdf file it `fn` and limit -> [first_page, last_page] it return pdf in image\n",
    "    transform: performs the operation on a given image if given\n",
    "    dir: save the images to a file\n",
    "    \"\"\"\n",
    "    fp, lp = limit\n",
    "    ims =  convert_from_path(str(fn), dpi=250, first_page=fp, last_page=lp)\n",
    "    \n",
    "    if transform is not None:\n",
    "        ims = [transform(i) for i in ims]\n",
    "\n",
    "    if dir:\n",
    "        dir.mkdir(exist_ok=True)\n",
    "        [im.save(dir/\"{0}.png\".format(fp+i)) for i, im in enumerate(ims) ]  \n",
    "    else:  \n",
    "        return ims"
   ]
  },
  {
   "cell_type": "code",
   "execution_count": 24,
   "metadata": {},
   "outputs": [],
   "source": [
    "#| export \n",
    "def devide_img(im:Image, n:float=0.5):\n",
    "    \"\"\"\n",
    "    Devide the image by factor `n`\n",
    "    \"\"\"\n",
    "    w, h = im.size\n",
    "    im.thumbnail((int(w*n), int(h*n) ), Image.LANCZOS)\n",
    "    return im"
   ]
  },
  {
   "cell_type": "code",
   "execution_count": null,
   "metadata": {},
   "outputs": [],
   "source": [
    "im1 = pdf2imgOffset(fn, (0, 10)) # reads first 10 pages\n",
    "assert type(im1) == list\n",
    "assert len(im1) == 10"
   ]
  },
  {
   "cell_type": "code",
   "execution_count": null,
   "metadata": {},
   "outputs": [],
   "source": [
    "im2 = pdf2imgOffset(fn, (0, 10), devide_img) # read first 10 pages then dived the image by factor of 0.5\n",
    "assert all([im2[0].size[0] * .5 <= im1[0].size[0], im2[0].size[1] * 0.5 <= im1[0].size[1]])"
   ]
  },
  {
   "cell_type": "code",
   "execution_count": null,
   "metadata": {},
   "outputs": [],
   "source": [
    "im2 = pdf2imgOffset(fn, (0, 10), devide_img, dir) # read 10 pages, device the image and save it to dir\n",
    "assert all([(dir/f\"{i}.png\").is_file() for i in range(10)])"
   ]
  },
  {
   "cell_type": "code",
   "execution_count": null,
   "metadata": {},
   "outputs": [
    {
     "data": {
      "text/plain": [
       "[None, None, None, None, None, None, None, None, None, None]"
      ]
     },
     "execution_count": null,
     "metadata": {},
     "output_type": "execute_result"
    }
   ],
   "source": [
    "#| hide\n",
    "[(dir/f\"{i}.png\").unlink() for i in range(10)]"
   ]
  },
  {
   "cell_type": "code",
   "execution_count": 25,
   "metadata": {},
   "outputs": [],
   "source": [
    "#| export \n",
    "\n",
    "from math import ceil\n",
    "\n",
    "def pdf2img(_process_chunk:Callable, pdf_path:Path, offset:int, n_workers:int=4):\n",
    "    \n",
    "    PC = pdfPC(pdf_path)\n",
    "    li = [(0, offset) if i == 0 else (i * offset + 1, i * offset + offset) for i in range(ceil(PC/offset))]\n",
    "    \n",
    "    return parallel(_process_chunk, li, progress=True, n_workers=n_workers), li"
   ]
  },
  {
   "cell_type": "code",
   "execution_count": 26,
   "metadata": {},
   "outputs": [],
   "source": [
    "#| export \n",
    "\n",
    "def _process_chunk(offset):\n",
    "    return pdf2imgOffset(fn=fn, limit=offset, transform=devide_img, dir=dir)"
   ]
  },
  {
   "cell_type": "code",
   "execution_count": null,
   "metadata": {},
   "outputs": [
    {
     "name": "stdout",
     "output_type": "stream",
     "text": [
      "[(0, 10), (11, 20), (21, 30), (31, 40), (41, 50), (51, 60), (61, 70), (71, 80), (81, 90), (91, 100), (101, 110), (111, 120), (121, 130), (131, 140), (141, 150), (151, 160), (161, 170), (171, 180), (181, 190), (191, 200), (201, 210), (211, 220), (221, 230), (231, 240), (241, 250), (251, 260), (261, 270), (271, 280), (281, 290), (291, 300), (301, 310), (311, 320), (321, 330), (331, 340), (341, 350), (351, 360), (361, 370), (371, 380), (381, 390), (391, 400), (401, 410), (411, 420), (421, 430), (431, 440), (441, 450), (451, 460), (461, 470), (471, 480), (481, 490), (491, 500), (501, 510), (511, 520), (521, 530)]\n"
     ]
    },
    {
     "data": {
      "text/html": [
       "\n",
       "<style>\n",
       "    /* Turns off some styling */\n",
       "    progress {\n",
       "        /* gets rid of default border in Firefox and Opera. */\n",
       "        border: none;\n",
       "        /* Needs to be in here for Safari polyfill so background images work as expected. */\n",
       "        background-size: auto;\n",
       "    }\n",
       "    progress:not([value]), progress:not([value])::-webkit-progress-bar {\n",
       "        background: repeating-linear-gradient(45deg, #7e7e7e, #7e7e7e 10px, #5c5c5c 10px, #5c5c5c 20px);\n",
       "    }\n",
       "    .progress-bar-interrupted, .progress-bar-interrupted::-webkit-progress-bar {\n",
       "        background: #F44336;\n",
       "    }\n",
       "</style>\n"
      ],
      "text/plain": [
       "<IPython.core.display.HTML object>"
      ]
     },
     "metadata": {},
     "output_type": "display_data"
    },
    {
     "data": {
      "text/html": [],
      "text/plain": [
       "<IPython.core.display.HTML object>"
      ]
     },
     "metadata": {},
     "output_type": "display_data"
    }
   ],
   "source": [
    "ims, li = pdf2img(_process_chunk, fn, 10)\n",
    "assert all([all([(dir/f\"{i}.png\").is_file() for i in range(a[0], a[1])]) for a in li])"
   ]
  },
  {
   "cell_type": "code",
   "execution_count": 27,
   "metadata": {},
   "outputs": [],
   "source": [
    "#| export \n",
    "\n",
    "def resize_image_if_needed(im:Image.Image, limit:int=1280*28*28 ):\n",
    "    \"\"\"\n",
    "    check if the image of size `1280*28*28` which is the upper limit of image can be processed by \n",
    "    \"\"\"\n",
    "    w, h = im.size\n",
    "\n",
    "    sf = math.sqrt( limit/(w*h))\n",
    "    if sf < 1.:\n",
    "        nw = int(w * sf)\n",
    "        nh = int(h * sf)\n",
    "        im = im.resize((nw,nh), Image.LANCZOS)\n",
    "\n",
    "    return im"
   ]
  },
  {
   "cell_type": "code",
   "execution_count": 23,
   "metadata": {},
   "outputs": [],
   "source": [
    "im2 = pdf2imgOffset(fn, (0, 10), resize_image_if_needed, dir) # read 10 pages, device the image and save it to dir\n",
    "assert all([(dir/f\"{i}.png\").is_file() for i in range(10)])"
   ]
  },
  {
   "cell_type": "code",
   "execution_count": null,
   "metadata": {},
   "outputs": [],
   "source": [
    "#| hide\n",
    "!rm result/*.png"
   ]
  },
  {
   "cell_type": "markdown",
   "metadata": {},
   "source": [
    "## Save file to md file"
   ]
  },
  {
   "cell_type": "code",
   "execution_count": null,
   "metadata": {},
   "outputs": [],
   "source": [
    "#| export \n",
    "def save_md(fn: str, txt: str):\n",
    "    \"\"\"\n",
    "    Writes the given text to a markdown file as binary (UTF-8 encoded).\n",
    "    Parameters:\n",
    "    fn (str): Filename or path to save the markdown file.\n",
    "    txt (str): Content to write to the file.\n",
    "    \"\"\"\n",
    "    try:\n",
    "        # Open the file in binary write mode and encode the text to bytes\n",
    "        with open(fn, 'wb') as f:\n",
    "            f.write(txt.encode('utf-8'))\n",
    "    except Exception as e:\n",
    "        print(f\"Error writing to file {fn}: {e}\")\n",
    "    "
   ]
  },
  {
   "cell_type": "code",
   "execution_count": null,
   "metadata": {},
   "outputs": [],
   "source": [
    "fn = dir/\"temp.md\"\n",
    "save_md(fn, \"# h1\\n- 1\\n- 2\")\n",
    "assert fn.is_file()"
   ]
  },
  {
   "cell_type": "code",
   "execution_count": 4,
   "metadata": {},
   "outputs": [],
   "source": [
    "#| export \n",
    "from IPython.display import display, Markdown\n",
    "def show_markdown(md_text: str):\n",
    "    \"\"\"\n",
    "    Displays Markdown content in a Jupyter Notebook.\n",
    "    Args:\n",
    "        md_text (str): The Markdown-formatted string to display.\n",
    "    \"\"\"\n",
    "    display(Markdown(md_text))"
   ]
  },
  {
   "cell_type": "code",
   "execution_count": 2,
   "metadata": {},
   "outputs": [],
   "source": [
    "#| export\n",
    "import re\n",
    "\n",
    "def str2md(text: str) -> str:\n",
    "    \"\"\"\n",
    "    Extracts the Markdown content from a string that contains a markdown code block.\n",
    "\n",
    "    The function looks for a code block that starts with:\n",
    "        ```markdown\n",
    "    and ends with:\n",
    "        ```\n",
    "    \n",
    "    Args:\n",
    "        text (str): The input string containing a markdown code block.\n",
    "\n",
    "    Returns:\n",
    "        str: The extracted Markdown content if found; otherwise, an empty string.\n",
    "    \"\"\"\n",
    "    # Regex pattern to capture content between ```markdown and ```\n",
    "    pattern = re.compile(r\"```markdown\\s*(.*?)\\s*```\", re.DOTALL)\n",
    "    match = pattern.search(text)\n",
    "    if match:\n",
    "        return match.group(1)\n",
    "    return \"\""
   ]
  },
  {
   "cell_type": "code",
   "execution_count": 5,
   "metadata": {},
   "outputs": [
    {
     "data": {
      "text/markdown": [
       "# This is a Markdown Title\n",
       "\n",
       "- List item 1\n",
       "- List item 2\n",
       "\n",
       "**Bold Text**"
      ],
      "text/plain": [
       "<IPython.core.display.Markdown object>"
      ]
     },
     "metadata": {},
     "output_type": "display_data"
    }
   ],
   "source": [
    "# Example usage:\n",
    "txt = \"\"\"\n",
    "Some introductory text.\n",
    "\n",
    "```markdown\n",
    "# This is a Markdown Title\n",
    "\n",
    "- List item 1\n",
    "- List item 2\n",
    "\n",
    "**Bold Text**\n",
    "```\"\"\"\n",
    "show_markdown(str2md(txt))"
   ]
  },
  {
   "cell_type": "code",
   "execution_count": null,
   "metadata": {},
   "outputs": [],
   "source": [
    "#| hide\n",
    "!rm -rf  result/"
   ]
  },
  {
   "cell_type": "markdown",
   "metadata": {},
   "source": [
    "## Export data"
   ]
  },
  {
   "cell_type": "code",
   "execution_count": null,
   "metadata": {},
   "outputs": [],
   "source": [
    "#| hide\n",
    "async setup_dir(df, dir):\n",
    "    make_dirs(dir, df)\n",
    "    for c in df.columns:\n",
    "        b_dir = dir/c\n",
    "        print(c)\n",
    "        for i in df.index:\n",
    "            print(df.loc[i][c])\n",
    "            if \"Right \" not in i:\n",
    "                f_dir = b_dir/i\n",
    "                fn = f_dir/\"index.pdf\"\n",
    "                await download_rename(df.loc[i][c], fn, f_dir)\n",
    "#await setup(df, Path(\"/mnt/d/finfox/\"))"
   ]
  },
  {
   "cell_type": "code",
   "execution_count": 29,
   "metadata": {},
   "outputs": [
    {
     "name": "stdout",
     "output_type": "stream",
     "text": [
      "/mnt/d/finfox/SMLISUZU\n",
      "Financial Year 2024 "
     ]
    },
    {
     "data": {
      "text/html": [
       "\n",
       "<style>\n",
       "    /* Turns off some styling */\n",
       "    progress {\n",
       "        /* gets rid of default border in Firefox and Opera. */\n",
       "        border: none;\n",
       "        /* Needs to be in here for Safari polyfill so background images work as expected. */\n",
       "        background-size: auto;\n",
       "    }\n",
       "    progress:not([value]), progress:not([value])::-webkit-progress-bar {\n",
       "        background: repeating-linear-gradient(45deg, #7e7e7e, #7e7e7e 10px, #5c5c5c 10px, #5c5c5c 20px);\n",
       "    }\n",
       "    .progress-bar-interrupted, .progress-bar-interrupted::-webkit-progress-bar {\n",
       "        background: #F44336;\n",
       "    }\n",
       "</style>\n"
      ],
      "text/plain": [
       "<IPython.core.display.HTML object>"
      ]
     },
     "metadata": {},
     "output_type": "display_data"
    },
    {
     "data": {
      "text/html": [],
      "text/plain": [
       "<IPython.core.display.HTML object>"
      ]
     },
     "metadata": {},
     "output_type": "display_data"
    },
    {
     "name": "stdout",
     "output_type": "stream",
     "text": [
      "Financial Year 2023 "
     ]
    },
    {
     "data": {
      "text/html": [
       "\n",
       "<style>\n",
       "    /* Turns off some styling */\n",
       "    progress {\n",
       "        /* gets rid of default border in Firefox and Opera. */\n",
       "        border: none;\n",
       "        /* Needs to be in here for Safari polyfill so background images work as expected. */\n",
       "        background-size: auto;\n",
       "    }\n",
       "    progress:not([value]), progress:not([value])::-webkit-progress-bar {\n",
       "        background: repeating-linear-gradient(45deg, #7e7e7e, #7e7e7e 10px, #5c5c5c 10px, #5c5c5c 20px);\n",
       "    }\n",
       "    .progress-bar-interrupted, .progress-bar-interrupted::-webkit-progress-bar {\n",
       "        background: #F44336;\n",
       "    }\n",
       "</style>\n"
      ],
      "text/plain": [
       "<IPython.core.display.HTML object>"
      ]
     },
     "metadata": {},
     "output_type": "display_data"
    },
    {
     "data": {
      "text/html": [],
      "text/plain": [
       "<IPython.core.display.HTML object>"
      ]
     },
     "metadata": {},
     "output_type": "display_data"
    },
    {
     "name": "stdout",
     "output_type": "stream",
     "text": [
      "Financial Year 2022 "
     ]
    },
    {
     "data": {
      "text/html": [
       "\n",
       "<style>\n",
       "    /* Turns off some styling */\n",
       "    progress {\n",
       "        /* gets rid of default border in Firefox and Opera. */\n",
       "        border: none;\n",
       "        /* Needs to be in here for Safari polyfill so background images work as expected. */\n",
       "        background-size: auto;\n",
       "    }\n",
       "    progress:not([value]), progress:not([value])::-webkit-progress-bar {\n",
       "        background: repeating-linear-gradient(45deg, #7e7e7e, #7e7e7e 10px, #5c5c5c 10px, #5c5c5c 20px);\n",
       "    }\n",
       "    .progress-bar-interrupted, .progress-bar-interrupted::-webkit-progress-bar {\n",
       "        background: #F44336;\n",
       "    }\n",
       "</style>\n"
      ],
      "text/plain": [
       "<IPython.core.display.HTML object>"
      ]
     },
     "metadata": {},
     "output_type": "display_data"
    },
    {
     "data": {
      "text/html": [],
      "text/plain": [
       "<IPython.core.display.HTML object>"
      ]
     },
     "metadata": {},
     "output_type": "display_data"
    },
    {
     "name": "stdout",
     "output_type": "stream",
     "text": [
      "Financial Year 2021 "
     ]
    },
    {
     "data": {
      "text/html": [
       "\n",
       "<style>\n",
       "    /* Turns off some styling */\n",
       "    progress {\n",
       "        /* gets rid of default border in Firefox and Opera. */\n",
       "        border: none;\n",
       "        /* Needs to be in here for Safari polyfill so background images work as expected. */\n",
       "        background-size: auto;\n",
       "    }\n",
       "    progress:not([value]), progress:not([value])::-webkit-progress-bar {\n",
       "        background: repeating-linear-gradient(45deg, #7e7e7e, #7e7e7e 10px, #5c5c5c 10px, #5c5c5c 20px);\n",
       "    }\n",
       "    .progress-bar-interrupted, .progress-bar-interrupted::-webkit-progress-bar {\n",
       "        background: #F44336;\n",
       "    }\n",
       "</style>\n"
      ],
      "text/plain": [
       "<IPython.core.display.HTML object>"
      ]
     },
     "metadata": {},
     "output_type": "display_data"
    },
    {
     "data": {
      "text/html": [],
      "text/plain": [
       "<IPython.core.display.HTML object>"
      ]
     },
     "metadata": {},
     "output_type": "display_data"
    },
    {
     "name": "stdout",
     "output_type": "stream",
     "text": [
      "Financial Year 2020 "
     ]
    },
    {
     "data": {
      "text/html": [
       "\n",
       "<style>\n",
       "    /* Turns off some styling */\n",
       "    progress {\n",
       "        /* gets rid of default border in Firefox and Opera. */\n",
       "        border: none;\n",
       "        /* Needs to be in here for Safari polyfill so background images work as expected. */\n",
       "        background-size: auto;\n",
       "    }\n",
       "    progress:not([value]), progress:not([value])::-webkit-progress-bar {\n",
       "        background: repeating-linear-gradient(45deg, #7e7e7e, #7e7e7e 10px, #5c5c5c 10px, #5c5c5c 20px);\n",
       "    }\n",
       "    .progress-bar-interrupted, .progress-bar-interrupted::-webkit-progress-bar {\n",
       "        background: #F44336;\n",
       "    }\n",
       "</style>\n"
      ],
      "text/plain": [
       "<IPython.core.display.HTML object>"
      ]
     },
     "metadata": {},
     "output_type": "display_data"
    },
    {
     "data": {
      "text/html": [],
      "text/plain": [
       "<IPython.core.display.HTML object>"
      ]
     },
     "metadata": {},
     "output_type": "display_data"
    },
    {
     "name": "stdout",
     "output_type": "stream",
     "text": [
      "Financial Year 2019 "
     ]
    },
    {
     "data": {
      "text/html": [
       "\n",
       "<style>\n",
       "    /* Turns off some styling */\n",
       "    progress {\n",
       "        /* gets rid of default border in Firefox and Opera. */\n",
       "        border: none;\n",
       "        /* Needs to be in here for Safari polyfill so background images work as expected. */\n",
       "        background-size: auto;\n",
       "    }\n",
       "    progress:not([value]), progress:not([value])::-webkit-progress-bar {\n",
       "        background: repeating-linear-gradient(45deg, #7e7e7e, #7e7e7e 10px, #5c5c5c 10px, #5c5c5c 20px);\n",
       "    }\n",
       "    .progress-bar-interrupted, .progress-bar-interrupted::-webkit-progress-bar {\n",
       "        background: #F44336;\n",
       "    }\n",
       "</style>\n"
      ],
      "text/plain": [
       "<IPython.core.display.HTML object>"
      ]
     },
     "metadata": {},
     "output_type": "display_data"
    },
    {
     "data": {
      "text/html": [],
      "text/plain": [
       "<IPython.core.display.HTML object>"
      ]
     },
     "metadata": {},
     "output_type": "display_data"
    },
    {
     "name": "stdout",
     "output_type": "stream",
     "text": [
      "Financial Year 2018 "
     ]
    },
    {
     "data": {
      "text/html": [
       "\n",
       "<style>\n",
       "    /* Turns off some styling */\n",
       "    progress {\n",
       "        /* gets rid of default border in Firefox and Opera. */\n",
       "        border: none;\n",
       "        /* Needs to be in here for Safari polyfill so background images work as expected. */\n",
       "        background-size: auto;\n",
       "    }\n",
       "    progress:not([value]), progress:not([value])::-webkit-progress-bar {\n",
       "        background: repeating-linear-gradient(45deg, #7e7e7e, #7e7e7e 10px, #5c5c5c 10px, #5c5c5c 20px);\n",
       "    }\n",
       "    .progress-bar-interrupted, .progress-bar-interrupted::-webkit-progress-bar {\n",
       "        background: #F44336;\n",
       "    }\n",
       "</style>\n"
      ],
      "text/plain": [
       "<IPython.core.display.HTML object>"
      ]
     },
     "metadata": {},
     "output_type": "display_data"
    },
    {
     "data": {
      "text/html": [],
      "text/plain": [
       "<IPython.core.display.HTML object>"
      ]
     },
     "metadata": {},
     "output_type": "display_data"
    },
    {
     "name": "stdout",
     "output_type": "stream",
     "text": [
      "Financial Year 2017 "
     ]
    },
    {
     "data": {
      "text/html": [
       "\n",
       "<style>\n",
       "    /* Turns off some styling */\n",
       "    progress {\n",
       "        /* gets rid of default border in Firefox and Opera. */\n",
       "        border: none;\n",
       "        /* Needs to be in here for Safari polyfill so background images work as expected. */\n",
       "        background-size: auto;\n",
       "    }\n",
       "    progress:not([value]), progress:not([value])::-webkit-progress-bar {\n",
       "        background: repeating-linear-gradient(45deg, #7e7e7e, #7e7e7e 10px, #5c5c5c 10px, #5c5c5c 20px);\n",
       "    }\n",
       "    .progress-bar-interrupted, .progress-bar-interrupted::-webkit-progress-bar {\n",
       "        background: #F44336;\n",
       "    }\n",
       "</style>\n"
      ],
      "text/plain": [
       "<IPython.core.display.HTML object>"
      ]
     },
     "metadata": {},
     "output_type": "display_data"
    },
    {
     "data": {
      "text/html": [],
      "text/plain": [
       "<IPython.core.display.HTML object>"
      ]
     },
     "metadata": {},
     "output_type": "display_data"
    },
    {
     "name": "stdout",
     "output_type": "stream",
     "text": [
      "Financial Year 2016 "
     ]
    },
    {
     "data": {
      "text/html": [
       "\n",
       "<style>\n",
       "    /* Turns off some styling */\n",
       "    progress {\n",
       "        /* gets rid of default border in Firefox and Opera. */\n",
       "        border: none;\n",
       "        /* Needs to be in here for Safari polyfill so background images work as expected. */\n",
       "        background-size: auto;\n",
       "    }\n",
       "    progress:not([value]), progress:not([value])::-webkit-progress-bar {\n",
       "        background: repeating-linear-gradient(45deg, #7e7e7e, #7e7e7e 10px, #5c5c5c 10px, #5c5c5c 20px);\n",
       "    }\n",
       "    .progress-bar-interrupted, .progress-bar-interrupted::-webkit-progress-bar {\n",
       "        background: #F44336;\n",
       "    }\n",
       "</style>\n"
      ],
      "text/plain": [
       "<IPython.core.display.HTML object>"
      ]
     },
     "metadata": {},
     "output_type": "display_data"
    },
    {
     "data": {
      "text/html": [],
      "text/plain": [
       "<IPython.core.display.HTML object>"
      ]
     },
     "metadata": {},
     "output_type": "display_data"
    },
    {
     "name": "stdout",
     "output_type": "stream",
     "text": [
      "Financial Year 2015 "
     ]
    },
    {
     "data": {
      "text/html": [
       "\n",
       "<style>\n",
       "    /* Turns off some styling */\n",
       "    progress {\n",
       "        /* gets rid of default border in Firefox and Opera. */\n",
       "        border: none;\n",
       "        /* Needs to be in here for Safari polyfill so background images work as expected. */\n",
       "        background-size: auto;\n",
       "    }\n",
       "    progress:not([value]), progress:not([value])::-webkit-progress-bar {\n",
       "        background: repeating-linear-gradient(45deg, #7e7e7e, #7e7e7e 10px, #5c5c5c 10px, #5c5c5c 20px);\n",
       "    }\n",
       "    .progress-bar-interrupted, .progress-bar-interrupted::-webkit-progress-bar {\n",
       "        background: #F44336;\n",
       "    }\n",
       "</style>\n"
      ],
      "text/plain": [
       "<IPython.core.display.HTML object>"
      ]
     },
     "metadata": {},
     "output_type": "display_data"
    },
    {
     "data": {
      "text/html": [],
      "text/plain": [
       "<IPython.core.display.HTML object>"
      ]
     },
     "metadata": {},
     "output_type": "display_data"
    },
    {
     "name": "stdout",
     "output_type": "stream",
     "text": [
      "Financial Year 2014 "
     ]
    },
    {
     "data": {
      "text/html": [
       "\n",
       "<style>\n",
       "    /* Turns off some styling */\n",
       "    progress {\n",
       "        /* gets rid of default border in Firefox and Opera. */\n",
       "        border: none;\n",
       "        /* Needs to be in here for Safari polyfill so background images work as expected. */\n",
       "        background-size: auto;\n",
       "    }\n",
       "    progress:not([value]), progress:not([value])::-webkit-progress-bar {\n",
       "        background: repeating-linear-gradient(45deg, #7e7e7e, #7e7e7e 10px, #5c5c5c 10px, #5c5c5c 20px);\n",
       "    }\n",
       "    .progress-bar-interrupted, .progress-bar-interrupted::-webkit-progress-bar {\n",
       "        background: #F44336;\n",
       "    }\n",
       "</style>\n"
      ],
      "text/plain": [
       "<IPython.core.display.HTML object>"
      ]
     },
     "metadata": {},
     "output_type": "display_data"
    },
    {
     "data": {
      "text/html": [],
      "text/plain": [
       "<IPython.core.display.HTML object>"
      ]
     },
     "metadata": {},
     "output_type": "display_data"
    },
    {
     "name": "stdout",
     "output_type": "stream",
     "text": [
      "Financial Year 2013 "
     ]
    },
    {
     "data": {
      "text/html": [
       "\n",
       "<style>\n",
       "    /* Turns off some styling */\n",
       "    progress {\n",
       "        /* gets rid of default border in Firefox and Opera. */\n",
       "        border: none;\n",
       "        /* Needs to be in here for Safari polyfill so background images work as expected. */\n",
       "        background-size: auto;\n",
       "    }\n",
       "    progress:not([value]), progress:not([value])::-webkit-progress-bar {\n",
       "        background: repeating-linear-gradient(45deg, #7e7e7e, #7e7e7e 10px, #5c5c5c 10px, #5c5c5c 20px);\n",
       "    }\n",
       "    .progress-bar-interrupted, .progress-bar-interrupted::-webkit-progress-bar {\n",
       "        background: #F44336;\n",
       "    }\n",
       "</style>\n"
      ],
      "text/plain": [
       "<IPython.core.display.HTML object>"
      ]
     },
     "metadata": {},
     "output_type": "display_data"
    },
    {
     "data": {
      "text/html": [],
      "text/plain": [
       "<IPython.core.display.HTML object>"
      ]
     },
     "metadata": {},
     "output_type": "display_data"
    },
    {
     "name": "stdout",
     "output_type": "stream",
     "text": [
      "Financial Year 2012 "
     ]
    },
    {
     "data": {
      "text/html": [
       "\n",
       "<style>\n",
       "    /* Turns off some styling */\n",
       "    progress {\n",
       "        /* gets rid of default border in Firefox and Opera. */\n",
       "        border: none;\n",
       "        /* Needs to be in here for Safari polyfill so background images work as expected. */\n",
       "        background-size: auto;\n",
       "    }\n",
       "    progress:not([value]), progress:not([value])::-webkit-progress-bar {\n",
       "        background: repeating-linear-gradient(45deg, #7e7e7e, #7e7e7e 10px, #5c5c5c 10px, #5c5c5c 20px);\n",
       "    }\n",
       "    .progress-bar-interrupted, .progress-bar-interrupted::-webkit-progress-bar {\n",
       "        background: #F44336;\n",
       "    }\n",
       "</style>\n"
      ],
      "text/plain": [
       "<IPython.core.display.HTML object>"
      ]
     },
     "metadata": {},
     "output_type": "display_data"
    },
    {
     "data": {
      "text/html": [],
      "text/plain": [
       "<IPython.core.display.HTML object>"
      ]
     },
     "metadata": {},
     "output_type": "display_data"
    },
    {
     "name": "stdout",
     "output_type": "stream",
     "text": [
      "Financial Year 2011 "
     ]
    },
    {
     "data": {
      "text/html": [
       "\n",
       "<style>\n",
       "    /* Turns off some styling */\n",
       "    progress {\n",
       "        /* gets rid of default border in Firefox and Opera. */\n",
       "        border: none;\n",
       "        /* Needs to be in here for Safari polyfill so background images work as expected. */\n",
       "        background-size: auto;\n",
       "    }\n",
       "    progress:not([value]), progress:not([value])::-webkit-progress-bar {\n",
       "        background: repeating-linear-gradient(45deg, #7e7e7e, #7e7e7e 10px, #5c5c5c 10px, #5c5c5c 20px);\n",
       "    }\n",
       "    .progress-bar-interrupted, .progress-bar-interrupted::-webkit-progress-bar {\n",
       "        background: #F44336;\n",
       "    }\n",
       "</style>\n"
      ],
      "text/plain": [
       "<IPython.core.display.HTML object>"
      ]
     },
     "metadata": {},
     "output_type": "display_data"
    },
    {
     "data": {
      "text/html": [],
      "text/plain": [
       "<IPython.core.display.HTML object>"
      ]
     },
     "metadata": {},
     "output_type": "display_data"
    },
    {
     "name": "stdout",
     "output_type": "stream",
     "text": [
      "Financial Year 2010 "
     ]
    },
    {
     "data": {
      "text/html": [
       "\n",
       "<style>\n",
       "    /* Turns off some styling */\n",
       "    progress {\n",
       "        /* gets rid of default border in Firefox and Opera. */\n",
       "        border: none;\n",
       "        /* Needs to be in here for Safari polyfill so background images work as expected. */\n",
       "        background-size: auto;\n",
       "    }\n",
       "    progress:not([value]), progress:not([value])::-webkit-progress-bar {\n",
       "        background: repeating-linear-gradient(45deg, #7e7e7e, #7e7e7e 10px, #5c5c5c 10px, #5c5c5c 20px);\n",
       "    }\n",
       "    .progress-bar-interrupted, .progress-bar-interrupted::-webkit-progress-bar {\n",
       "        background: #F44336;\n",
       "    }\n",
       "</style>\n"
      ],
      "text/plain": [
       "<IPython.core.display.HTML object>"
      ]
     },
     "metadata": {},
     "output_type": "display_data"
    },
    {
     "data": {
      "text/html": [],
      "text/plain": [
       "<IPython.core.display.HTML object>"
      ]
     },
     "metadata": {},
     "output_type": "display_data"
    }
   ],
   "source": [
    "#| hide\n",
    "\n",
    "from functools import partial\n",
    "#func = partial(devide_img, n=0.35)\n",
    "\n",
    "dir = Path(\"/mnt/d/finfox/\")\n",
    "def _process_chunk(offset):\n",
    "        return pdf2imgOffset(fn=pdf, limit=offset, transform=resize_image_if_needed, dir=f_dir)\n",
    "\n",
    "\n",
    "for c in ['SMLISUZU'] : #df.columns:\n",
    "    b_dir = dir/c\n",
    "    print(b_dir)\n",
    "    for i in df.index:\n",
    "        print(i, end=\" \")\n",
    "        if \"Right \" not in i:\n",
    "                f_dir = b_dir/i/\"index_img\"\n",
    "                pdf = b_dir/i/\"index.pdf\"\n",
    "                pdf2img(_process_chunk, pdf, 10)"
   ]
  },
  {
   "cell_type": "code",
   "execution_count": null,
   "metadata": {},
   "outputs": [],
   "source": [
    "#| hide\n",
    "def im_files(dir):\n",
    "    ims = L(str(i) for i in L(dir.glob('**/*.png')))\n",
    "    pd = pd.DataFrame({\"fn\" : ims})\n",
    "    pd.to_csv(\"imgs.csv\", index=False)\n",
    "\n",
    "#im_file(dir)\n"
   ]
  },
  {
   "cell_type": "code",
   "execution_count": 30,
   "metadata": {},
   "outputs": [],
   "source": [
    "#| hide\n",
    "import nbdev; nbdev.nbdev_export()"
   ]
  },
  {
   "cell_type": "code",
   "execution_count": null,
   "metadata": {},
   "outputs": [],
   "source": []
  }
 ],
 "metadata": {
  "kernelspec": {
   "display_name": "Python 3 (ipykernel)",
   "language": "python",
   "name": "python3"
  }
 },
 "nbformat": 4,
 "nbformat_minor": 4
}
