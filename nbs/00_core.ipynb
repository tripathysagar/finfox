{
 "cells": [
  {
   "cell_type": "markdown",
   "metadata": {},
   "source": [
    "# core\n",
    "\n",
    "> Fill in a module description here"
   ]
  },
  {
   "cell_type": "code",
   "execution_count": null,
   "metadata": {},
   "outputs": [],
   "source": [
    "#| default_exp core"
   ]
  },
  {
   "cell_type": "code",
   "execution_count": null,
   "metadata": {},
   "outputs": [],
   "source": [
    "#| hide\n",
    "from nbdev.showdoc import *"
   ]
  },
  {
   "cell_type": "code",
   "execution_count": null,
   "metadata": {},
   "outputs": [],
   "source": [
    "#| export \n",
    "import httpx\n",
    "import zipfile\n",
    "from fastcore.all import *\n",
    "import pandas as pd"
   ]
  },
  {
   "cell_type": "code",
   "execution_count": null,
   "metadata": {},
   "outputs": [
    {
     "data": {
      "text/html": [
       "<div>\n",
       "<style scoped>\n",
       "    .dataframe tbody tr th:only-of-type {\n",
       "        vertical-align: middle;\n",
       "    }\n",
       "\n",
       "    .dataframe tbody tr th {\n",
       "        vertical-align: top;\n",
       "    }\n",
       "\n",
       "    .dataframe thead th {\n",
       "        text-align: right;\n",
       "    }\n",
       "</style>\n",
       "<table border=\"1\" class=\"dataframe\">\n",
       "  <thead>\n",
       "    <tr style=\"text-align: right;\">\n",
       "      <th></th>\n",
       "      <th>TATAMOTORS</th>\n",
       "      <th>ASHOKLEY</th>\n",
       "      <th>OLECTRA</th>\n",
       "      <th>FORCEMOT</th>\n",
       "      <th>SMLISUZU</th>\n",
       "    </tr>\n",
       "  </thead>\n",
       "  <tbody>\n",
       "    <tr>\n",
       "      <th>Financial Year 2024</th>\n",
       "      <td>https://www.bseindia.com/stockinfo/AnnPdfOpen....</td>\n",
       "      <td>https://www.bseindia.com/stockinfo/AnnPdfOpen....</td>\n",
       "      <td>https://www.bseindia.com/stockinfo/AnnPdfOpen....</td>\n",
       "      <td>https://www.bseindia.com/stockinfo/AnnPdfOpen....</td>\n",
       "      <td>https://www.bseindia.com/stockinfo/AnnPdfOpen....</td>\n",
       "    </tr>\n",
       "    <tr>\n",
       "      <th>Financial Year 2023</th>\n",
       "      <td>https://www.bseindia.com/stockinfo/AnnPdfOpen....</td>\n",
       "      <td>https://www.bseindia.com/stockinfo/AnnPdfOpen....</td>\n",
       "      <td>https://www.bseindia.com/stockinfo/AnnPdfOpen....</td>\n",
       "      <td>https://www.bseindia.com/stockinfo/AnnPdfOpen....</td>\n",
       "      <td>https://www.bseindia.com/stockinfo/AnnPdfOpen....</td>\n",
       "    </tr>\n",
       "    <tr>\n",
       "      <th>Financial Year 2022</th>\n",
       "      <td>https://www.bseindia.com/bseplus/AnnualReport/...</td>\n",
       "      <td>https://www.bseindia.com/bseplus/AnnualReport/...</td>\n",
       "      <td>https://www.bseindia.com/bseplus/AnnualReport/...</td>\n",
       "      <td>https://www.bseindia.com/bseplus/AnnualReport/...</td>\n",
       "      <td>https://www.bseindia.com/bseplus/AnnualReport/...</td>\n",
       "    </tr>\n",
       "    <tr>\n",
       "      <th>Financial Year 2021</th>\n",
       "      <td>https://www.bseindia.com/bseplus/AnnualReport/...</td>\n",
       "      <td>https://www.bseindia.com/bseplus/AnnualReport/...</td>\n",
       "      <td>https://www.bseindia.com/bseplus/AnnualReport/...</td>\n",
       "      <td>https://www.bseindia.com/bseplus/AnnualReport/...</td>\n",
       "      <td>https://www.bseindia.com/bseplus/AnnualReport/...</td>\n",
       "    </tr>\n",
       "    <tr>\n",
       "      <th>Financial Year 2020</th>\n",
       "      <td>https://www.bseindia.com/bseplus/AnnualReport/...</td>\n",
       "      <td>https://www.bseindia.com/bseplus/AnnualReport/...</td>\n",
       "      <td>https://www.bseindia.com/bseplus/AnnualReport/...</td>\n",
       "      <td>https://www.bseindia.com/bseplus/AnnualReport/...</td>\n",
       "      <td>https://www.bseindia.com/bseplus/AnnualReport/...</td>\n",
       "    </tr>\n",
       "  </tbody>\n",
       "</table>\n",
       "</div>"
      ],
      "text/plain": [
       "                                                            TATAMOTORS  \\\n",
       "Financial Year 2024  https://www.bseindia.com/stockinfo/AnnPdfOpen....   \n",
       "Financial Year 2023  https://www.bseindia.com/stockinfo/AnnPdfOpen....   \n",
       "Financial Year 2022  https://www.bseindia.com/bseplus/AnnualReport/...   \n",
       "Financial Year 2021  https://www.bseindia.com/bseplus/AnnualReport/...   \n",
       "Financial Year 2020  https://www.bseindia.com/bseplus/AnnualReport/...   \n",
       "\n",
       "                                                              ASHOKLEY  \\\n",
       "Financial Year 2024  https://www.bseindia.com/stockinfo/AnnPdfOpen....   \n",
       "Financial Year 2023  https://www.bseindia.com/stockinfo/AnnPdfOpen....   \n",
       "Financial Year 2022  https://www.bseindia.com/bseplus/AnnualReport/...   \n",
       "Financial Year 2021  https://www.bseindia.com/bseplus/AnnualReport/...   \n",
       "Financial Year 2020  https://www.bseindia.com/bseplus/AnnualReport/...   \n",
       "\n",
       "                                                               OLECTRA  \\\n",
       "Financial Year 2024  https://www.bseindia.com/stockinfo/AnnPdfOpen....   \n",
       "Financial Year 2023  https://www.bseindia.com/stockinfo/AnnPdfOpen....   \n",
       "Financial Year 2022  https://www.bseindia.com/bseplus/AnnualReport/...   \n",
       "Financial Year 2021  https://www.bseindia.com/bseplus/AnnualReport/...   \n",
       "Financial Year 2020  https://www.bseindia.com/bseplus/AnnualReport/...   \n",
       "\n",
       "                                                              FORCEMOT  \\\n",
       "Financial Year 2024  https://www.bseindia.com/stockinfo/AnnPdfOpen....   \n",
       "Financial Year 2023  https://www.bseindia.com/stockinfo/AnnPdfOpen....   \n",
       "Financial Year 2022  https://www.bseindia.com/bseplus/AnnualReport/...   \n",
       "Financial Year 2021  https://www.bseindia.com/bseplus/AnnualReport/...   \n",
       "Financial Year 2020  https://www.bseindia.com/bseplus/AnnualReport/...   \n",
       "\n",
       "                                                              SMLISUZU  \n",
       "Financial Year 2024  https://www.bseindia.com/stockinfo/AnnPdfOpen....  \n",
       "Financial Year 2023  https://www.bseindia.com/stockinfo/AnnPdfOpen....  \n",
       "Financial Year 2022  https://www.bseindia.com/bseplus/AnnualReport/...  \n",
       "Financial Year 2021  https://www.bseindia.com/bseplus/AnnualReport/...  \n",
       "Financial Year 2020  https://www.bseindia.com/bseplus/AnnualReport/...  "
      ]
     },
     "execution_count": null,
     "metadata": {},
     "output_type": "execute_result"
    }
   ],
   "source": [
    "#| hide \n",
    "df = pd.read_csv(\"company1.csv\", index_col=0)\n",
    "df.head()"
   ]
  },
  {
   "cell_type": "code",
   "execution_count": null,
   "metadata": {},
   "outputs": [],
   "source": [
    "#| export\n",
    "def make_dirs(base, df):\n",
    "    base.mkdir(exist_ok=True)\n",
    "    for c in df.columns:\n",
    "        dir = base/c\n",
    "        dir.mkdir(exist_ok=True)\n",
    "        for i in df.index:\n",
    "            if \"Right \" not in i:\n",
    "                (dir/i).mkdir(exist_ok=True)"
   ]
  },
  {
   "cell_type": "code",
   "execution_count": null,
   "metadata": {},
   "outputs": [],
   "source": [
    "make_dirs(Path(\"result\"), df)"
   ]
  },
  {
   "cell_type": "code",
   "execution_count": null,
   "metadata": {},
   "outputs": [
    {
     "data": {
      "text/plain": [
       "'https://www.bseindia.com/stockinfo/AnnPdfOpen.aspx?Pname=0913b647-b205-4a3c-ad9b-8c493f97f972.pdf'"
      ]
     },
     "execution_count": null,
     "metadata": {},
     "output_type": "execute_result"
    }
   ],
   "source": [
    "df.iloc[0][\"TATAMOTORS\"]"
   ]
  },
  {
   "cell_type": "code",
   "execution_count": null,
   "metadata": {},
   "outputs": [
    {
     "data": {
      "text/plain": [
       "(Index(['TATAMOTORS', 'ASHOKLEY', 'OLECTRA', 'FORCEMOT', 'SMLISUZU'], dtype='object'),\n",
       " Index(['Financial Year 2024', 'Financial Year 2023', 'Financial Year 2022',\n",
       "        'Financial Year 2021', 'Financial Year 2020', 'Financial Year 2019',\n",
       "        'Financial Year 2018', 'Financial Year 2017', 'Financial Year 2016',\n",
       "        'Financial Year 2015', 'Financial Year 2014', 'Financial Year 2013',\n",
       "        'Financial Year 2012', 'Financial Year 2011', 'Right Issue',\n",
       "        'Financial Year 2010'],\n",
       "       dtype='object'),\n",
       " 'TATAMOTORS',\n",
       " 'Financial Year 2024')"
      ]
     },
     "execution_count": null,
     "metadata": {},
     "output_type": "execute_result"
    }
   ],
   "source": [
    "col, row = df.columns, df.index\n",
    "col, row, col[0], row[0]"
   ]
  },
  {
   "cell_type": "code",
   "execution_count": null,
   "metadata": {},
   "outputs": [],
   "source": [
    "#| export \n",
    "def download_url(url, fn):\n",
    "    \"\"\"\n",
    "    download given url and write it a given fn\n",
    "    \"\"\"\n",
    "    res = httpx.get(url)\n",
    "    if res.status_code == 200:\n",
    "        with open(fn, 'wb') as f:\n",
    "            fn.write_bytes(res.content)\n",
    "        return True\n",
    "    else:\n",
    "        print(f\"Error downloading: Status code {res.status_code}\")\n",
    "        return False"
   ]
  },
  {
   "cell_type": "code",
   "execution_count": null,
   "metadata": {},
   "outputs": [],
   "source": [
    "#| hide\n",
    "!mkdir t"
   ]
  },
  {
   "cell_type": "code",
   "execution_count": null,
   "metadata": {},
   "outputs": [
    {
     "data": {
      "text/plain": [
       "True"
      ]
     },
     "execution_count": null,
     "metadata": {},
     "output_type": "execute_result"
    }
   ],
   "source": [
    "url = \"https://archives.nseindia.com/annual_reports/AR_ASHOKLEY_2009_2010_18082010121500.zip\"\n",
    "download_url(url, Path(\"t/temp.zip\"))"
   ]
  },
  {
   "cell_type": "code",
   "execution_count": null,
   "metadata": {},
   "outputs": [],
   "source": [
    "#| export\n",
    "def rn_zip_extract(zipf, fn):\n",
    "    \"\"\"\n",
    "    Donwload and extract the given files with filename fn \n",
    "    \"\"\"\n",
    "    home = Path(zipf).parent\n",
    "    with zipfile.ZipFile(zipf, 'r') as zip_ref:\n",
    "        f = zip_ref.namelist()[0]\n",
    "        zip_ref.extractall(path=home)\n",
    "        fi = home/f\n",
    "        fi.rename(fn)\n"
   ]
  },
  {
   "cell_type": "code",
   "execution_count": null,
   "metadata": {},
   "outputs": [],
   "source": [
    "rn_zip_extract(Path(\"t/temp.zip\"), Path(\"t/i.pdf\" ))"
   ]
  },
  {
   "cell_type": "code",
   "execution_count": null,
   "metadata": {},
   "outputs": [
    {
     "name": "stdout",
     "output_type": "stream",
     "text": [
      "i.pdf  temp.zip\n"
     ]
    }
   ],
   "source": [
    "#| hide\n",
    "!ls t\n",
    "!rm -rf t"
   ]
  },
  {
   "cell_type": "code",
   "execution_count": null,
   "metadata": {},
   "outputs": [],
   "source": [
    "#| export \n",
    "def download_rename(url, fn, dir):\n",
    "    \"\"\"\n",
    "    download given url and rename the file only handles zip and pdf\n",
    "    \"\"\"\n",
    "    fn, dir = Path(fn), Path(dir)\n",
    "    dir.mkdir(exist_ok=True)\n",
    "    fn = dir/fn\n",
    "    if \".zip\" in url:\n",
    "        zip = dir/\"temp.zip\"\n",
    "        download_url(url, zip)\n",
    "        rn_zip_extract(zip, fn)\n",
    "        Path(dir/\"temp.zip\").unlink()\n",
    "    elif \".pdf\" in url:\n",
    "        download_url(url, fn)"
   ]
  },
  {
   "cell_type": "code",
   "execution_count": null,
   "metadata": {},
   "outputs": [],
   "source": [
    "download_rename(url, \"i.pdf\", \"t\")"
   ]
  },
  {
   "cell_type": "code",
   "execution_count": null,
   "metadata": {},
   "outputs": [],
   "source": [
    "#| export \n",
    "from pdf2image import convert_from_path\n",
    "from PIL.PpmImagePlugin import PpmImageFile\n",
    "pdf2img = lambda x : convert_from_path(str(x), dpi=250)"
   ]
  },
  {
   "cell_type": "code",
   "execution_count": null,
   "metadata": {},
   "outputs": [],
   "source": [
    "im = pdf2img(Path(\"t/i.pdf\"))\n",
    "assert type(im) == list\n",
    "assert type(im[0]) == PpmImageFile"
   ]
  },
  {
   "cell_type": "code",
   "execution_count": null,
   "metadata": {},
   "outputs": [],
   "source": [
    "#| export \n",
    "def save_md(fn: str, txt: str):\n",
    "    \"\"\"\n",
    "    Writes the given text to a markdown file as binary (UTF-8 encoded).\n",
    "    Parameters:\n",
    "    fn (str): Filename or path to save the markdown file.\n",
    "    txt (str): Content to write to the file.\n",
    "    \"\"\"\n",
    "    try:\n",
    "        # Open the file in binary write mode and encode the text to bytes\n",
    "        with open(fn, 'wb') as f:\n",
    "            f.write(txt.encode('utf-8'))\n",
    "    except Exception as e:\n",
    "        print(f\"Error writing to file {fn}: {e}\")\n",
    "    "
   ]
  },
  {
   "cell_type": "code",
   "execution_count": null,
   "metadata": {},
   "outputs": [],
   "source": [
    "save_md(\"temp.md\", \"yo yo\")\n",
    "p = Path(\"temp.md\")\n",
    "assert p.is_file()"
   ]
  },
  {
   "cell_type": "code",
   "execution_count": null,
   "metadata": {},
   "outputs": [],
   "source": [
    "!rm -rf temp.md"
   ]
  },
  {
   "cell_type": "code",
   "execution_count": null,
   "metadata": {},
   "outputs": [],
   "source": [
    "#| export\n",
    "import math \n",
    "from PIL import Image\n",
    "def qwen_resize(im:Image.Image, limit:int=1280*28*28, fn:str=\"temp.png\" ):\n",
    "    \"\"\"\n",
    "    check if the image of size `1280*28*28` which is the upper limit of image can be processed by \n",
    "    **QWEN VLM**.\n",
    "    \"\"\"\n",
    "    w, h = im.size\n",
    "\n",
    "    sf = math.sqrt( limit/(w*h))\n",
    "    if sf < 1.:\n",
    "        nw = int(w * sf)\n",
    "        nh = int(h * sf)\n",
    "        im = im.resize((nw,nh), Image.BICUBIC)\n",
    "\n",
    "    im.save(fn)"
   ]
  },
  {
   "cell_type": "code",
   "execution_count": null,
   "metadata": {},
   "outputs": [],
   "source": [
    "qwen_resize(im[0])\n",
    "img = Image.open(\"temp.png\")\n",
    "assert img.size[0] < im[0].size[0] and img.size[1] < im[0].size[1]"
   ]
  },
  {
   "cell_type": "code",
   "execution_count": null,
   "metadata": {},
   "outputs": [],
   "source": [
    "#| hide\n",
    "!rm -rf t temp.png"
   ]
  },
  {
   "cell_type": "code",
   "execution_count": null,
   "metadata": {},
   "outputs": [],
   "source": [
    "#| hide\n",
    "import nbdev; nbdev.nbdev_export()"
   ]
  },
  {
   "cell_type": "code",
   "execution_count": null,
   "metadata": {},
   "outputs": [],
   "source": []
  }
 ],
 "metadata": {
  "kernelspec": {
   "display_name": "python3",
   "language": "python",
   "name": "python3"
  }
 },
 "nbformat": 4,
 "nbformat_minor": 4
}
