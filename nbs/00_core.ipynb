{
 "cells": [
  {
   "cell_type": "markdown",
   "metadata": {},
   "source": [
    "# core\n",
    "\n",
    "> Fill in a module description here"
   ]
  },
  {
   "cell_type": "code",
   "execution_count": null,
   "metadata": {},
   "outputs": [],
   "source": [
    "#| default_exp core"
   ]
  },
  {
   "cell_type": "code",
   "execution_count": null,
   "metadata": {},
   "outputs": [],
   "source": [
    "#| hide\n",
    "from nbdev.showdoc import *"
   ]
  },
  {
   "cell_type": "code",
   "execution_count": null,
   "metadata": {},
   "outputs": [],
   "source": [
    "#| export \n",
    "import httpx\n",
    "import zipfile\n",
    "from fastcore.all import *\n",
    "from fastcore.utils import *\n",
    "import pandas as pd"
   ]
  },
  {
   "cell_type": "code",
   "execution_count": null,
   "metadata": {},
   "outputs": [
    {
     "data": {
      "text/html": [
       "<div>\n",
       "<style scoped>\n",
       "    .dataframe tbody tr th:only-of-type {\n",
       "        vertical-align: middle;\n",
       "    }\n",
       "\n",
       "    .dataframe tbody tr th {\n",
       "        vertical-align: top;\n",
       "    }\n",
       "\n",
       "    .dataframe thead th {\n",
       "        text-align: right;\n",
       "    }\n",
       "</style>\n",
       "<table border=\"1\" class=\"dataframe\">\n",
       "  <thead>\n",
       "    <tr style=\"text-align: right;\">\n",
       "      <th></th>\n",
       "      <th>TATAMOTORS</th>\n",
       "      <th>ASHOKLEY</th>\n",
       "      <th>OLECTRA</th>\n",
       "      <th>FORCEMOT</th>\n",
       "      <th>SMLISUZU</th>\n",
       "    </tr>\n",
       "  </thead>\n",
       "  <tbody>\n",
       "    <tr>\n",
       "      <th>Financial Year 2024</th>\n",
       "      <td>https://www.bseindia.com/stockinfo/AnnPdfOpen....</td>\n",
       "      <td>https://www.bseindia.com/stockinfo/AnnPdfOpen....</td>\n",
       "      <td>https://www.bseindia.com/stockinfo/AnnPdfOpen....</td>\n",
       "      <td>https://www.bseindia.com/stockinfo/AnnPdfOpen....</td>\n",
       "      <td>https://www.bseindia.com/stockinfo/AnnPdfOpen....</td>\n",
       "    </tr>\n",
       "    <tr>\n",
       "      <th>Financial Year 2023</th>\n",
       "      <td>https://www.bseindia.com/stockinfo/AnnPdfOpen....</td>\n",
       "      <td>https://www.bseindia.com/stockinfo/AnnPdfOpen....</td>\n",
       "      <td>https://www.bseindia.com/stockinfo/AnnPdfOpen....</td>\n",
       "      <td>https://www.bseindia.com/stockinfo/AnnPdfOpen....</td>\n",
       "      <td>https://www.bseindia.com/stockinfo/AnnPdfOpen....</td>\n",
       "    </tr>\n",
       "    <tr>\n",
       "      <th>Financial Year 2022</th>\n",
       "      <td>https://www.bseindia.com/bseplus/AnnualReport/...</td>\n",
       "      <td>https://www.bseindia.com/bseplus/AnnualReport/...</td>\n",
       "      <td>https://www.bseindia.com/bseplus/AnnualReport/...</td>\n",
       "      <td>https://www.bseindia.com/bseplus/AnnualReport/...</td>\n",
       "      <td>https://www.bseindia.com/bseplus/AnnualReport/...</td>\n",
       "    </tr>\n",
       "    <tr>\n",
       "      <th>Financial Year 2021</th>\n",
       "      <td>https://www.bseindia.com/bseplus/AnnualReport/...</td>\n",
       "      <td>https://www.bseindia.com/bseplus/AnnualReport/...</td>\n",
       "      <td>https://www.bseindia.com/bseplus/AnnualReport/...</td>\n",
       "      <td>https://www.bseindia.com/bseplus/AnnualReport/...</td>\n",
       "      <td>https://www.bseindia.com/bseplus/AnnualReport/...</td>\n",
       "    </tr>\n",
       "    <tr>\n",
       "      <th>Financial Year 2020</th>\n",
       "      <td>https://www.bseindia.com/bseplus/AnnualReport/...</td>\n",
       "      <td>https://www.bseindia.com/bseplus/AnnualReport/...</td>\n",
       "      <td>https://www.bseindia.com/bseplus/AnnualReport/...</td>\n",
       "      <td>https://www.bseindia.com/bseplus/AnnualReport/...</td>\n",
       "      <td>https://www.bseindia.com/bseplus/AnnualReport/...</td>\n",
       "    </tr>\n",
       "  </tbody>\n",
       "</table>\n",
       "</div>"
      ],
      "text/plain": [
       "                                                            TATAMOTORS  \\\n",
       "Financial Year 2024  https://www.bseindia.com/stockinfo/AnnPdfOpen....   \n",
       "Financial Year 2023  https://www.bseindia.com/stockinfo/AnnPdfOpen....   \n",
       "Financial Year 2022  https://www.bseindia.com/bseplus/AnnualReport/...   \n",
       "Financial Year 2021  https://www.bseindia.com/bseplus/AnnualReport/...   \n",
       "Financial Year 2020  https://www.bseindia.com/bseplus/AnnualReport/...   \n",
       "\n",
       "                                                              ASHOKLEY  \\\n",
       "Financial Year 2024  https://www.bseindia.com/stockinfo/AnnPdfOpen....   \n",
       "Financial Year 2023  https://www.bseindia.com/stockinfo/AnnPdfOpen....   \n",
       "Financial Year 2022  https://www.bseindia.com/bseplus/AnnualReport/...   \n",
       "Financial Year 2021  https://www.bseindia.com/bseplus/AnnualReport/...   \n",
       "Financial Year 2020  https://www.bseindia.com/bseplus/AnnualReport/...   \n",
       "\n",
       "                                                               OLECTRA  \\\n",
       "Financial Year 2024  https://www.bseindia.com/stockinfo/AnnPdfOpen....   \n",
       "Financial Year 2023  https://www.bseindia.com/stockinfo/AnnPdfOpen....   \n",
       "Financial Year 2022  https://www.bseindia.com/bseplus/AnnualReport/...   \n",
       "Financial Year 2021  https://www.bseindia.com/bseplus/AnnualReport/...   \n",
       "Financial Year 2020  https://www.bseindia.com/bseplus/AnnualReport/...   \n",
       "\n",
       "                                                              FORCEMOT  \\\n",
       "Financial Year 2024  https://www.bseindia.com/stockinfo/AnnPdfOpen....   \n",
       "Financial Year 2023  https://www.bseindia.com/stockinfo/AnnPdfOpen....   \n",
       "Financial Year 2022  https://www.bseindia.com/bseplus/AnnualReport/...   \n",
       "Financial Year 2021  https://www.bseindia.com/bseplus/AnnualReport/...   \n",
       "Financial Year 2020  https://www.bseindia.com/bseplus/AnnualReport/...   \n",
       "\n",
       "                                                              SMLISUZU  \n",
       "Financial Year 2024  https://www.bseindia.com/stockinfo/AnnPdfOpen....  \n",
       "Financial Year 2023  https://www.bseindia.com/stockinfo/AnnPdfOpen....  \n",
       "Financial Year 2022  https://www.bseindia.com/bseplus/AnnualReport/...  \n",
       "Financial Year 2021  https://www.bseindia.com/bseplus/AnnualReport/...  \n",
       "Financial Year 2020  https://www.bseindia.com/bseplus/AnnualReport/...  "
      ]
     },
     "execution_count": null,
     "metadata": {},
     "output_type": "execute_result"
    }
   ],
   "source": [
    "#| hide \n",
    "df = pd.read_csv(\"company1.csv\", index_col=0)\n",
    "df.head()"
   ]
  },
  {
   "cell_type": "code",
   "execution_count": null,
   "metadata": {},
   "outputs": [],
   "source": [
    "#| export\n",
    "def make_dirs(base:Path, df:pd.core.frame.DataFrame):\n",
    "    \"\"\"\n",
    "    Takes in base directory make all the directory for given dataframe wrt index and and columns in hierarchy\n",
    "    Example:\n",
    "    If df has columns ['A', 'B'] and index ['X', 'Y'], the following structure is created:\n",
    "    \n",
    "    base/\n",
    "    ├── A/\n",
    "    │   ├── X/\n",
    "    │   └── Y/\n",
    "    └── B/\n",
    "        ├── X/\n",
    "        └── Y/\n",
    "    \"\"\"\n",
    "    base.mkdir(exist_ok=True)\n",
    "    for c in df.columns:\n",
    "        dir = base/c\n",
    "        dir.mkdir(exist_ok=True)\n",
    "        for i in df.index:\n",
    "            if \"Right \" not in i:\n",
    "                (dir/i).mkdir(exist_ok=True)"
   ]
  },
  {
   "cell_type": "markdown",
   "metadata": {},
   "source": [
    "## download url and rename"
   ]
  },
  {
   "cell_type": "code",
   "execution_count": null,
   "metadata": {},
   "outputs": [],
   "source": [
    "dir = Path(\"result\")\n",
    "make_dirs(dir, df)"
   ]
  },
  {
   "cell_type": "code",
   "execution_count": null,
   "metadata": {},
   "outputs": [],
   "source": [
    "#| export \n",
    "import httpx\n",
    "async def download_url(url:str, fn:Path):\n",
    "    \"\"\"\n",
    "    download given url and write it a given fn.\n",
    "    \"\"\"\n",
    "    headers = {\n",
    "    'User-Agent': 'Mozilla/5.0 (Windows NT 10.0; Win64; x64) AppleWebKit/537.36 (KHTML, like Gecko) Chrome/120.0.0.0 Safari/537.36',\n",
    "    'Accept': 'text/html,application/pdf,*/*'\n",
    "    }\n",
    "    timeout = httpx.Timeout(connect=20.0, read=120.0, write=30.0, pool=60.0)\n",
    "\n",
    "    async with httpx.AsyncClient(timeout=30.0, follow_redirects=True) as client:\n",
    "        try:\n",
    "            res = await client.get(url, headers=headers)\n",
    "            if res.status_code == 200:\n",
    "                with open(fn, 'wb') as f:\n",
    "                    f.write(res.content)\n",
    "                return True\n",
    "            else:\n",
    "                print(f\"Error downloading: Status code {res.status_code}\")\n",
    "                return False\n",
    "        except httpx.RequestError as e:\n",
    "            print(f\"Request failed: {e}\")\n",
    "            return False"
   ]
  },
  {
   "cell_type": "code",
   "execution_count": null,
   "metadata": {},
   "outputs": [
    {
     "data": {
      "text/plain": [
       "True"
      ]
     },
     "execution_count": null,
     "metadata": {},
     "output_type": "execute_result"
    }
   ],
   "source": [
    "url = \"https://www.bseindia.com/xml-data/corpfiling/AttachHis/0913b647-b205-4a3c-ad9b-8c493f97f972.pdf\"\n",
    "fn = dir/\"temp.pdf\"\n",
    "await download_url(url, fn)\n",
    "assert fn.is_file()"
   ]
  },
  {
   "cell_type": "code",
   "execution_count": null,
   "metadata": {},
   "outputs": [],
   "source": [
    "url = \"https://archives.nseindia.com/annual_reports/AR_ASHOKLEY_2009_2010_18082010121500.zip\"\n",
    "fn = dir/\"temp.zip\"\n",
    "await download_url(url, fn)\n",
    "assert fn.is_file() "
   ]
  },
  {
   "cell_type": "code",
   "execution_count": null,
   "metadata": {},
   "outputs": [
    {
     "data": {
      "text/plain": [
       "True"
      ]
     },
     "execution_count": null,
     "metadata": {},
     "output_type": "execute_result"
    }
   ],
   "source": [
    "#| hide\n",
    "fn = dir/\"1.pdf\"\n",
    "url = \"https://static-assets.tatamotors.com/Production/www-tatamotors-com-NEW/wp-content/uploads/2024/05/tata-motor-IAR-2023-24.pdf\"\n",
    "await download_url(url, fn)\n",
    "assert fn.is_file()"
   ]
  },
  {
   "cell_type": "code",
   "execution_count": null,
   "metadata": {},
   "outputs": [],
   "source": [
    "#| export\n",
    "def rn_zip_extract(zipf, fn):\n",
    "    \"\"\"\n",
    "    Donwload and extract the given files with filename fn \n",
    "    \"\"\"\n",
    "    home = Path(zipf).parent\n",
    "    with zipfile.ZipFile(zipf, 'r') as zip_ref:\n",
    "        f = zip_ref.namelist()[0]\n",
    "        zip_ref.extractall(path=home)\n",
    "        fi = home/f\n",
    "        fi.rename(fn)"
   ]
  },
  {
   "cell_type": "code",
   "execution_count": null,
   "metadata": {},
   "outputs": [],
   "source": [
    "p = dir/\"i.pdf\"\n",
    "rn_zip_extract(fn, p)\n",
    "assert p.is_file()\n"
   ]
  },
  {
   "cell_type": "code",
   "execution_count": null,
   "metadata": {},
   "outputs": [],
   "source": [
    "#| hide\n",
    "!rm -rf result/*.pdf result/*.zip"
   ]
  },
  {
   "cell_type": "code",
   "execution_count": null,
   "metadata": {},
   "outputs": [],
   "source": [
    "#| export \n",
    "async def download_rename(url, fn, dir):\n",
    "    \"\"\"\n",
    "    download given url and rename the file only handles zip and pdf\n",
    "    \"\"\"\n",
    "    fn, dir = Path(fn), Path(dir)\n",
    "    dir.mkdir(exist_ok=True)\n",
    "\n",
    "    if \".zip\" in url:\n",
    "        zip = dir/\"temp.zip\"\n",
    "        await download_url(url, zip)\n",
    "        rn_zip_extract(zip, fn)\n",
    "        Path(dir/\"temp.zip\").unlink()\n",
    "    elif \".pdf\" in url:\n",
    "        await download_url(url, fn)"
   ]
  },
  {
   "cell_type": "code",
   "execution_count": null,
   "metadata": {},
   "outputs": [
    {
     "data": {
      "text/plain": [
       "(Path('result/1.pdf'), Path('result'))"
      ]
     },
     "execution_count": null,
     "metadata": {},
     "output_type": "execute_result"
    }
   ],
   "source": [
    "fn, dir"
   ]
  },
  {
   "cell_type": "code",
   "execution_count": null,
   "metadata": {},
   "outputs": [],
   "source": [
    "await download_rename(url, fn, dir)\n",
    "assert fn.is_file()"
   ]
  },
  {
   "cell_type": "markdown",
   "metadata": {},
   "source": [
    "## Pdf functions"
   ]
  },
  {
   "cell_type": "code",
   "execution_count": null,
   "metadata": {},
   "outputs": [],
   "source": [
    "#| export\n",
    "import PyPDF2\n",
    "\n",
    "def pdfPC(pth):\n",
    "    \"\"\"\n",
    "    given pdf file name returns the no of pages \n",
    "    \"\"\"\n",
    "    with open(pth, 'rb') as f:\n",
    "        reader = PyPDF2.PdfReader(f)\n",
    "        return len(reader.pages)"
   ]
  },
  {
   "cell_type": "code",
   "execution_count": null,
   "metadata": {},
   "outputs": [],
   "source": [
    "PC = pdfPC(fn)\n",
    "assert PC != 0"
   ]
  },
  {
   "cell_type": "code",
   "execution_count": null,
   "metadata": {},
   "outputs": [],
   "source": [
    "#| export \n",
    "from pdf2image import convert_from_path\n",
    "from PIL.PpmImagePlugin import PpmImageFile\n",
    "from typing import Tuple, Callable, List, Optional\n",
    "from PIL import Image"
   ]
  },
  {
   "cell_type": "code",
   "execution_count": null,
   "metadata": {},
   "outputs": [],
   "source": [
    "#| export \n",
    "def pdf2imgOffset(\n",
    "    fn: str, \n",
    "    limit: Tuple[int, int], \n",
    "    transform: Optional[Callable[[Image.Image], Image.Image]] = None,\n",
    "    dir:Optional[Path] = None) -> List[Image.Image]:\n",
    "    \"\"\"\n",
    "    given a pdf file it `fn` and limit -> [first_page, last_page] it return pdf in image\n",
    "    transform: performs the operation on a given image if given\n",
    "    dir: save the images to a file\n",
    "    \"\"\"\n",
    "    fp, lp = limit\n",
    "    ims =  convert_from_path(str(fn), dpi=200, first_page=fp, last_page=lp)\n",
    "    \n",
    "    if transform is not None:\n",
    "        ims = [transform(i) for i in ims]\n",
    "\n",
    "    if dir:\n",
    "        [im.save(dir/\"{0}.png\".format(fp+i)) for i, im in enumerate(ims) ]  \n",
    "    else:  \n",
    "        return ims"
   ]
  },
  {
   "cell_type": "code",
   "execution_count": null,
   "metadata": {},
   "outputs": [],
   "source": [
    "#| export \n",
    "def devide_img(im:Image, n:float=0.5):\n",
    "    \"\"\"\n",
    "    Devide the image by factor `n`\n",
    "    \"\"\"\n",
    "    w, h = im.size\n",
    "    im.thumbnail((int(w*n), int(h*n) ), Image.LANCZOS)\n",
    "    return im"
   ]
  },
  {
   "cell_type": "code",
   "execution_count": null,
   "metadata": {},
   "outputs": [],
   "source": [
    "im1 = pdf2imgOffset(fn, (0, 10)) # reads first 10 pages\n",
    "assert type(im1) == list\n",
    "assert len(im1) == 10"
   ]
  },
  {
   "cell_type": "code",
   "execution_count": null,
   "metadata": {},
   "outputs": [],
   "source": [
    "im2 = pdf2imgOffset(fn, (0, 10), devide_img) # read first 10 pages then dived the image by factor of 0.5\n",
    "assert all([im2[0].size[0] * .5 <= im1[0].size[0], im2[0].size[1] * 0.5 <= im1[0].size[1]])"
   ]
  },
  {
   "cell_type": "code",
   "execution_count": null,
   "metadata": {},
   "outputs": [],
   "source": [
    "im2 = pdf2imgOffset(fn, (0, 10), devide_img, dir) # read 10 pages, device the image and save it to dir\n",
    "assert all([(dir/f\"{i}.png\").is_file() for i in range(10)])"
   ]
  },
  {
   "cell_type": "code",
   "execution_count": null,
   "metadata": {},
   "outputs": [
    {
     "data": {
      "text/plain": [
       "[None, None, None, None, None, None, None, None, None, None]"
      ]
     },
     "execution_count": null,
     "metadata": {},
     "output_type": "execute_result"
    }
   ],
   "source": [
    "#| hide\n",
    "[(dir/f\"{i}.png\").unlink() for i in range(10)]"
   ]
  },
  {
   "cell_type": "code",
   "execution_count": null,
   "metadata": {},
   "outputs": [],
   "source": [
    "from math import ceil\n",
    "\n",
    "def pdf2img(_process_chunk:Callable, pdf_path:Path, offset:int, n_workers:int=4):\n",
    "    \n",
    "    PC = pdfPC(pdf_path)\n",
    "    li = [(0, offset) if i == 0 else (i * offset + 1, i * offset + offset) for i in range(ceil(PC/offset))]\n",
    "    print(li)\n",
    "    \n",
    "    return parallel(_process_chunk, li, progress=True, n_workers=n_workers), li"
   ]
  },
  {
   "cell_type": "code",
   "execution_count": null,
   "metadata": {},
   "outputs": [],
   "source": [
    "def _process_chunk(offset):\n",
    "    return pdf2imgOffset(fn=fn, limit=offset, transform=devide_img, dir=dir)"
   ]
  },
  {
   "cell_type": "code",
   "execution_count": null,
   "metadata": {},
   "outputs": [
    {
     "name": "stdout",
     "output_type": "stream",
     "text": [
      "[(0, 10), (11, 20), (21, 30), (31, 40), (41, 50), (51, 60), (61, 70), (71, 80), (81, 90), (91, 100), (101, 110), (111, 120), (121, 130), (131, 140), (141, 150), (151, 160), (161, 170), (171, 180), (181, 190), (191, 200), (201, 210), (211, 220), (221, 230), (231, 240), (241, 250), (251, 260), (261, 270), (271, 280), (281, 290), (291, 300), (301, 310), (311, 320), (321, 330), (331, 340), (341, 350), (351, 360), (361, 370), (371, 380), (381, 390), (391, 400), (401, 410), (411, 420), (421, 430), (431, 440), (441, 450), (451, 460), (461, 470), (471, 480), (481, 490), (491, 500), (501, 510), (511, 520), (521, 530)]\n"
     ]
    },
    {
     "data": {
      "text/html": [
       "\n",
       "<style>\n",
       "    /* Turns off some styling */\n",
       "    progress {\n",
       "        /* gets rid of default border in Firefox and Opera. */\n",
       "        border: none;\n",
       "        /* Needs to be in here for Safari polyfill so background images work as expected. */\n",
       "        background-size: auto;\n",
       "    }\n",
       "    progress:not([value]), progress:not([value])::-webkit-progress-bar {\n",
       "        background: repeating-linear-gradient(45deg, #7e7e7e, #7e7e7e 10px, #5c5c5c 10px, #5c5c5c 20px);\n",
       "    }\n",
       "    .progress-bar-interrupted, .progress-bar-interrupted::-webkit-progress-bar {\n",
       "        background: #F44336;\n",
       "    }\n",
       "</style>\n"
      ],
      "text/plain": [
       "<IPython.core.display.HTML object>"
      ]
     },
     "metadata": {},
     "output_type": "display_data"
    },
    {
     "data": {
      "text/html": [],
      "text/plain": [
       "<IPython.core.display.HTML object>"
      ]
     },
     "metadata": {},
     "output_type": "display_data"
    }
   ],
   "source": [
    "ims, li = pdf2img(_process_chunk, fn, 10)\n",
    "assert all([all([(dir/f\"{i}.png\").is_file() for i in range(a[0], a[1])]) for a in li])"
   ]
  },
  {
   "cell_type": "code",
   "execution_count": null,
   "metadata": {},
   "outputs": [],
   "source": [
    "#| hide\n",
    "!rm result/*.png"
   ]
  },
  {
   "cell_type": "markdown",
   "metadata": {},
   "source": [
    "## Save file to md file"
   ]
  },
  {
   "cell_type": "code",
   "execution_count": null,
   "metadata": {},
   "outputs": [],
   "source": [
    "#| export \n",
    "def save_md(fn: str, txt: str):\n",
    "    \"\"\"\n",
    "    Writes the given text to a markdown file as binary (UTF-8 encoded).\n",
    "    Parameters:\n",
    "    fn (str): Filename or path to save the markdown file.\n",
    "    txt (str): Content to write to the file.\n",
    "    \"\"\"\n",
    "    try:\n",
    "        # Open the file in binary write mode and encode the text to bytes\n",
    "        with open(fn, 'wb') as f:\n",
    "            f.write(txt.encode('utf-8'))\n",
    "    except Exception as e:\n",
    "        print(f\"Error writing to file {fn}: {e}\")\n",
    "    "
   ]
  },
  {
   "cell_type": "code",
   "execution_count": null,
   "metadata": {},
   "outputs": [],
   "source": [
    "fn = dir/\"temp.md\"\n",
    "save_md(fn, \"# h1\\n- 1\\n- 2\")\n",
    "assert fn.is_file()"
   ]
  },
  {
   "cell_type": "code",
   "execution_count": null,
   "metadata": {},
   "outputs": [],
   "source": [
    "#| hide\n",
    "!rm -rf  result/"
   ]
  },
  {
   "cell_type": "code",
   "execution_count": null,
   "metadata": {},
   "outputs": [
    {
     "ename": "JSONDecodeError",
     "evalue": "Expecting value: line 1 column 1 (char 0)",
     "output_type": "error",
     "traceback": [
      "\u001b[0;31m---------------------------------------------------------------------------\u001b[0m",
      "\u001b[0;31mJSONDecodeError\u001b[0m                           Traceback (most recent call last)",
      "Cell \u001b[0;32mIn[98], line 2\u001b[0m\n\u001b[1;32m      1\u001b[0m \u001b[38;5;66;03m#| hide\u001b[39;00m\n\u001b[0;32m----> 2\u001b[0m \u001b[38;5;28;01mimport\u001b[39;00m \u001b[38;5;21;01mnbdev\u001b[39;00m; nbdev\u001b[38;5;241m.\u001b[39mnbdev_export()\n",
      "File \u001b[0;32m~/miniconda3/lib/python3.12/site-packages/fastcore/script.py:112\u001b[0m, in \u001b[0;36mcall_parse.<locals>._f\u001b[0;34m(*args, **kwargs)\u001b[0m\n\u001b[1;32m    109\u001b[0m \u001b[38;5;129m@wraps\u001b[39m(func)\n\u001b[1;32m    110\u001b[0m \u001b[38;5;28;01mdef\u001b[39;00m \u001b[38;5;21m_f\u001b[39m(\u001b[38;5;241m*\u001b[39margs, \u001b[38;5;241m*\u001b[39m\u001b[38;5;241m*\u001b[39mkwargs):\n\u001b[1;32m    111\u001b[0m     mod \u001b[38;5;241m=\u001b[39m inspect\u001b[38;5;241m.\u001b[39mgetmodule(inspect\u001b[38;5;241m.\u001b[39mcurrentframe()\u001b[38;5;241m.\u001b[39mf_back)\n\u001b[0;32m--> 112\u001b[0m     \u001b[38;5;28;01mif\u001b[39;00m \u001b[38;5;129;01mnot\u001b[39;00m mod: \u001b[38;5;28;01mreturn\u001b[39;00m \u001b[43mfunc\u001b[49m\u001b[43m(\u001b[49m\u001b[38;5;241;43m*\u001b[39;49m\u001b[43margs\u001b[49m\u001b[43m,\u001b[49m\u001b[43m \u001b[49m\u001b[38;5;241;43m*\u001b[39;49m\u001b[38;5;241;43m*\u001b[39;49m\u001b[43mkwargs\u001b[49m\u001b[43m)\u001b[49m\n\u001b[1;32m    113\u001b[0m     \u001b[38;5;28;01mif\u001b[39;00m \u001b[38;5;129;01mnot\u001b[39;00m SCRIPT_INFO\u001b[38;5;241m.\u001b[39mfunc \u001b[38;5;129;01mand\u001b[39;00m mod\u001b[38;5;241m.\u001b[39m\u001b[38;5;18m__name__\u001b[39m\u001b[38;5;241m==\u001b[39m\u001b[38;5;124m\"\u001b[39m\u001b[38;5;124m__main__\u001b[39m\u001b[38;5;124m\"\u001b[39m: SCRIPT_INFO\u001b[38;5;241m.\u001b[39mfunc \u001b[38;5;241m=\u001b[39m func\u001b[38;5;241m.\u001b[39m\u001b[38;5;18m__name__\u001b[39m\n\u001b[1;32m    114\u001b[0m     \u001b[38;5;28;01mif\u001b[39;00m \u001b[38;5;28mlen\u001b[39m(sys\u001b[38;5;241m.\u001b[39margv)\u001b[38;5;241m>\u001b[39m\u001b[38;5;241m1\u001b[39m \u001b[38;5;129;01mand\u001b[39;00m sys\u001b[38;5;241m.\u001b[39margv[\u001b[38;5;241m1\u001b[39m]\u001b[38;5;241m==\u001b[39m\u001b[38;5;124m'\u001b[39m\u001b[38;5;124m'\u001b[39m: sys\u001b[38;5;241m.\u001b[39margv\u001b[38;5;241m.\u001b[39mpop(\u001b[38;5;241m1\u001b[39m)\n",
      "File \u001b[0;32m~/miniconda3/lib/python3.12/site-packages/nbdev/doclinks.py:155\u001b[0m, in \u001b[0;36mnbdev_export\u001b[0;34m(path, procs, **kwargs)\u001b[0m\n\u001b[1;32m    153\u001b[0m     procs \u001b[38;5;241m=\u001b[39m [\u001b[38;5;28mgetattr\u001b[39m(nbdev\u001b[38;5;241m.\u001b[39mexport, p) \u001b[38;5;28;01mfor\u001b[39;00m p \u001b[38;5;129;01min\u001b[39;00m L(procs)]\n\u001b[1;32m    154\u001b[0m files \u001b[38;5;241m=\u001b[39m nbglob(path\u001b[38;5;241m=\u001b[39mpath, as_path\u001b[38;5;241m=\u001b[39m\u001b[38;5;28;01mTrue\u001b[39;00m, \u001b[38;5;241m*\u001b[39m\u001b[38;5;241m*\u001b[39mkwargs)\u001b[38;5;241m.\u001b[39msorted(\u001b[38;5;124m'\u001b[39m\u001b[38;5;124mname\u001b[39m\u001b[38;5;124m'\u001b[39m)\n\u001b[0;32m--> 155\u001b[0m \u001b[38;5;28;01mfor\u001b[39;00m f \u001b[38;5;129;01min\u001b[39;00m files: \u001b[43mnb_export\u001b[49m\u001b[43m(\u001b[49m\u001b[43mf\u001b[49m\u001b[43m,\u001b[49m\u001b[43m \u001b[49m\u001b[43mprocs\u001b[49m\u001b[38;5;241;43m=\u001b[39;49m\u001b[43mprocs\u001b[49m\u001b[43m)\u001b[49m\n\u001b[1;32m    156\u001b[0m add_init(get_config()\u001b[38;5;241m.\u001b[39mlib_path)\n\u001b[1;32m    157\u001b[0m _build_modidx()\n",
      "File \u001b[0;32m~/miniconda3/lib/python3.12/site-packages/nbdev/export.py:80\u001b[0m, in \u001b[0;36mnb_export\u001b[0;34m(nbname, lib_path, procs, name, mod_maker, debug)\u001b[0m\n\u001b[1;32m     78\u001b[0m \u001b[38;5;28;01mif\u001b[39;00m lib_path \u001b[38;5;129;01mis\u001b[39;00m \u001b[38;5;28;01mNone\u001b[39;00m: lib_path \u001b[38;5;241m=\u001b[39m get_config()\u001b[38;5;241m.\u001b[39mlib_path \u001b[38;5;28;01mif\u001b[39;00m is_nbdev() \u001b[38;5;28;01melse\u001b[39;00m \u001b[38;5;124m'\u001b[39m\u001b[38;5;124m.\u001b[39m\u001b[38;5;124m'\u001b[39m\n\u001b[1;32m     79\u001b[0m exp \u001b[38;5;241m=\u001b[39m ExportModuleProc()\n\u001b[0;32m---> 80\u001b[0m nb \u001b[38;5;241m=\u001b[39m \u001b[43mNBProcessor\u001b[49m\u001b[43m(\u001b[49m\u001b[43mnbname\u001b[49m\u001b[43m,\u001b[49m\u001b[43m \u001b[49m\u001b[43m[\u001b[49m\u001b[43mexp\u001b[49m\u001b[43m]\u001b[49m\u001b[38;5;241;43m+\u001b[39;49m\u001b[43mL\u001b[49m\u001b[43m(\u001b[49m\u001b[43mprocs\u001b[49m\u001b[43m)\u001b[49m\u001b[43m,\u001b[49m\u001b[43m \u001b[49m\u001b[43mdebug\u001b[49m\u001b[38;5;241;43m=\u001b[39;49m\u001b[43mdebug\u001b[49m\u001b[43m)\u001b[49m\n\u001b[1;32m     81\u001b[0m nb\u001b[38;5;241m.\u001b[39mprocess()\n\u001b[1;32m     82\u001b[0m \u001b[38;5;28;01mfor\u001b[39;00m mod,cells \u001b[38;5;129;01min\u001b[39;00m exp\u001b[38;5;241m.\u001b[39mmodules\u001b[38;5;241m.\u001b[39mitems():\n",
      "File \u001b[0;32m~/miniconda3/lib/python3.12/site-packages/nbdev/process.py:95\u001b[0m, in \u001b[0;36mNBProcessor.__init__\u001b[0;34m(self, path, procs, nb, debug, rm_directives, process)\u001b[0m\n\u001b[1;32m     94\u001b[0m \u001b[38;5;28;01mdef\u001b[39;00m \u001b[38;5;21m__init__\u001b[39m(\u001b[38;5;28mself\u001b[39m, path\u001b[38;5;241m=\u001b[39m\u001b[38;5;28;01mNone\u001b[39;00m, procs\u001b[38;5;241m=\u001b[39m\u001b[38;5;28;01mNone\u001b[39;00m, nb\u001b[38;5;241m=\u001b[39m\u001b[38;5;28;01mNone\u001b[39;00m, debug\u001b[38;5;241m=\u001b[39m\u001b[38;5;28;01mFalse\u001b[39;00m, rm_directives\u001b[38;5;241m=\u001b[39m\u001b[38;5;28;01mTrue\u001b[39;00m, process\u001b[38;5;241m=\u001b[39m\u001b[38;5;28;01mFalse\u001b[39;00m):\n\u001b[0;32m---> 95\u001b[0m     \u001b[38;5;28mself\u001b[39m\u001b[38;5;241m.\u001b[39mnb \u001b[38;5;241m=\u001b[39m \u001b[43mread_nb\u001b[49m\u001b[43m(\u001b[49m\u001b[43mpath\u001b[49m\u001b[43m)\u001b[49m \u001b[38;5;28;01mif\u001b[39;00m nb \u001b[38;5;129;01mis\u001b[39;00m \u001b[38;5;28;01mNone\u001b[39;00m \u001b[38;5;28;01melse\u001b[39;00m nb\n\u001b[1;32m     96\u001b[0m     \u001b[38;5;28mself\u001b[39m\u001b[38;5;241m.\u001b[39mlang \u001b[38;5;241m=\u001b[39m nb_lang(\u001b[38;5;28mself\u001b[39m\u001b[38;5;241m.\u001b[39mnb)\n\u001b[1;32m     97\u001b[0m     \u001b[38;5;28;01mfor\u001b[39;00m cell \u001b[38;5;129;01min\u001b[39;00m \u001b[38;5;28mself\u001b[39m\u001b[38;5;241m.\u001b[39mnb\u001b[38;5;241m.\u001b[39mcells: cell\u001b[38;5;241m.\u001b[39mdirectives_ \u001b[38;5;241m=\u001b[39m extract_directives(cell, remove\u001b[38;5;241m=\u001b[39mrm_directives, lang\u001b[38;5;241m=\u001b[39m\u001b[38;5;28mself\u001b[39m\u001b[38;5;241m.\u001b[39mlang)\n",
      "File \u001b[0;32m~/miniconda3/lib/python3.12/site-packages/execnb/nbio.py:57\u001b[0m, in \u001b[0;36mread_nb\u001b[0;34m(path)\u001b[0m\n\u001b[1;32m     55\u001b[0m \u001b[38;5;28;01mdef\u001b[39;00m \u001b[38;5;21mread_nb\u001b[39m(path):\n\u001b[1;32m     56\u001b[0m     \u001b[38;5;124m\"\u001b[39m\u001b[38;5;124mReturn notebook at `path`\u001b[39m\u001b[38;5;124m\"\u001b[39m\n\u001b[0;32m---> 57\u001b[0m     res \u001b[38;5;241m=\u001b[39m dict2nb(\u001b[43m_read_json\u001b[49m\u001b[43m(\u001b[49m\u001b[43mpath\u001b[49m\u001b[43m,\u001b[49m\u001b[43m \u001b[49m\u001b[43mencoding\u001b[49m\u001b[38;5;241;43m=\u001b[39;49m\u001b[38;5;124;43m'\u001b[39;49m\u001b[38;5;124;43mutf-8\u001b[39;49m\u001b[38;5;124;43m'\u001b[39;49m\u001b[43m)\u001b[49m)\n\u001b[1;32m     58\u001b[0m     res[\u001b[38;5;124m'\u001b[39m\u001b[38;5;124mpath_\u001b[39m\u001b[38;5;124m'\u001b[39m] \u001b[38;5;241m=\u001b[39m \u001b[38;5;28mstr\u001b[39m(path)\n\u001b[1;32m     59\u001b[0m     \u001b[38;5;28;01mreturn\u001b[39;00m res\n",
      "File \u001b[0;32m~/miniconda3/lib/python3.12/site-packages/execnb/nbio.py:16\u001b[0m, in \u001b[0;36m_read_json\u001b[0;34m(self, encoding, errors)\u001b[0m\n\u001b[1;32m     15\u001b[0m \u001b[38;5;28;01mdef\u001b[39;00m \u001b[38;5;21m_read_json\u001b[39m(\u001b[38;5;28mself\u001b[39m, encoding\u001b[38;5;241m=\u001b[39m\u001b[38;5;28;01mNone\u001b[39;00m, errors\u001b[38;5;241m=\u001b[39m\u001b[38;5;28;01mNone\u001b[39;00m):\n\u001b[0;32m---> 16\u001b[0m     \u001b[38;5;28;01mreturn\u001b[39;00m \u001b[43mloads\u001b[49m\u001b[43m(\u001b[49m\u001b[43mPath\u001b[49m\u001b[43m(\u001b[49m\u001b[38;5;28;43mself\u001b[39;49m\u001b[43m)\u001b[49m\u001b[38;5;241;43m.\u001b[39;49m\u001b[43mread_text\u001b[49m\u001b[43m(\u001b[49m\u001b[43mencoding\u001b[49m\u001b[38;5;241;43m=\u001b[39;49m\u001b[43mencoding\u001b[49m\u001b[43m,\u001b[49m\u001b[43m \u001b[49m\u001b[43merrors\u001b[49m\u001b[38;5;241;43m=\u001b[39;49m\u001b[43merrors\u001b[49m\u001b[43m)\u001b[49m\u001b[43m)\u001b[49m\n",
      "File \u001b[0;32m~/miniconda3/lib/python3.12/json/__init__.py:346\u001b[0m, in \u001b[0;36mloads\u001b[0;34m(s, cls, object_hook, parse_float, parse_int, parse_constant, object_pairs_hook, **kw)\u001b[0m\n\u001b[1;32m    341\u001b[0m     s \u001b[38;5;241m=\u001b[39m s\u001b[38;5;241m.\u001b[39mdecode(detect_encoding(s), \u001b[38;5;124m'\u001b[39m\u001b[38;5;124msurrogatepass\u001b[39m\u001b[38;5;124m'\u001b[39m)\n\u001b[1;32m    343\u001b[0m \u001b[38;5;28;01mif\u001b[39;00m (\u001b[38;5;28mcls\u001b[39m \u001b[38;5;129;01mis\u001b[39;00m \u001b[38;5;28;01mNone\u001b[39;00m \u001b[38;5;129;01mand\u001b[39;00m object_hook \u001b[38;5;129;01mis\u001b[39;00m \u001b[38;5;28;01mNone\u001b[39;00m \u001b[38;5;129;01mand\u001b[39;00m\n\u001b[1;32m    344\u001b[0m         parse_int \u001b[38;5;129;01mis\u001b[39;00m \u001b[38;5;28;01mNone\u001b[39;00m \u001b[38;5;129;01mand\u001b[39;00m parse_float \u001b[38;5;129;01mis\u001b[39;00m \u001b[38;5;28;01mNone\u001b[39;00m \u001b[38;5;129;01mand\u001b[39;00m\n\u001b[1;32m    345\u001b[0m         parse_constant \u001b[38;5;129;01mis\u001b[39;00m \u001b[38;5;28;01mNone\u001b[39;00m \u001b[38;5;129;01mand\u001b[39;00m object_pairs_hook \u001b[38;5;129;01mis\u001b[39;00m \u001b[38;5;28;01mNone\u001b[39;00m \u001b[38;5;129;01mand\u001b[39;00m \u001b[38;5;129;01mnot\u001b[39;00m kw):\n\u001b[0;32m--> 346\u001b[0m     \u001b[38;5;28;01mreturn\u001b[39;00m \u001b[43m_default_decoder\u001b[49m\u001b[38;5;241;43m.\u001b[39;49m\u001b[43mdecode\u001b[49m\u001b[43m(\u001b[49m\u001b[43ms\u001b[49m\u001b[43m)\u001b[49m\n\u001b[1;32m    347\u001b[0m \u001b[38;5;28;01mif\u001b[39;00m \u001b[38;5;28mcls\u001b[39m \u001b[38;5;129;01mis\u001b[39;00m \u001b[38;5;28;01mNone\u001b[39;00m:\n\u001b[1;32m    348\u001b[0m     \u001b[38;5;28mcls\u001b[39m \u001b[38;5;241m=\u001b[39m JSONDecoder\n",
      "File \u001b[0;32m~/miniconda3/lib/python3.12/json/decoder.py:337\u001b[0m, in \u001b[0;36mJSONDecoder.decode\u001b[0;34m(self, s, _w)\u001b[0m\n\u001b[1;32m    332\u001b[0m \u001b[38;5;28;01mdef\u001b[39;00m \u001b[38;5;21mdecode\u001b[39m(\u001b[38;5;28mself\u001b[39m, s, _w\u001b[38;5;241m=\u001b[39mWHITESPACE\u001b[38;5;241m.\u001b[39mmatch):\n\u001b[1;32m    333\u001b[0m \u001b[38;5;250m    \u001b[39m\u001b[38;5;124;03m\"\"\"Return the Python representation of ``s`` (a ``str`` instance\u001b[39;00m\n\u001b[1;32m    334\u001b[0m \u001b[38;5;124;03m    containing a JSON document).\u001b[39;00m\n\u001b[1;32m    335\u001b[0m \n\u001b[1;32m    336\u001b[0m \u001b[38;5;124;03m    \"\"\"\u001b[39;00m\n\u001b[0;32m--> 337\u001b[0m     obj, end \u001b[38;5;241m=\u001b[39m \u001b[38;5;28;43mself\u001b[39;49m\u001b[38;5;241;43m.\u001b[39;49m\u001b[43mraw_decode\u001b[49m\u001b[43m(\u001b[49m\u001b[43ms\u001b[49m\u001b[43m,\u001b[49m\u001b[43m \u001b[49m\u001b[43midx\u001b[49m\u001b[38;5;241;43m=\u001b[39;49m\u001b[43m_w\u001b[49m\u001b[43m(\u001b[49m\u001b[43ms\u001b[49m\u001b[43m,\u001b[49m\u001b[43m \u001b[49m\u001b[38;5;241;43m0\u001b[39;49m\u001b[43m)\u001b[49m\u001b[38;5;241;43m.\u001b[39;49m\u001b[43mend\u001b[49m\u001b[43m(\u001b[49m\u001b[43m)\u001b[49m\u001b[43m)\u001b[49m\n\u001b[1;32m    338\u001b[0m     end \u001b[38;5;241m=\u001b[39m _w(s, end)\u001b[38;5;241m.\u001b[39mend()\n\u001b[1;32m    339\u001b[0m     \u001b[38;5;28;01mif\u001b[39;00m end \u001b[38;5;241m!=\u001b[39m \u001b[38;5;28mlen\u001b[39m(s):\n",
      "File \u001b[0;32m~/miniconda3/lib/python3.12/json/decoder.py:355\u001b[0m, in \u001b[0;36mJSONDecoder.raw_decode\u001b[0;34m(self, s, idx)\u001b[0m\n\u001b[1;32m    353\u001b[0m     obj, end \u001b[38;5;241m=\u001b[39m \u001b[38;5;28mself\u001b[39m\u001b[38;5;241m.\u001b[39mscan_once(s, idx)\n\u001b[1;32m    354\u001b[0m \u001b[38;5;28;01mexcept\u001b[39;00m \u001b[38;5;167;01mStopIteration\u001b[39;00m \u001b[38;5;28;01mas\u001b[39;00m err:\n\u001b[0;32m--> 355\u001b[0m     \u001b[38;5;28;01mraise\u001b[39;00m JSONDecodeError(\u001b[38;5;124m\"\u001b[39m\u001b[38;5;124mExpecting value\u001b[39m\u001b[38;5;124m\"\u001b[39m, s, err\u001b[38;5;241m.\u001b[39mvalue) \u001b[38;5;28;01mfrom\u001b[39;00m \u001b[38;5;28;01mNone\u001b[39;00m\n\u001b[1;32m    356\u001b[0m \u001b[38;5;28;01mreturn\u001b[39;00m obj, end\n",
      "\u001b[0;31mJSONDecodeError\u001b[0m: Expecting value: line 1 column 1 (char 0)"
     ]
    }
   ],
   "source": [
    "#| hide\n",
    "import nbdev; nbdev.nbdev_export()"
   ]
  },
  {
   "cell_type": "code",
   "execution_count": null,
   "metadata": {},
   "outputs": [],
   "source": []
  }
 ],
 "metadata": {
  "kernelspec": {
   "display_name": "python3",
   "language": "python",
   "name": "python3"
  }
 },
 "nbformat": 4,
 "nbformat_minor": 4
}
