{
 "cells": [
  {
   "cell_type": "markdown",
   "metadata": {},
   "source": [
    "# serverMLX\n",
    "\n",
    "> FASTAPI image uploader "
   ]
  },
  {
   "cell_type": "code",
   "execution_count": null,
   "metadata": {},
   "outputs": [],
   "source": [
    "#| default_exp serverMLX"
   ]
  },
  {
   "cell_type": "code",
   "execution_count": 1,
   "metadata": {},
   "outputs": [],
   "source": [
    "#| hide\n",
    "from nbdev.showdoc import *"
   ]
  },
  {
   "cell_type": "markdown",
   "metadata": {},
   "source": [
    "To process the image for generating `mlx-community/Qwen2.5-VL-7B-Instruct-bf16`.<br>\n",
    "As it has a upper limit to process image `1280*28*28` and image need to be saved these are few helper fuction to achive this. It is for running inference mlx. The code is not shown here can be viewed in the git repo."
   ]
  },
  {
   "cell_type": "code",
   "execution_count": 7,
   "metadata": {},
   "outputs": [],
   "source": [
    "#| export \n",
    "\n",
    "import sys\n",
    "from finfox.core import *\n",
    "\n",
    "\n",
    "prompt =  \"\"\"You are an AI specialized in recognizing and extracting text from all images in markdown format.\n",
    "Your mission is to analyze the image document and generate the result while maintaining data integrity.Extract the each text in details as present. \n",
    "It is mission critical. Do not send anything extra. DO NOT MISS ANY INFORMATION. Double check.\"\"\"\n",
    "\n",
    "if sys.platform == \"darwin\":  # init iff the code is running in mac\n",
    "    from finfox.core import *\n",
    "    import mlx.core as mx\n",
    "    from mlx_vlm import load, generate\n",
    "    from mlx_vlm.prompt_utils import apply_chat_template, get_message_json\n",
    "    from mlx_vlm.utils import load_config\n",
    "    # Load the model\n",
    "    #m_pth = \"mlx-community/Qwen2.5-VL-7B-Instruct-bf16\"\n",
    "    m_pth = \"mlx-community/Qwen2.5-VL-7B-Instruct-8bit\"\n",
    "    m_pth = \"mlx-community/Qwen2.5-VL-7B-Instruct-4bit\"\n",
    "    m_pth = \"mlx-community/Qwen2.5-VL-7B-Instruct-3bit\"\n",
    "\n",
    "    model, processor = load(m_pth)\n",
    "    config = load_config(m_pth)\n",
    "\n",
    "    formatted_prompt = apply_chat_template(\n",
    "            processor, config, prompt, num_images=1\n",
    "        )\n",
    "    \n",
    "    mx.eval(model.parameters()) "
   ]
  },
  {
   "cell_type": "markdown",
   "metadata": {},
   "source": [
    "## FastAPI upload image"
   ]
  },
  {
   "cell_type": "code",
   "execution_count": 8,
   "metadata": {},
   "outputs": [],
   "source": [
    "#| export\n",
    "from typing import List\n",
    "from PIL import Image\n",
    "if sys.platform == \"darwin\":  \n",
    "\n",
    "    from fastapi import FastAPI, UploadFile, File, Header, Query\n",
    "    import io\n",
    "    from fastcore.all import *\n",
    "\n",
    "    app = FastAPI()\n",
    "\n",
    "    @app.post(\"/upload/\")\n",
    "    async def upload_image(\n",
    "        files: List[UploadFile] = File(...),\n",
    "        N: int = Query(..., alias=\"N\")):\n",
    "        \n",
    "        im_li = []\n",
    "        for i, file in enumerate(files):\n",
    "            # Read the image\n",
    "            data = await file.read()\n",
    "            im = Image.open(io.BytesIO(data))\n",
    "            fn = f\"temp_{N}_{i}.png\"\n",
    "            qwen_resize(im, limit=256*3*28*28, fn=fn)\n",
    "            im_li.append(fn)\n",
    "        \n",
    "        if sys.platform == \"darwin\":  \n",
    "            return generate(model, \n",
    "                            processor, \n",
    "                            formatted_prompt,\n",
    "                            im_li, \n",
    "                            verbose=True, \n",
    "                            max_tokens=4_056, \n",
    "                            repetition_penalty=1.1,\n",
    "                            temperature=0.2 \n",
    "                        )\n",
    "        \n",
    "        return [len(im_li)]\n",
    "    \n",
    "    "
   ]
  },
  {
   "cell_type": "code",
   "execution_count": 9,
   "metadata": {},
   "outputs": [],
   "source": [
    "#| export\n",
    "import httpx\n",
    "from typing import List\n",
    "import io\n",
    "    \n",
    "\n",
    "async def test_server(images: List[Image.Image], N:int, url=\"http://localhost:9000/upload/\"):\n",
    "    \"\"\"\n",
    "    check uploading image to the server\n",
    "    \"\"\"\n",
    "    try:\n",
    "        files = []\n",
    "        for i, img in enumerate(images):\n",
    "            try:\n",
    "                img_copy = img.copy()\n",
    "                \n",
    "                byte_arr = io.BytesIO()\n",
    "                img_copy.save(byte_arr, format='PNG')\n",
    "                byte_arr.seek(0)\n",
    "                \n",
    "                files.append(('files', (f'image_{i}.png', byte_arr.getvalue(), 'image/png')))\n",
    "            except Exception as img_error:\n",
    "                print(f\"Error processing image {i}: {str(img_error)}\")\n",
    "                raise\n",
    "        \n",
    "        async with httpx.AsyncClient() as client:\n",
    "            response = await client.post(url, \n",
    "                                         files=files, \n",
    "                                         params= {\"N\":str(N)},\n",
    "                                         timeout=600.0)\n",
    "            \n",
    "            if response.status_code == 200:\n",
    "                return response.json()\n",
    "            else:\n",
    "                print(f\"Server response text: {response.text}\")\n",
    "                return None\n",
    "                \n",
    "    except Exception as e:\n",
    "        print(f\"Error during upload: {str(e)}\")\n",
    "        return None"
   ]
  },
  {
   "cell_type": "code",
   "execution_count": 4,
   "metadata": {},
   "outputs": [
    {
     "name": "stdout",
     "output_type": "stream",
     "text": [
      "00_core.ipynb\t\t03_rough.ipynb\tcompany2.csv  nbdev.yml    styles.css\n",
      "01_serverMLX.ipynb\t_quarto.yml\timgs.csv      result\n",
      "02_extractGemini.ipynb\tcompany1.csv\tindex.ipynb   sidebar.yml\n"
     ]
    }
   ],
   "source": [
    "!ls"
   ]
  },
  {
   "cell_type": "code",
   "execution_count": 5,
   "metadata": {},
   "outputs": [
    {
     "data": {
      "text/plain": [
       "((842, 1191), (842, 1191))"
      ]
     },
     "execution_count": 5,
     "metadata": {},
     "output_type": "execute_result"
    }
   ],
   "source": [
    "im1, im2 = Image.open(\"result/2.png\"), Image.open(\"result/3.png\")\n",
    "im1.size, im2.size"
   ]
  },
  {
   "cell_type": "code",
   "execution_count": 6,
   "metadata": {},
   "outputs": [],
   "source": [
    "result = await test_server([im1], N=1), await test_server([im2], N=1)\n",
    "assert len(result) == 2"
   ]
  },
  {
   "cell_type": "code",
   "execution_count": 7,
   "metadata": {},
   "outputs": [],
   "source": [
    "import asyncio\n",
    "\n",
    "results = await asyncio.gather(\n",
    "    test_server([im1], N=1),\n",
    "    test_server([im2], N=1)\n",
    ")"
   ]
  },
  {
   "cell_type": "code",
   "execution_count": 9,
   "metadata": {},
   "outputs": [
    {
     "data": {
      "text/markdown": [
       "## About the report\n",
       "\n",
       "Tata Motors Limited's 79th Integrated Annual Annual Report for FY24 covers our financial and non-financial performance, and provides an insight into our business model, strategy, risks, opportunities, performance, and achievements in the period under review.\n",
       "\n",
       "### Reporting cycle\n",
       "- **01 April 2023** to **31 March 2024**\n",
       "\n",
       "### Frameworks, guidelines, and standards used\n",
       "- **Integrated Reporting**: Now part of IFRS Reporting\n",
       "- **International <IR> Framework**: International <IR> Framework (the <IR> Framework)\n",
       "- **Ministry of Corporate Affairs**: Ministry of Corporate Affairs\n",
       "- **Companies Act, 2013**: Companies Act, 2013\n",
       "- **Indian Accounting Standards**: Indian Accounting Standards\n",
       "- **Securities and Exchange Board of India (Listing Obligations and Disclosure Requirements) Regulations, 2015**: Securities and Exchange Board of India (Listing Obligations and Disclosure Requirements) Regulations, 2015\n",
       "- **GRI Standards 2021**: GRI Standards 2021 (with reference)\n",
       "\n",
       "### Reporting scope and boundary\n",
       "Unless otherwise specified, the Report covers financial information on a consolidated basis across segments for Tata Motors Group. The operating segment comprises the automotive segment and others, with details presented for entities based on four reportable sub-segments: Tata Motors Limited, Tata Commercial Vehicles (Tata CV), Tata Passenger Vehicles (Tata PV), Jaguar Passenger Electric Mobility (JLR), and Vehicle Financing.\n",
       "\n",
       "### Reporting boundary\n",
       "The reporting boundary for non-financial data in the 'sustainability review' section covers indicators as per GRI Standards 2021 for Tata Motors Limited (CV Business), Tata Motors Passenger Vehicles Limited (TMPVL), Tata Passenger Electric Mobility Limited (TPEML), and a select set of indicators for JLR. The BRSR covers data for Tata Motors Limited on a standalone basis.\n",
       "\n",
       "### Cautionary statements\n",
       "Statements in the Integrated Report describing our objective, projections, estimates, and expectations may be forward-looking statements. Important factors that could make a difference to our operations include, among others, economic conditions affecting demand/supply and price conditions in the domestic and overseas markets, in which we operate, in addition to changes in applicable securities laws and regulations. Actual results could differ materially from those expressed or implied. Important factors that could make a difference to our stakeholders and value creation include, among others, economic conditions affecting demand/supply and price conditions in the domestic and overseas markets, in which we operate, in addition to changes in applicable securities laws and regulations, tax laws, and other statutes and incidental factors.\n",
       "\n",
       "### Responsibility statement\n",
       "Our Board ensures the integrity, completeness, and adherence to the principle of materiality to determine their inclusion in our Integrated Report. This process focuses on matters critical to stakeholders and value creation.\n",
       "\n",
       "### Materiality\n",
       "Tata Motors' top management actively reviews material topics, applying the principle of materiality to determine their inclusion in our Integrated Report. This process focuses on matters critical to stakeholders and value creation.\n",
       "\n",
       "### Assurance\n",
       "Financial statements: Audited by independent auditors BSR & Co. LLP\n",
       "For non-financial data (India operations):\n",
       "(a) The BRSR covers data for Tata Motors Limited on a standalone basis; a reasonable assurance on BRSR core indicators is provided by KPMG Assurance and Consulting Services LLP.\n",
       "(b) Indicators covered as part of GRI Standards 2021 include data for TML, TMPVL, and TPEML; and a limited assurance on these indicators is provided by KPMG Assurance and Consulting Services LLP.\n",
       "\n",
       "### Other details (performance measures)\n",
       "EBITDA is defined to include the product development expenses charged to P&L and realised FX and realised commodity hedges, but excludes the gain/loss on realised derivatives entered into for the purpose of hedging debt, revaluation of foreign currency debt, revaluation of foreign currency assets and liabilities, MTM on FX and commodity hedges, other income (except government grant) as well as exceptional items.\n",
       "EBIT is defined as reported EBITDA plus profit from equity accounted investee less depreciation and amortisation.\n",
       "Auto free cash flow is defined as net cash generated from operating activities less net cash used in automotive investing activities, excluding investments in consolidated entities, M&A-linked asset purchases and movements in financial investments, and after net finance expenses and fees paid, less free cash flow of the TMF Group, i.e., the financing business.\n",
       "\n",
       "### Reporting scope and boundary\n",
       "Unless otherwise specified, the Report covers financial information on a consolidated basis across segments for Tata Motors Group. The operating segment comprises the automotive segment and others, with details presented for entities based on four reportable sub-segments: Tata Motors Limited, Tata Commercial Vehicles (Tata CV), Tata Passenger Vehicles (Tata PV), Jaguar Passenger Electric Mobility (JLR), and Vehicle Financing.\n",
       "\n",
       "### Reporting boundary\n",
       "The reporting boundary for non-financial data in the 'sustainability review' section covers indicators as per GRI Standards 2021 for Tata Motors Limited (CV Business), Tata Motors Passenger Vehicles Limited (TMPVL), Tata Passenger Electric Mobility Limited (TPEML), and a select set of indicators for JLR. The BRSR covers data for Tata Motors Limited on a standalone basis.\n",
       "\n",
       "### Cautionary statements\n",
       "Statements in the Integrated Report describing our objective, projections, estimates, and expectations may be forward-looking statements. Important factors that could make a difference to our operations include, among others, economic conditions affecting demand/supply and price conditions in the domestic and overseas markets, in which we operate, in addition to changes in applicable securities laws and regulations. Actual results could differ materially from those expressed or implied. Important factors that could make a difference to our stakeholders and value creation include, among others, economic conditions affecting demand/supply and price conditions in the domestic and overseas markets, in which we operate, in addition to changes in applicable securities laws and regulations, tax laws, and other statutes and incidental factors.\n",
       "\n",
       "### Responsibility statement\n",
       "Our Board ensures the integrity, completeness, and adherence to the principle of materiality to determine their inclusion in our Integrated Report. This process focuses on matters critical to stakeholders and value creation.\n",
       "\n",
       "### Materiality\n",
       "Tata Motors' top management actively reviews material topics, applying the principle of materiality to determine their inclusion in our Integrated Report. This process focuses on matters critical to stakeholders and value creation.\n",
       "\n",
       "### Assurance\n",
       "Financial statements: Audited by independent auditors BSR & Co. LLP\n",
       "For non-financial data (India operations):\n",
       "(a) The BRSR covers data for Tata Motors Limited on a standalone basis; a reasonable assurance on BRSR core indicators is provided by KPMG Assurance and Consulting Services LLP.\n",
       "(b) Indicators covered as part of GRI Standards 2021 include data for TML, TMPVL, and TPEML; and a limited assurance on these indicators is provided by KPMG Assurance and Consulting Services LLP.\n",
       "\n",
       "### Other details (performance measures)\n",
       "EBITDA is defined to include the product development expenses charged to P&L and realised FX and realised commodity hedges, but excludes the gain/loss on realised derivatives entered into for the purpose of hedging debt, revaluation of foreign currency debt, revaluation of foreign currency assets and liabilities"
      ],
      "text/plain": [
       "<IPython.core.display.Markdown object>"
      ]
     },
     "metadata": {},
     "output_type": "display_data"
    }
   ],
   "source": [
    "show_markdown(result[1])"
   ]
  },
  {
   "cell_type": "code",
   "execution_count": 10,
   "metadata": {},
   "outputs": [
    {
     "data": {
      "text/html": [
       "<div>\n",
       "<style scoped>\n",
       "    .dataframe tbody tr th:only-of-type {\n",
       "        vertical-align: middle;\n",
       "    }\n",
       "\n",
       "    .dataframe tbody tr th {\n",
       "        vertical-align: top;\n",
       "    }\n",
       "\n",
       "    .dataframe thead th {\n",
       "        text-align: right;\n",
       "    }\n",
       "</style>\n",
       "<table border=\"1\" class=\"dataframe\">\n",
       "  <thead>\n",
       "    <tr style=\"text-align: right;\">\n",
       "      <th></th>\n",
       "      <th>fn</th>\n",
       "    </tr>\n",
       "  </thead>\n",
       "  <tbody>\n",
       "    <tr>\n",
       "      <th>0</th>\n",
       "      <td>/mnt/d/finfox/ASHOKLEY/Financial Year 2010/ind...</td>\n",
       "    </tr>\n",
       "    <tr>\n",
       "      <th>1</th>\n",
       "      <td>/mnt/d/finfox/ASHOKLEY/Financial Year 2010/ind...</td>\n",
       "    </tr>\n",
       "    <tr>\n",
       "      <th>2</th>\n",
       "      <td>/mnt/d/finfox/ASHOKLEY/Financial Year 2010/ind...</td>\n",
       "    </tr>\n",
       "    <tr>\n",
       "      <th>3</th>\n",
       "      <td>/mnt/d/finfox/ASHOKLEY/Financial Year 2010/ind...</td>\n",
       "    </tr>\n",
       "    <tr>\n",
       "      <th>4</th>\n",
       "      <td>/mnt/d/finfox/ASHOKLEY/Financial Year 2010/ind...</td>\n",
       "    </tr>\n",
       "  </tbody>\n",
       "</table>\n",
       "</div>"
      ],
      "text/plain": [
       "                                                  fn\n",
       "0  /mnt/d/finfox/ASHOKLEY/Financial Year 2010/ind...\n",
       "1  /mnt/d/finfox/ASHOKLEY/Financial Year 2010/ind...\n",
       "2  /mnt/d/finfox/ASHOKLEY/Financial Year 2010/ind...\n",
       "3  /mnt/d/finfox/ASHOKLEY/Financial Year 2010/ind...\n",
       "4  /mnt/d/finfox/ASHOKLEY/Financial Year 2010/ind..."
      ]
     },
     "execution_count": 10,
     "metadata": {},
     "output_type": "execute_result"
    }
   ],
   "source": [
    "import pandas as pd\n",
    "df = pd.read_csv(\"imgs.csv\")\n",
    "df.head()"
   ]
  },
  {
   "cell_type": "code",
   "execution_count": 11,
   "metadata": {},
   "outputs": [],
   "source": [
    "#| export\n",
    "import asyncio\n",
    "from fastcore.utils import *\n",
    "\n",
    "async def get_md(fn:Path, dir_name:str=\"QWEN_Index_md\"):\n",
    "    try :\n",
    "\n",
    "        dir = fn.parent.parent/dir_name\n",
    "        dir.mkdir(exist_ok=True)\n",
    "        im = Image.open(fn)\n",
    "        fn_ = fn.name.split('.')[0]\n",
    "        md_fn = dir/f\"{fn_}.md\"\n",
    "\n",
    "\n",
    "        # Run both test_server calls in parallel\n",
    "        results = await asyncio.gather(\n",
    "            test_server([im], N=1),\n",
    "        )\n",
    "        \n",
    "        #show_markdown(str2md(results[0]))\n",
    "        md_fn.write_text(results[0])\n",
    "        \n",
    "        print(f\"{md_fn=} {len(results[0])=}\")\n",
    "\n",
    "    except Exception as e:\n",
    "        print(f\"error @ {fn=}  {e}\")\n",
    "\n"
   ]
  },
  {
   "cell_type": "code",
   "execution_count": 12,
   "metadata": {},
   "outputs": [
    {
     "name": "stdout",
     "output_type": "stream",
     "text": [
      " i=100  ->md_fn=Path('/mnt/d/finfox/ASHOKLEY/Financial Year 2011/QWEN_Index_md/31.md') len(results[0])=4224\n",
      " i=101  ->md_fn=Path('/mnt/d/finfox/ASHOKLEY/Financial Year 2011/QWEN_Index_md/32.md') len(results[0])=1383\n",
      " i=102  ->md_fn=Path('/mnt/d/finfox/ASHOKLEY/Financial Year 2011/QWEN_Index_md/33.md') len(results[0])=1033\n",
      " i=103  ->"
     ]
    }
   ],
   "source": [
    "for i in range(100, 500):\n",
    "    print(f\" {i=} \", end=\" ->\")\n",
    "    fn = Path(df.iloc[i]['fn'])\n",
    "    await get_md(fn)"
   ]
  },
  {
   "cell_type": "code",
   "execution_count": 8,
   "metadata": {},
   "outputs": [],
   "source": [
    "#| hide\n",
    "import aiohttp\n",
    "\n",
    "async def test_connection():\n",
    "    try:\n",
    "        async with aiohttp.ClientSession() as session:\n",
    "            url = \"http://127.0.0.1:9000/openapi.json\"\n",
    "            print(f\"Trying {url}\")\n",
    "            async with session.get(url) as response:\n",
    "                print(f\"Status: {response.status}\")\n",
    "                return await response.json()\n",
    "    except Exception as e:\n",
    "        print(f\"Connection error details: {type(e).__name__} - {str(e)}\")\n",
    "\n",
    "#await test_connection()"
   ]
  },
  {
   "cell_type": "code",
   "execution_count": null,
   "metadata": {},
   "outputs": [],
   "source": [
    "#| hide\n",
    "import nbdev; nbdev.nbdev_export()"
   ]
  },
  {
   "cell_type": "code",
   "execution_count": null,
   "metadata": {},
   "outputs": [],
   "source": []
  }
 ],
 "metadata": {
  "kernelspec": {
   "display_name": "Python 3 (ipykernel)",
   "language": "python",
   "name": "python3"
  }
 },
 "nbformat": 4,
 "nbformat_minor": 2
}
