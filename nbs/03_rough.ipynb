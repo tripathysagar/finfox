{
 "cells": [
  {
   "cell_type": "code",
   "execution_count": null,
   "metadata": {},
   "outputs": [],
   "source": [
    "import pandas as pd"
   ]
  },
  {
   "cell_type": "code",
   "execution_count": null,
   "metadata": {},
   "outputs": [
    {
     "data": {
      "text/html": [
       "<div>\n",
       "<style scoped>\n",
       "    .dataframe tbody tr th:only-of-type {\n",
       "        vertical-align: middle;\n",
       "    }\n",
       "\n",
       "    .dataframe tbody tr th {\n",
       "        vertical-align: top;\n",
       "    }\n",
       "\n",
       "    .dataframe thead th {\n",
       "        text-align: right;\n",
       "    }\n",
       "</style>\n",
       "<table border=\"1\" class=\"dataframe\">\n",
       "  <thead>\n",
       "    <tr style=\"text-align: right;\">\n",
       "      <th></th>\n",
       "      <th>TATAMOTORS</th>\n",
       "      <th>ASHOKLEY</th>\n",
       "      <th>OLECTRA</th>\n",
       "      <th>FORCEMOT</th>\n",
       "      <th>SMLISUZU</th>\n",
       "    </tr>\n",
       "  </thead>\n",
       "  <tbody>\n",
       "    <tr>\n",
       "      <th>Financial Year 2024</th>\n",
       "      <td>https://www.bseindia.com/stockinfo/AnnPdfOpen....</td>\n",
       "      <td>https://www.bseindia.com/stockinfo/AnnPdfOpen....</td>\n",
       "      <td>https://www.bseindia.com/stockinfo/AnnPdfOpen....</td>\n",
       "      <td>https://www.bseindia.com/stockinfo/AnnPdfOpen....</td>\n",
       "      <td>https://www.bseindia.com/stockinfo/AnnPdfOpen....</td>\n",
       "    </tr>\n",
       "    <tr>\n",
       "      <th>Financial Year 2023</th>\n",
       "      <td>https://www.bseindia.com/stockinfo/AnnPdfOpen....</td>\n",
       "      <td>https://www.bseindia.com/stockinfo/AnnPdfOpen....</td>\n",
       "      <td>https://www.bseindia.com/stockinfo/AnnPdfOpen....</td>\n",
       "      <td>https://www.bseindia.com/stockinfo/AnnPdfOpen....</td>\n",
       "      <td>https://www.bseindia.com/stockinfo/AnnPdfOpen....</td>\n",
       "    </tr>\n",
       "    <tr>\n",
       "      <th>Financial Year 2022</th>\n",
       "      <td>https://www.bseindia.com/bseplus/AnnualReport/...</td>\n",
       "      <td>https://www.bseindia.com/bseplus/AnnualReport/...</td>\n",
       "      <td>https://www.bseindia.com/bseplus/AnnualReport/...</td>\n",
       "      <td>https://www.bseindia.com/bseplus/AnnualReport/...</td>\n",
       "      <td>https://www.bseindia.com/bseplus/AnnualReport/...</td>\n",
       "    </tr>\n",
       "    <tr>\n",
       "      <th>Financial Year 2021</th>\n",
       "      <td>https://www.bseindia.com/bseplus/AnnualReport/...</td>\n",
       "      <td>https://www.bseindia.com/bseplus/AnnualReport/...</td>\n",
       "      <td>https://www.bseindia.com/bseplus/AnnualReport/...</td>\n",
       "      <td>https://www.bseindia.com/bseplus/AnnualReport/...</td>\n",
       "      <td>https://www.bseindia.com/bseplus/AnnualReport/...</td>\n",
       "    </tr>\n",
       "    <tr>\n",
       "      <th>Financial Year 2020</th>\n",
       "      <td>https://www.bseindia.com/bseplus/AnnualReport/...</td>\n",
       "      <td>https://www.bseindia.com/bseplus/AnnualReport/...</td>\n",
       "      <td>https://www.bseindia.com/bseplus/AnnualReport/...</td>\n",
       "      <td>https://www.bseindia.com/bseplus/AnnualReport/...</td>\n",
       "      <td>https://www.bseindia.com/bseplus/AnnualReport/...</td>\n",
       "    </tr>\n",
       "  </tbody>\n",
       "</table>\n",
       "</div>"
      ],
      "text/plain": [
       "                                                            TATAMOTORS  \\\n",
       "Financial Year 2024  https://www.bseindia.com/stockinfo/AnnPdfOpen....   \n",
       "Financial Year 2023  https://www.bseindia.com/stockinfo/AnnPdfOpen....   \n",
       "Financial Year 2022  https://www.bseindia.com/bseplus/AnnualReport/...   \n",
       "Financial Year 2021  https://www.bseindia.com/bseplus/AnnualReport/...   \n",
       "Financial Year 2020  https://www.bseindia.com/bseplus/AnnualReport/...   \n",
       "\n",
       "                                                              ASHOKLEY  \\\n",
       "Financial Year 2024  https://www.bseindia.com/stockinfo/AnnPdfOpen....   \n",
       "Financial Year 2023  https://www.bseindia.com/stockinfo/AnnPdfOpen....   \n",
       "Financial Year 2022  https://www.bseindia.com/bseplus/AnnualReport/...   \n",
       "Financial Year 2021  https://www.bseindia.com/bseplus/AnnualReport/...   \n",
       "Financial Year 2020  https://www.bseindia.com/bseplus/AnnualReport/...   \n",
       "\n",
       "                                                               OLECTRA  \\\n",
       "Financial Year 2024  https://www.bseindia.com/stockinfo/AnnPdfOpen....   \n",
       "Financial Year 2023  https://www.bseindia.com/stockinfo/AnnPdfOpen....   \n",
       "Financial Year 2022  https://www.bseindia.com/bseplus/AnnualReport/...   \n",
       "Financial Year 2021  https://www.bseindia.com/bseplus/AnnualReport/...   \n",
       "Financial Year 2020  https://www.bseindia.com/bseplus/AnnualReport/...   \n",
       "\n",
       "                                                              FORCEMOT  \\\n",
       "Financial Year 2024  https://www.bseindia.com/stockinfo/AnnPdfOpen....   \n",
       "Financial Year 2023  https://www.bseindia.com/stockinfo/AnnPdfOpen....   \n",
       "Financial Year 2022  https://www.bseindia.com/bseplus/AnnualReport/...   \n",
       "Financial Year 2021  https://www.bseindia.com/bseplus/AnnualReport/...   \n",
       "Financial Year 2020  https://www.bseindia.com/bseplus/AnnualReport/...   \n",
       "\n",
       "                                                              SMLISUZU  \n",
       "Financial Year 2024  https://www.bseindia.com/stockinfo/AnnPdfOpen....  \n",
       "Financial Year 2023  https://www.bseindia.com/stockinfo/AnnPdfOpen....  \n",
       "Financial Year 2022  https://www.bseindia.com/bseplus/AnnualReport/...  \n",
       "Financial Year 2021  https://www.bseindia.com/bseplus/AnnualReport/...  \n",
       "Financial Year 2020  https://www.bseindia.com/bseplus/AnnualReport/...  "
      ]
     },
     "execution_count": null,
     "metadata": {},
     "output_type": "execute_result"
    }
   ],
   "source": [
    "#| hide \n",
    "df = pd.read_csv(\"company1.csv\", index_col=0)\n",
    "df.head()"
   ]
  },
  {
   "cell_type": "code",
   "execution_count": null,
   "metadata": {},
   "outputs": [
    {
     "data": {
      "text/plain": [
       "'https://www.bseindia.com/stockinfo/AnnPdfOpen.aspx?Pname=0913b647-b205-4a3c-ad9b-8c493f97f972.pdf'"
      ]
     },
     "execution_count": null,
     "metadata": {},
     "output_type": "execute_result"
    }
   ],
   "source": [
    "df.iloc[0][\"TATAMOTORS\"]"
   ]
  },
  {
   "cell_type": "code",
   "execution_count": null,
   "metadata": {},
   "outputs": [
    {
     "data": {
      "text/html": [
       "<div>\n",
       "<style scoped>\n",
       "    .dataframe tbody tr th:only-of-type {\n",
       "        vertical-align: middle;\n",
       "    }\n",
       "\n",
       "    .dataframe tbody tr th {\n",
       "        vertical-align: top;\n",
       "    }\n",
       "\n",
       "    .dataframe thead th {\n",
       "        text-align: right;\n",
       "    }\n",
       "</style>\n",
       "<table border=\"1\" class=\"dataframe\">\n",
       "  <thead>\n",
       "    <tr style=\"text-align: right;\">\n",
       "      <th></th>\n",
       "      <th>TATAMOTORS</th>\n",
       "      <th>ASHOKLEY</th>\n",
       "      <th>OLECTRA</th>\n",
       "      <th>FORCEMOT</th>\n",
       "      <th>SMLISUZU</th>\n",
       "    </tr>\n",
       "  </thead>\n",
       "  <tbody>\n",
       "    <tr>\n",
       "      <th>Financial Year 2024</th>\n",
       "      <td>False</td>\n",
       "      <td>False</td>\n",
       "      <td>False</td>\n",
       "      <td>False</td>\n",
       "      <td>False</td>\n",
       "    </tr>\n",
       "    <tr>\n",
       "      <th>Financial Year 2023</th>\n",
       "      <td>False</td>\n",
       "      <td>False</td>\n",
       "      <td>False</td>\n",
       "      <td>False</td>\n",
       "      <td>False</td>\n",
       "    </tr>\n",
       "    <tr>\n",
       "      <th>Financial Year 2022</th>\n",
       "      <td>False</td>\n",
       "      <td>False</td>\n",
       "      <td>False</td>\n",
       "      <td>False</td>\n",
       "      <td>False</td>\n",
       "    </tr>\n",
       "    <tr>\n",
       "      <th>Financial Year 2021</th>\n",
       "      <td>False</td>\n",
       "      <td>False</td>\n",
       "      <td>False</td>\n",
       "      <td>False</td>\n",
       "      <td>False</td>\n",
       "    </tr>\n",
       "    <tr>\n",
       "      <th>Financial Year 2020</th>\n",
       "      <td>False</td>\n",
       "      <td>False</td>\n",
       "      <td>False</td>\n",
       "      <td>False</td>\n",
       "      <td>False</td>\n",
       "    </tr>\n",
       "    <tr>\n",
       "      <th>Financial Year 2019</th>\n",
       "      <td>False</td>\n",
       "      <td>False</td>\n",
       "      <td>False</td>\n",
       "      <td>False</td>\n",
       "      <td>False</td>\n",
       "    </tr>\n",
       "    <tr>\n",
       "      <th>Financial Year 2018</th>\n",
       "      <td>False</td>\n",
       "      <td>False</td>\n",
       "      <td>False</td>\n",
       "      <td>False</td>\n",
       "      <td>False</td>\n",
       "    </tr>\n",
       "    <tr>\n",
       "      <th>Financial Year 2017</th>\n",
       "      <td>False</td>\n",
       "      <td>False</td>\n",
       "      <td>False</td>\n",
       "      <td>False</td>\n",
       "      <td>False</td>\n",
       "    </tr>\n",
       "    <tr>\n",
       "      <th>Financial Year 2016</th>\n",
       "      <td>False</td>\n",
       "      <td>False</td>\n",
       "      <td>False</td>\n",
       "      <td>False</td>\n",
       "      <td>False</td>\n",
       "    </tr>\n",
       "    <tr>\n",
       "      <th>Financial Year 2015</th>\n",
       "      <td>False</td>\n",
       "      <td>False</td>\n",
       "      <td>False</td>\n",
       "      <td>False</td>\n",
       "      <td>False</td>\n",
       "    </tr>\n",
       "    <tr>\n",
       "      <th>Financial Year 2014</th>\n",
       "      <td>False</td>\n",
       "      <td>False</td>\n",
       "      <td>False</td>\n",
       "      <td>False</td>\n",
       "      <td>False</td>\n",
       "    </tr>\n",
       "    <tr>\n",
       "      <th>Financial Year 2013</th>\n",
       "      <td>False</td>\n",
       "      <td>False</td>\n",
       "      <td>False</td>\n",
       "      <td>False</td>\n",
       "      <td>False</td>\n",
       "    </tr>\n",
       "    <tr>\n",
       "      <th>Financial Year 2012</th>\n",
       "      <td>False</td>\n",
       "      <td>False</td>\n",
       "      <td>False</td>\n",
       "      <td>False</td>\n",
       "      <td>False</td>\n",
       "    </tr>\n",
       "    <tr>\n",
       "      <th>Financial Year 2011</th>\n",
       "      <td>False</td>\n",
       "      <td>False</td>\n",
       "      <td>True</td>\n",
       "      <td>False</td>\n",
       "      <td>True</td>\n",
       "    </tr>\n",
       "    <tr>\n",
       "      <th>Financial Year 2010</th>\n",
       "      <td>False</td>\n",
       "      <td>False</td>\n",
       "      <td>True</td>\n",
       "      <td>False</td>\n",
       "      <td>True</td>\n",
       "    </tr>\n",
       "  </tbody>\n",
       "</table>\n",
       "</div>"
      ],
      "text/plain": [
       "                     TATAMOTORS  ASHOKLEY  OLECTRA  FORCEMOT  SMLISUZU\n",
       "Financial Year 2024       False     False    False     False     False\n",
       "Financial Year 2023       False     False    False     False     False\n",
       "Financial Year 2022       False     False    False     False     False\n",
       "Financial Year 2021       False     False    False     False     False\n",
       "Financial Year 2020       False     False    False     False     False\n",
       "Financial Year 2019       False     False    False     False     False\n",
       "Financial Year 2018       False     False    False     False     False\n",
       "Financial Year 2017       False     False    False     False     False\n",
       "Financial Year 2016       False     False    False     False     False\n",
       "Financial Year 2015       False     False    False     False     False\n",
       "Financial Year 2014       False     False    False     False     False\n",
       "Financial Year 2013       False     False    False     False     False\n",
       "Financial Year 2012       False     False    False     False     False\n",
       "Financial Year 2011       False     False     True     False      True\n",
       "Financial Year 2010       False     False     True     False      True"
      ]
     },
     "execution_count": null,
     "metadata": {},
     "output_type": "execute_result"
    }
   ],
   "source": [
    "df.isna()"
   ]
  },
  {
   "cell_type": "code",
   "execution_count": null,
   "metadata": {},
   "outputs": [
    {
     "data": {
      "text/plain": [
       "Index(['TATAMOTORS', 'ASHOKLEY', 'OLECTRA', 'FORCEMOT', 'SMLISUZU'], dtype='object')"
      ]
     },
     "execution_count": null,
     "metadata": {},
     "output_type": "execute_result"
    }
   ],
   "source": [
    "df.columns"
   ]
  },
  {
   "cell_type": "code",
   "execution_count": null,
   "metadata": {},
   "outputs": [
    {
     "data": {
      "text/plain": [
       "15"
      ]
     },
     "execution_count": null,
     "metadata": {},
     "output_type": "execute_result"
    }
   ],
   "source": [
    "N = df.shape[0]\n",
    "N"
   ]
  },
  {
   "cell_type": "code",
   "execution_count": null,
   "metadata": {},
   "outputs": [],
   "source": [
    "df =  df.drop(df.index[15]) "
   ]
  },
  {
   "cell_type": "code",
   "execution_count": null,
   "metadata": {},
   "outputs": [],
   "source": [
    "lis = []"
   ]
  },
  {
   "cell_type": "code",
   "execution_count": null,
   "metadata": {},
   "outputs": [
    {
     "name": "stdout",
     "output_type": "stream",
     "text": [
      "13 OLECTRA\n",
      "14 OLECTRA\n",
      "13 SMLISUZU\n",
      "14 SMLISUZU\n"
     ]
    }
   ],
   "source": [
    "for i in df.columns:\n",
    "    for j in range(N):\n",
    "        if  pd.isna(df.iloc[j][i]):\n",
    "            print(j, i)"
   ]
  },
  {
   "cell_type": "code",
   "execution_count": null,
   "metadata": {},
   "outputs": [
    {
     "data": {
      "text/plain": [
       "('Financial Year 2010', 'Financial Year 2013', 'Financial Year 2014')"
      ]
     },
     "execution_count": null,
     "metadata": {},
     "output_type": "execute_result"
    }
   ],
   "source": [
    "df.index[14], df.index[11], df.index[10]"
   ]
  },
  {
   "cell_type": "code",
   "execution_count": null,
   "metadata": {},
   "outputs": [],
   "source": [
    "#df.loc['Financial Year 2010', \"TATAMOTORS\"] = \"https://www.tatamotors.com/wp-content/uploads/2023/10/ar-10-11.pdf\"\n",
    "df.loc['Financial Year 2013', 'OLECTRA'] = \"https://olectra.com/wp-content/uploads/AR-2010-11.pdf\"\n",
    "df.loc['Financial Year 2013', 'SMLISUZU'] = \"https://smlisuzu.com/storage/uploads/annual_reports/2011-bcf39abf_SML-Annual-Report-2011%20Final.pdf\"\n",
    "df.loc['Financial Year 2014', 'OLECTRA'] = \"https://olectra.com/wp-content/uploads/AR-2009-10.pdf\"\n",
    "df.loc['Financial Year 2014', 'SMLISUZU'] = \"https://smlisuzu.com/storage/uploads/annual_reports/2010-c8b9c3d0_SML-Annual-Report-10.pdf\""
   ]
  },
  {
   "cell_type": "code",
   "execution_count": null,
   "metadata": {},
   "outputs": [
    {
     "data": {
      "text/plain": [
       "'https://olectra.com/wp-content/uploads/AR-2009-10.pdf'"
      ]
     },
     "execution_count": null,
     "metadata": {},
     "output_type": "execute_result"
    }
   ],
   "source": [
    "df.loc['Financial Year 2014', 'OLECTRA']"
   ]
  },
  {
   "cell_type": "code",
   "execution_count": null,
   "metadata": {},
   "outputs": [
    {
     "data": {
      "text/html": [
       "<div>\n",
       "<style scoped>\n",
       "    .dataframe tbody tr th:only-of-type {\n",
       "        vertical-align: middle;\n",
       "    }\n",
       "\n",
       "    .dataframe tbody tr th {\n",
       "        vertical-align: top;\n",
       "    }\n",
       "\n",
       "    .dataframe thead th {\n",
       "        text-align: right;\n",
       "    }\n",
       "</style>\n",
       "<table border=\"1\" class=\"dataframe\">\n",
       "  <thead>\n",
       "    <tr style=\"text-align: right;\">\n",
       "      <th></th>\n",
       "      <th>TATAMOTORS</th>\n",
       "      <th>ASHOKLEY</th>\n",
       "      <th>OLECTRA</th>\n",
       "      <th>FORCEMOT</th>\n",
       "      <th>SMLISUZU</th>\n",
       "    </tr>\n",
       "  </thead>\n",
       "  <tbody>\n",
       "    <tr>\n",
       "      <th>Financial Year 2024</th>\n",
       "      <td>https://www.bseindia.com/stockinfo/AnnPdfOpen....</td>\n",
       "      <td>https://www.bseindia.com/stockinfo/AnnPdfOpen....</td>\n",
       "      <td>https://www.bseindia.com/stockinfo/AnnPdfOpen....</td>\n",
       "      <td>https://www.bseindia.com/stockinfo/AnnPdfOpen....</td>\n",
       "      <td>https://www.bseindia.com/stockinfo/AnnPdfOpen....</td>\n",
       "    </tr>\n",
       "    <tr>\n",
       "      <th>Financial Year 2023</th>\n",
       "      <td>https://www.bseindia.com/stockinfo/AnnPdfOpen....</td>\n",
       "      <td>https://www.bseindia.com/stockinfo/AnnPdfOpen....</td>\n",
       "      <td>https://www.bseindia.com/stockinfo/AnnPdfOpen....</td>\n",
       "      <td>https://www.bseindia.com/stockinfo/AnnPdfOpen....</td>\n",
       "      <td>https://www.bseindia.com/stockinfo/AnnPdfOpen....</td>\n",
       "    </tr>\n",
       "    <tr>\n",
       "      <th>Financial Year 2022</th>\n",
       "      <td>https://www.bseindia.com/bseplus/AnnualReport/...</td>\n",
       "      <td>https://www.bseindia.com/bseplus/AnnualReport/...</td>\n",
       "      <td>https://www.bseindia.com/bseplus/AnnualReport/...</td>\n",
       "      <td>https://www.bseindia.com/bseplus/AnnualReport/...</td>\n",
       "      <td>https://www.bseindia.com/bseplus/AnnualReport/...</td>\n",
       "    </tr>\n",
       "    <tr>\n",
       "      <th>Financial Year 2021</th>\n",
       "      <td>https://www.bseindia.com/bseplus/AnnualReport/...</td>\n",
       "      <td>https://www.bseindia.com/bseplus/AnnualReport/...</td>\n",
       "      <td>https://www.bseindia.com/bseplus/AnnualReport/...</td>\n",
       "      <td>https://www.bseindia.com/bseplus/AnnualReport/...</td>\n",
       "      <td>https://www.bseindia.com/bseplus/AnnualReport/...</td>\n",
       "    </tr>\n",
       "    <tr>\n",
       "      <th>Financial Year 2020</th>\n",
       "      <td>https://www.bseindia.com/bseplus/AnnualReport/...</td>\n",
       "      <td>https://www.bseindia.com/bseplus/AnnualReport/...</td>\n",
       "      <td>https://www.bseindia.com/bseplus/AnnualReport/...</td>\n",
       "      <td>https://www.bseindia.com/bseplus/AnnualReport/...</td>\n",
       "      <td>https://www.bseindia.com/bseplus/AnnualReport/...</td>\n",
       "    </tr>\n",
       "    <tr>\n",
       "      <th>Financial Year 2019</th>\n",
       "      <td>https://www.bseindia.com/bseplus/AnnualReport/...</td>\n",
       "      <td>https://www.bseindia.com/bseplus/AnnualReport/...</td>\n",
       "      <td>https://www.bseindia.com/bseplus/AnnualReport/...</td>\n",
       "      <td>https://www.bseindia.com/bseplus/AnnualReport/...</td>\n",
       "      <td>https://www.bseindia.com/bseplus/AnnualReport/...</td>\n",
       "    </tr>\n",
       "    <tr>\n",
       "      <th>Financial Year 2018</th>\n",
       "      <td>https://www.bseindia.com/bseplus/AnnualReport/...</td>\n",
       "      <td>https://www.bseindia.com/bseplus/AnnualReport/...</td>\n",
       "      <td>https://www.bseindia.com/bseplus/AnnualReport/...</td>\n",
       "      <td>https://www.bseindia.com/bseplus/AnnualReport/...</td>\n",
       "      <td>https://www.bseindia.com/bseplus/AnnualReport/...</td>\n",
       "    </tr>\n",
       "    <tr>\n",
       "      <th>Financial Year 2017</th>\n",
       "      <td>https://www.bseindia.com/bseplus/AnnualReport/...</td>\n",
       "      <td>https://www.bseindia.com/bseplus/AnnualReport/...</td>\n",
       "      <td>https://www.bseindia.com/bseplus/AnnualReport/...</td>\n",
       "      <td>https://www.bseindia.com/bseplus/AnnualReport/...</td>\n",
       "      <td>https://www.bseindia.com/bseplus/AnnualReport/...</td>\n",
       "    </tr>\n",
       "    <tr>\n",
       "      <th>Financial Year 2016</th>\n",
       "      <td>https://www.bseindia.com/bseplus/AnnualReport/...</td>\n",
       "      <td>https://www.bseindia.com/bseplus/AnnualReport/...</td>\n",
       "      <td>https://www.bseindia.com/bseplus/AnnualReport/...</td>\n",
       "      <td>https://www.bseindia.com/bseplus/AnnualReport/...</td>\n",
       "      <td>https://www.bseindia.com/bseplus/AnnualReport/...</td>\n",
       "    </tr>\n",
       "    <tr>\n",
       "      <th>Financial Year 2015</th>\n",
       "      <td>https://www.bseindia.com/bseplus/AnnualReport/...</td>\n",
       "      <td>https://www.bseindia.com/bseplus/AnnualReport/...</td>\n",
       "      <td>https://www.bseindia.com/bseplus/AnnualReport/...</td>\n",
       "      <td>https://www.bseindia.com/bseplus/AnnualReport/...</td>\n",
       "      <td>https://www.bseindia.com/bseplus/AnnualReport/...</td>\n",
       "    </tr>\n",
       "    <tr>\n",
       "      <th>Financial Year 2014</th>\n",
       "      <td>https://www.bseindia.com/bseplus/AnnualReport/...</td>\n",
       "      <td>https://www.bseindia.com/bseplus/AnnualReport/...</td>\n",
       "      <td>https://olectra.com/wp-content/uploads/AR-2009...</td>\n",
       "      <td>https://www.bseindia.com/bseplus/AnnualReport/...</td>\n",
       "      <td>https://smlisuzu.com/storage/uploads/annual_re...</td>\n",
       "    </tr>\n",
       "    <tr>\n",
       "      <th>Financial Year 2013</th>\n",
       "      <td>https://www.bseindia.com/bseplus/AnnualReport/...</td>\n",
       "      <td>https://www.bseindia.com/bseplus/AnnualReport/...</td>\n",
       "      <td>https://olectra.com/wp-content/uploads/AR-2010...</td>\n",
       "      <td>https://www.bseindia.com/bseplus/AnnualReport/...</td>\n",
       "      <td>https://smlisuzu.com/storage/uploads/annual_re...</td>\n",
       "    </tr>\n",
       "    <tr>\n",
       "      <th>Financial Year 2012</th>\n",
       "      <td>https://www.bseindia.com/bseplus/AnnualReport/...</td>\n",
       "      <td>https://www.bseindia.com/bseplus/AnnualReport/...</td>\n",
       "      <td>https://archives.nseindia.com/annual_reports/A...</td>\n",
       "      <td>https://www.bseindia.com/bseplus/AnnualReport/...</td>\n",
       "      <td>https://archives.nseindia.com/annual_reports/A...</td>\n",
       "    </tr>\n",
       "    <tr>\n",
       "      <th>Financial Year 2011</th>\n",
       "      <td>https://www.tatamotors.com/wp-content/uploads/...</td>\n",
       "      <td>https://www.bseindia.com/bseplus/AnnualReport/...</td>\n",
       "      <td>NaN</td>\n",
       "      <td>https://www.bseindia.com/bseplus/AnnualReport/...</td>\n",
       "      <td>NaN</td>\n",
       "    </tr>\n",
       "    <tr>\n",
       "      <th>Financial Year 2010</th>\n",
       "      <td>https://www.tatamotors.com/wp-content/uploads/...</td>\n",
       "      <td>https://archives.nseindia.com/annual_reports/A...</td>\n",
       "      <td>NaN</td>\n",
       "      <td>https://www.bseindia.com/bseplus/AnnualReport/...</td>\n",
       "      <td>NaN</td>\n",
       "    </tr>\n",
       "  </tbody>\n",
       "</table>\n",
       "</div>"
      ],
      "text/plain": [
       "                                                            TATAMOTORS  \\\n",
       "Financial Year 2024  https://www.bseindia.com/stockinfo/AnnPdfOpen....   \n",
       "Financial Year 2023  https://www.bseindia.com/stockinfo/AnnPdfOpen....   \n",
       "Financial Year 2022  https://www.bseindia.com/bseplus/AnnualReport/...   \n",
       "Financial Year 2021  https://www.bseindia.com/bseplus/AnnualReport/...   \n",
       "Financial Year 2020  https://www.bseindia.com/bseplus/AnnualReport/...   \n",
       "Financial Year 2019  https://www.bseindia.com/bseplus/AnnualReport/...   \n",
       "Financial Year 2018  https://www.bseindia.com/bseplus/AnnualReport/...   \n",
       "Financial Year 2017  https://www.bseindia.com/bseplus/AnnualReport/...   \n",
       "Financial Year 2016  https://www.bseindia.com/bseplus/AnnualReport/...   \n",
       "Financial Year 2015  https://www.bseindia.com/bseplus/AnnualReport/...   \n",
       "Financial Year 2014  https://www.bseindia.com/bseplus/AnnualReport/...   \n",
       "Financial Year 2013  https://www.bseindia.com/bseplus/AnnualReport/...   \n",
       "Financial Year 2012  https://www.bseindia.com/bseplus/AnnualReport/...   \n",
       "Financial Year 2011  https://www.tatamotors.com/wp-content/uploads/...   \n",
       "Financial Year 2010  https://www.tatamotors.com/wp-content/uploads/...   \n",
       "\n",
       "                                                              ASHOKLEY  \\\n",
       "Financial Year 2024  https://www.bseindia.com/stockinfo/AnnPdfOpen....   \n",
       "Financial Year 2023  https://www.bseindia.com/stockinfo/AnnPdfOpen....   \n",
       "Financial Year 2022  https://www.bseindia.com/bseplus/AnnualReport/...   \n",
       "Financial Year 2021  https://www.bseindia.com/bseplus/AnnualReport/...   \n",
       "Financial Year 2020  https://www.bseindia.com/bseplus/AnnualReport/...   \n",
       "Financial Year 2019  https://www.bseindia.com/bseplus/AnnualReport/...   \n",
       "Financial Year 2018  https://www.bseindia.com/bseplus/AnnualReport/...   \n",
       "Financial Year 2017  https://www.bseindia.com/bseplus/AnnualReport/...   \n",
       "Financial Year 2016  https://www.bseindia.com/bseplus/AnnualReport/...   \n",
       "Financial Year 2015  https://www.bseindia.com/bseplus/AnnualReport/...   \n",
       "Financial Year 2014  https://www.bseindia.com/bseplus/AnnualReport/...   \n",
       "Financial Year 2013  https://www.bseindia.com/bseplus/AnnualReport/...   \n",
       "Financial Year 2012  https://www.bseindia.com/bseplus/AnnualReport/...   \n",
       "Financial Year 2011  https://www.bseindia.com/bseplus/AnnualReport/...   \n",
       "Financial Year 2010  https://archives.nseindia.com/annual_reports/A...   \n",
       "\n",
       "                                                               OLECTRA  \\\n",
       "Financial Year 2024  https://www.bseindia.com/stockinfo/AnnPdfOpen....   \n",
       "Financial Year 2023  https://www.bseindia.com/stockinfo/AnnPdfOpen....   \n",
       "Financial Year 2022  https://www.bseindia.com/bseplus/AnnualReport/...   \n",
       "Financial Year 2021  https://www.bseindia.com/bseplus/AnnualReport/...   \n",
       "Financial Year 2020  https://www.bseindia.com/bseplus/AnnualReport/...   \n",
       "Financial Year 2019  https://www.bseindia.com/bseplus/AnnualReport/...   \n",
       "Financial Year 2018  https://www.bseindia.com/bseplus/AnnualReport/...   \n",
       "Financial Year 2017  https://www.bseindia.com/bseplus/AnnualReport/...   \n",
       "Financial Year 2016  https://www.bseindia.com/bseplus/AnnualReport/...   \n",
       "Financial Year 2015  https://www.bseindia.com/bseplus/AnnualReport/...   \n",
       "Financial Year 2014  https://olectra.com/wp-content/uploads/AR-2009...   \n",
       "Financial Year 2013  https://olectra.com/wp-content/uploads/AR-2010...   \n",
       "Financial Year 2012  https://archives.nseindia.com/annual_reports/A...   \n",
       "Financial Year 2011                                                NaN   \n",
       "Financial Year 2010                                                NaN   \n",
       "\n",
       "                                                              FORCEMOT  \\\n",
       "Financial Year 2024  https://www.bseindia.com/stockinfo/AnnPdfOpen....   \n",
       "Financial Year 2023  https://www.bseindia.com/stockinfo/AnnPdfOpen....   \n",
       "Financial Year 2022  https://www.bseindia.com/bseplus/AnnualReport/...   \n",
       "Financial Year 2021  https://www.bseindia.com/bseplus/AnnualReport/...   \n",
       "Financial Year 2020  https://www.bseindia.com/bseplus/AnnualReport/...   \n",
       "Financial Year 2019  https://www.bseindia.com/bseplus/AnnualReport/...   \n",
       "Financial Year 2018  https://www.bseindia.com/bseplus/AnnualReport/...   \n",
       "Financial Year 2017  https://www.bseindia.com/bseplus/AnnualReport/...   \n",
       "Financial Year 2016  https://www.bseindia.com/bseplus/AnnualReport/...   \n",
       "Financial Year 2015  https://www.bseindia.com/bseplus/AnnualReport/...   \n",
       "Financial Year 2014  https://www.bseindia.com/bseplus/AnnualReport/...   \n",
       "Financial Year 2013  https://www.bseindia.com/bseplus/AnnualReport/...   \n",
       "Financial Year 2012  https://www.bseindia.com/bseplus/AnnualReport/...   \n",
       "Financial Year 2011  https://www.bseindia.com/bseplus/AnnualReport/...   \n",
       "Financial Year 2010  https://www.bseindia.com/bseplus/AnnualReport/...   \n",
       "\n",
       "                                                              SMLISUZU  \n",
       "Financial Year 2024  https://www.bseindia.com/stockinfo/AnnPdfOpen....  \n",
       "Financial Year 2023  https://www.bseindia.com/stockinfo/AnnPdfOpen....  \n",
       "Financial Year 2022  https://www.bseindia.com/bseplus/AnnualReport/...  \n",
       "Financial Year 2021  https://www.bseindia.com/bseplus/AnnualReport/...  \n",
       "Financial Year 2020  https://www.bseindia.com/bseplus/AnnualReport/...  \n",
       "Financial Year 2019  https://www.bseindia.com/bseplus/AnnualReport/...  \n",
       "Financial Year 2018  https://www.bseindia.com/bseplus/AnnualReport/...  \n",
       "Financial Year 2017  https://www.bseindia.com/bseplus/AnnualReport/...  \n",
       "Financial Year 2016  https://www.bseindia.com/bseplus/AnnualReport/...  \n",
       "Financial Year 2015  https://www.bseindia.com/bseplus/AnnualReport/...  \n",
       "Financial Year 2014  https://smlisuzu.com/storage/uploads/annual_re...  \n",
       "Financial Year 2013  https://smlisuzu.com/storage/uploads/annual_re...  \n",
       "Financial Year 2012  https://archives.nseindia.com/annual_reports/A...  \n",
       "Financial Year 2011                                                NaN  \n",
       "Financial Year 2010                                                NaN  "
      ]
     },
     "execution_count": null,
     "metadata": {},
     "output_type": "execute_result"
    }
   ],
   "source": [
    "df"
   ]
  },
  {
   "cell_type": "code",
   "execution_count": null,
   "metadata": {},
   "outputs": [
    {
     "data": {
      "text/plain": [
       "nan"
      ]
     },
     "execution_count": null,
     "metadata": {},
     "output_type": "execute_result"
    }
   ],
   "source": [
    "df.loc[13][\"SMLISUZU\"]"
   ]
  },
  {
   "cell_type": "code",
   "execution_count": null,
   "metadata": {},
   "outputs": [
    {
     "data": {
      "text/plain": [
       "('https://olectra.com/wp-content/uploads/AR-2009-10.pdf',\n",
       " 'https://olectra.com/wp-content/uploads/AR-2010-11.pdf')"
      ]
     },
     "execution_count": null,
     "metadata": {},
     "output_type": "execute_result"
    }
   ],
   "source": [
    "df.loc['Financial Year 2014', 'OLECTRA'], df.loc['Financial Year 2013', 'OLECTRA']"
   ]
  },
  {
   "cell_type": "code",
   "execution_count": null,
   "metadata": {},
   "outputs": [
    {
     "name": "stdout",
     "output_type": "stream",
     "text": [
      "https://olectra.com/wp-content/uploads/AR-2010-11.pdf\n"
     ]
    }
   ],
   "source": [
    "print(df.loc[\"Financial Year 2013\", \"OLECTRA\"])  # Check the updated value"
   ]
  },
  {
   "cell_type": "code",
   "execution_count": null,
   "metadata": {},
   "outputs": [],
   "source": [
    "df.to_csv('company2.csv')"
   ]
  },
  {
   "cell_type": "code",
   "execution_count": null,
   "metadata": {},
   "outputs": [
    {
     "name": "stdout",
     "output_type": "stream",
     "text": [
      "0 TATAMOTORS\n",
      "1 TATAMOTORS\n",
      "2 TATAMOTORS\n",
      "3 TATAMOTORS\n",
      "4 TATAMOTORS\n",
      "5 TATAMOTORS\n",
      "6 TATAMOTORS\n",
      "7 TATAMOTORS\n",
      "8 TATAMOTORS\n",
      "9 TATAMOTORS\n",
      "10 TATAMOTORS\n",
      "11 TATAMOTORS\n",
      "12 TATAMOTORS\n",
      "13 TATAMOTORS\n",
      "\n",
      "\n",
      "0 ASHOKLEY\n",
      "1 ASHOKLEY\n",
      "2 ASHOKLEY\n",
      "3 ASHOKLEY\n",
      "4 ASHOKLEY\n",
      "5 ASHOKLEY\n",
      "6 ASHOKLEY\n",
      "7 ASHOKLEY\n",
      "8 ASHOKLEY\n",
      "9 ASHOKLEY\n",
      "10 ASHOKLEY\n",
      "11 ASHOKLEY\n",
      "12 ASHOKLEY\n",
      "13 ASHOKLEY\n",
      "14 ASHOKLEY\n",
      "\n",
      "\n",
      "0 OLECTRA\n",
      "1 OLECTRA\n",
      "2 OLECTRA\n",
      "3 OLECTRA\n",
      "4 OLECTRA\n",
      "5 OLECTRA\n",
      "6 OLECTRA\n",
      "7 OLECTRA\n",
      "8 OLECTRA\n",
      "9 OLECTRA\n",
      "10 OLECTRA\n",
      "11 OLECTRA\n",
      "12 OLECTRA\n",
      "\n",
      "\n",
      "0 FORCEMOT\n",
      "1 FORCEMOT\n",
      "2 FORCEMOT\n",
      "3 FORCEMOT\n",
      "4 FORCEMOT\n",
      "5 FORCEMOT\n",
      "6 FORCEMOT\n",
      "7 FORCEMOT\n",
      "8 FORCEMOT\n",
      "9 FORCEMOT\n",
      "10 FORCEMOT\n",
      "11 FORCEMOT\n",
      "12 FORCEMOT\n",
      "13 FORCEMOT\n",
      "14 FORCEMOT\n",
      "\n",
      "\n",
      "0 SMLISUZU\n",
      "1 SMLISUZU\n",
      "2 SMLISUZU\n",
      "3 SMLISUZU\n",
      "4 SMLISUZU\n",
      "5 SMLISUZU\n",
      "6 SMLISUZU\n",
      "7 SMLISUZU\n",
      "8 SMLISUZU\n",
      "9 SMLISUZU\n",
      "10 SMLISUZU\n",
      "11 SMLISUZU\n",
      "12 SMLISUZU\n",
      "\n",
      "\n"
     ]
    }
   ],
   "source": [
    "for i in df.columns:\n",
    "    for j in range(N):\n",
    "        if not pd.isna(df.iloc[j][i]):\n",
    "            \n",
    "            res = req(df.iloc[j][i])\n",
    "            if res.status_code != 200:\n",
    "                lis.append((j,i))\n",
    "        \n",
    "    print(\"\\n\")"
   ]
  },
  {
   "cell_type": "code",
   "execution_count": null,
   "metadata": {},
   "outputs": [
    {
     "name": "stdout",
     "output_type": "stream",
     "text": [
      "4 ASHOKLEY\n",
      "5 ASHOKLEY\n",
      "7 ASHOKLEY\n",
      "8 ASHOKLEY\n",
      "8 ASHOKLEY https://www.bseindia.com/bseplus/AnnualReport/500477/5004770316.pdf\n",
      "10 ASHOKLEY\n",
      "11 ASHOKLEY\n",
      "12 ASHOKLEY\n",
      "2 OLECTRA\n",
      "3 OLECTRA\n",
      "5 OLECTRA\n",
      "6 OLECTRA\n",
      "8 OLECTRA\n",
      "9 OLECTRA\n",
      "4 FORCEMOT\n",
      "11 FORCEMOT\n",
      "12 FORCEMOT\n",
      "13 FORCEMOT\n",
      "2 SMLISUZU\n",
      "3 SMLISUZU\n",
      "5 SMLISUZU\n",
      "7 SMLISUZU\n",
      "8 SMLISUZU\n",
      "9 SMLISUZU\n"
     ]
    }
   ],
   "source": [
    "count = 0\n",
    "for i, j in lis:\n",
    "    print(i,j)\n",
    "    \n",
    "    res = req(df.iloc[i][j])\n",
    "    if res.status_code != 200:\n",
    "        count = count + 1\n",
    "        print(i, j, df.iloc[i][j])\n",
    "        "
   ]
  },
  {
   "cell_type": "code",
   "execution_count": null,
   "metadata": {},
   "outputs": [
    {
     "data": {
      "text/plain": [
       "1"
      ]
     },
     "execution_count": null,
     "metadata": {},
     "output_type": "execute_result"
    }
   ],
   "source": [
    "count"
   ]
  },
  {
   "cell_type": "code",
   "execution_count": null,
   "metadata": {},
   "outputs": [
    {
     "data": {
      "text/plain": [
       "'https://www.bseindia.com/bseplus/AnnualReport/505192/5051920315.pdf'"
      ]
     },
     "execution_count": null,
     "metadata": {},
     "output_type": "execute_result"
    }
   ],
   "source": [
    "df.iloc[9][\"SMLISUZU\"]"
   ]
  },
  {
   "cell_type": "code",
   "execution_count": null,
   "metadata": {},
   "outputs": [],
   "source": [
    "import httpx\n",
    "headers = {\n",
    "    'User-Agent': 'Mozilla/5.0 (Windows NT 10.0; Win64; x64) AppleWebKit/537.36 (KHTML, like Gecko) Chrome/120.0.0.0 Safari/537.36',\n",
    "    'Accept': 'text/html,application/pdf,*/*'\n",
    "    }\n",
    "\n",
    "timeout = httpx.Timeout(\n",
    "    connect=5.0,  # Time to establish a connection\n",
    "    read=30.0,    # Time to read the response after connection\n",
    "    write=10.0,   # Time to write the request data\n",
    "    pool=60.0     # Time for connection pooling\n",
    ")\n",
    "\n",
    "req = lambda x : httpx.get(x, headers=headers, timeout=timeout, follow_redirects=True )"
   ]
  },
  {
   "cell_type": "code",
   "execution_count": null,
   "metadata": {},
   "outputs": [],
   "source": [
    "import httpx\n",
    "\n",
    "headers = {\n",
    "    'User-Agent': 'Mozilla/5.0 (Windows NT 10.0; Win64; x64) AppleWebKit/537.36 (KHTML, like Gecko) Chrome/120.0.0.0 Safari/537.36',\n",
    "    'Accept': 'text/html,application/pdf,*/*'\n",
    "}\n",
    "\n",
    "timeout = httpx.Timeout(connect=5.0, read=120.0, write=10.0, pool=60.0)\n",
    "\n",
    "async def fetch_url(url):\n",
    "    async with httpx.AsyncClient() as client:\n",
    "        response = await client.get(url, headers=headers, timeout=timeout, follow_redirects=True)\n",
    "        return response\n",
    "\n"
   ]
  },
  {
   "cell_type": "code",
   "execution_count": null,
   "metadata": {},
   "outputs": [
    {
     "name": "stdout",
     "output_type": "stream",
     "text": [
      "4 ASHOKLEY\n",
      "5 ASHOKLEY\n",
      "7 ASHOKLEY\n",
      "8 ASHOKLEY\n",
      "10 ASHOKLEY\n",
      "11 ASHOKLEY\n",
      "12 ASHOKLEY\n",
      "2 OLECTRA\n",
      "3 OLECTRA\n",
      "5 OLECTRA\n",
      "6 OLECTRA\n",
      "8 OLECTRA\n",
      "9 OLECTRA\n",
      "4 FORCEMOT\n",
      "11 FORCEMOT\n",
      "12 FORCEMOT\n",
      "13 FORCEMOT\n",
      "2 SMLISUZU\n",
      "3 SMLISUZU\n",
      "5 SMLISUZU\n",
      "7 SMLISUZU\n",
      "8 SMLISUZU\n",
      "9 SMLISUZU\n"
     ]
    }
   ],
   "source": [
    "count = 0\n",
    "for i, j in lis:\n",
    "    print(i,j)\n",
    "    \n",
    "    res = await fetch_url(df.iloc[i][j])\n",
    "    if res.status_code != 200:\n",
    "        count = count + 1\n",
    "        print(i, j, df.iloc[i][j])\n",
    "        "
   ]
  },
  {
   "cell_type": "code",
   "execution_count": null,
   "metadata": {},
   "outputs": [],
   "source": []
  }
 ],
 "metadata": {
  "kernelspec": {
   "display_name": "python3",
   "language": "python",
   "name": "python3"
  }
 },
 "nbformat": 4,
 "nbformat_minor": 2
}
