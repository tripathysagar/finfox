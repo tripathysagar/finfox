{
 "cells": [
  {
   "cell_type": "markdown",
   "metadata": {},
   "source": [
    "# extractGemini\n",
    "\n",
    "> use google genai to process data"
   ]
  },
  {
   "cell_type": "code",
   "execution_count": null,
   "metadata": {},
   "outputs": [],
   "source": [
    "#| default_exp extractGemini"
   ]
  },
  {
   "cell_type": "code",
   "execution_count": 42,
   "metadata": {},
   "outputs": [],
   "source": [
    "#| export \n",
    "from fastcore.utils import *\n",
    "from fastcore.xtras import *\n",
    "from finfox.core import *\n",
    "import pandas as pd"
   ]
  },
  {
   "cell_type": "markdown",
   "metadata": {},
   "source": [
    "## Gemini api"
   ]
  },
  {
   "cell_type": "code",
   "execution_count": 39,
   "metadata": {},
   "outputs": [],
   "source": [
    "#| export\n",
    "#| hide\n",
    "import os\n",
    "from dotenv import load_dotenv\n",
    "from google import genai\n",
    "load_dotenv()\n",
    "gemini_key = os.environ[\"GEMINI_KEY1\"]"
   ]
  },
  {
   "cell_type": "code",
   "execution_count": 40,
   "metadata": {},
   "outputs": [],
   "source": [
    "#| export\n",
    "def promt_helper(s): \n",
    "    response = client.models.generate_content(\n",
    "        model=\"gemini-1.5-flash\", \n",
    "        contents=f\"Write an efficient prompt for llm for the task: {s}\",\n",
    "    )\n",
    "    return response.text"
   ]
  },
  {
   "cell_type": "code",
   "execution_count": 65,
   "metadata": {},
   "outputs": [
    {
     "name": "stdout",
     "output_type": "stream",
     "text": [
      "Okay, here's an efficient prompt for an LLM to extract information from a financial statement image and output it in Markdown:\n",
      "\n",
      "```prompt\n",
      "You are an expert AI financial statement data extractor. Your task is to analyze images of financial statements and extract all relevant information into a well-structured Markdown document.\n",
      "\n",
      "**Input:** An image of a financial statement (e.g., Balance Sheet, Income Statement, Cash Flow Statement, or Notes to Financial Statements).\n",
      "\n",
      "**Instructions:**\n",
      "\n",
      "1.  **Thorough Extraction:** Extract all textual data from the image, including headings, labels, values, footnotes, and narrative text. Ensure accuracy in transcribing numbers and dates.\n",
      "\n",
      "2.  **Markdown Formatting:** Organize the extracted information using Markdown syntax for clear presentation.\n",
      "    *   Use headings (H1-H6) to structure the document according to the statement's layout (e.g., Balance Sheet, Assets, Liabilities & Equity).\n",
      "    *   Format tables using Markdown table syntax (e.g., `| Header 1 | Header 2 |\\n|---|---|`). Reconstruct the tabular structure accurately.\n",
      "    *   Use lists for itemized information.\n",
      "    *   Bold key values and labels where appropriate.\n",
      "    *   Use blockquotes for any narrative text or footnotes.\n",
      "\n",
      "3.  **Data Transcription:**\n",
      "    *   **Tables:**  Accurately transcribe table data, including column headers, row labels, and numerical values.  Ensure correct alignment within the Markdown table.\n",
      "    *   **Figures/Graphs:**  **Do not return any images.** For figures and graphs, extract any textual descriptions, titles, axis labels, legends, and key data points (if discernible and textually represented).  Describe the general trend or relationship shown in the graph in a concise sentence or two.  If specific numerical values are associated with data points in the graph and are readable, include them. If the graph data is not textually represented, only return a summary of what the graph depicts.\n",
      "    *   **Footnotes:** Include all footnotes, clearly identified and linked to the relevant sections of the financial statement.\n",
      "\n",
      "4.  **No Images:**  **Do not return any images.** Your output should be purely textual Markdown.\n",
      "\n",
      "5.  **Completeness:** Aim for a complete and accurate transcription of all information present in the image. If something is unreadable or ambiguous, indicate this in the Markdown with a clear note (e.g., `[UNREADABLE: Please review original image]`).\n",
      "\n",
      "6. **Output:** Provide the complete financial statement information in a single, continuous Markdown document.\n",
      "\n",
      "**Example Output Snippet (Illustrative):**\n",
      "\n",
      "```markdown\n",
      "## Balance Sheet\n",
      "\n",
      "### Assets\n",
      "\n",
      "|  | 2023 | 2022 |\n",
      "|---|---|---|\n",
      "| Cash and Cash Equivalents | **$1,234,567** | $987,654 |\n",
      "| Accounts Receivable | $876,543 | $765,432 |\n",
      "| Inventory | $543,210 | $432,109 |\n",
      "| **Total Current Assets** | **$2,654,320** | $2,185,195 |\n",
      "\n",
      "> Note 1:  Cash and cash equivalents include highly liquid investments with original maturities of three months or less.\n",
      "\n",
      "A bar graph depicts revenue growth from 2020 to 2023. Revenue increased each year, with the largest increase occurring between 2022 and 2023. In 2020 revenue was $1,000,000 and in 2023 revenue was $4,000,000.\n",
      "\n",
      "```\n",
      "\n",
      "**Now, process the following image of a financial statement:** [Insert Image Here or reference to image location]\n",
      "```\n",
      "\n",
      "**Key Improvements & Explanation:**\n",
      "\n",
      "*   **Clear Role Definition:**  Starts by explicitly defining the LLM's role as a \"expert AI financial statement data extractor.\"\n",
      "*   **Explicit Instructions:** Provides step-by-step instructions, making the task clear and unambiguous.\n",
      "*   **Markdown Emphasis:** Clearly states the requirement for Markdown output and provides specific guidance on formatting tables, headings, and lists.\n",
      "*   **Handles Figures/Graphs Appropriately:**  The prompt explicitly instructs the LLM to *not* return images and provides specific instructions on how to describe figures and graphs textually.  It focuses on extracting key information that can be represented in text.  It also handles the case where graph data cannot be readily transcribed numerically.\n",
      "*   **Error Handling:** Includes instructions for handling unreadable or ambiguous data.\n",
      "*   **Output Example:** The example snippet illustrates the desired Markdown format, making the requirements even clearer.  Helps the LLM understand what a good output looks like.\n",
      "*   **Concise and Efficient:**  The prompt is relatively concise while still providing comprehensive instructions.\n",
      "*   **Completeness Emphasis:**  Stresses the importance of extracting all relevant information.\n",
      "* **Avoids Hallucinations:** By not returning any images, LLM is limited to the information reported in the original image.\n",
      "\n",
      "**How to use this prompt:**\n",
      "\n",
      "1.  **Replace `[Insert Image Here or reference to image location]`** with the actual image data (e.g., a base64 encoded image string) or a URL pointing to the image. The method of image input will depend on the specific LLM platform you are using.\n",
      "2.  Adjust the example snippet if needed to more closely reflect the type of financial statements you will be processing.\n",
      "3.  Test and refine the prompt based on the LLM's initial outputs.  You might need to adjust instructions or add more examples to get the desired results.\n",
      "\n",
      "This prompt should significantly improve the LLM's ability to extract and present financial statement data in a structured Markdown format. Remember to iterate and refine the prompt based on your specific needs and the LLM's performance.\n",
      "\n"
     ]
    }
   ],
   "source": [
    "p = promt_helper(\"\"\"\n",
    "As a AI image extractor, given a finacial statement as image extract all the information in markdown.\n",
    "Transcript the table, figures and graph as reported. Do not return any images.\n",
    "\"\"\")\n",
    "print(p)"
   ]
  },
  {
   "cell_type": "markdown",
   "metadata": {},
   "source": [
    "## image extraction"
   ]
  },
  {
   "cell_type": "code",
   "execution_count": 172,
   "metadata": {},
   "outputs": [],
   "source": [
    "promt = \"\"\"\n",
    "You are an expert AI finance Engine trained to extract data from input image. Double check before generation.\n",
    "Your task is to analyze the provided image and transcribe all relevant information into a structured Markdown document.\n",
    "Do not miss anything, evrything is mission critcal. \n",
    "Wait and think, be rigorous in following the Instructions:\n",
    "1. **Tables:** Replicate all tables exactly as presented in the image. Use Markdown table syntax for formatting. Preserve headings, row labels, and numerical data with accurate values and formatting (e.g., commas, decimals).\n",
    "2. **Figures (Numerical Data):** If numerical data is presented outside of tables, transcribe this data with clear labels indicating what the numbers represent. Use bullet points or numbered lists for better organization.\n",
    "3. **Graphs (Reported Data):** Summarize the information conveyed by any graphs. Identify the key trends, data points, and conclusions that are visually communicated in the graph. Describe these insights in concise sentences or bullet points.  Do not attempt to recreate the graph visually; focus on extracting the reported data.\n",
    "4. **General instructions:** Do not return any images.\n",
    "5. **No Interpretation or Analysis:**  Do not provide any analysis, interpretation, or commentary on the financial data. Your sole purpose is transcription and structured representation.\n",
    "6. **Accuracy:** Ensure 100% accuracy when transcribing numerical data.\n",
    "7. **Order:** Present the information in the same order as it appears in the image, starting from the top left and proceeding sequentially.\n",
    "8. **Return all other OCR as present in the image. Do not summerize or ommit any information.**\n",
    "9. Do not send redundant blanck spaces and any non numerical chars more than 3 times(Do not sent \"I am .....\" instead send \"I am .\")\n",
    "\"\"\""
   ]
  },
  {
   "cell_type": "code",
   "execution_count": null,
   "metadata": {},
   "outputs": [],
   "source": [
    "promt = \"\"\"You are an expert AI Finance Engine trained to extract data from input images with exceptional accuracy. \n",
    "Your task is to analyze the provided image and transcribe all relevant information into a structured Markdown document.\n",
    "Every detail is mission critical; do not omit any information.\n",
    "Please follow these instructions precisely:\n",
    "\n",
    "1. **Tables:**\n",
    "   - Replicate all tables exactly as they appear in the image.\n",
    "   - Format tables using Markdown table syntax.\n",
    "   - Preserve table headings, row labels, and numerical data with exact formatting (including commas, decimals, etc.).\n",
    "\n",
    "2. **Figures (Numerical Data):**\n",
    "   - Transcribe any numerical data presented outside of tables, with clear labels indicating what each number represents.\n",
    "   - Organize this information using bullet points or numbered lists.\n",
    "\n",
    "3. **Graphs (Reported Data):**\n",
    "   - Summarize the data from any graphs by identifying key trends, data points, and conclusions.\n",
    "   - Describe these insights in concise sentences or bullet points.\n",
    "   - Do not attempt to recreate graphs visually; focus only on extracting and presenting the reported data.\n",
    "\n",
    "4. **General Guidelines:**\n",
    "   - Do not return any images.\n",
    "   - Do not provide interpretation, analysis, or commentary on the financial data; simply transcribe the information.\n",
    "   - Ensure 100% accuracy when transcribing numerical data and other text.\n",
    "\n",
    "5. **Order and Completeness:**\n",
    "   - Present the information in the same sequence as it appears in the image, starting from the top left and proceeding sequentially.\n",
    "   - Return all OCR-extracted text exactly as present in the image; do not summarize or omit any content.\n",
    "\n",
    "6. **Formatting Specifics:**\n",
    "   - Avoid redundant blank spaces.\n",
    "   - Do not use sequences of more than three identical non-numerical characters. For example, instead of \"I am .....\" use \"I am .\"\n",
    "   - Limit the generation of chars like\n",
    "\n",
    "Before generating your final output, double-check all details for completeness and accuracy.\n",
    "Wait and think, be rigorous.\"\"\"\n"
   ]
  },
  {
   "cell_type": "code",
   "execution_count": 43,
   "metadata": {},
   "outputs": [
    {
     "data": {
      "text/html": [
       "<div>\n",
       "<style scoped>\n",
       "    .dataframe tbody tr th:only-of-type {\n",
       "        vertical-align: middle;\n",
       "    }\n",
       "\n",
       "    .dataframe tbody tr th {\n",
       "        vertical-align: top;\n",
       "    }\n",
       "\n",
       "    .dataframe thead th {\n",
       "        text-align: right;\n",
       "    }\n",
       "</style>\n",
       "<table border=\"1\" class=\"dataframe\">\n",
       "  <thead>\n",
       "    <tr style=\"text-align: right;\">\n",
       "      <th></th>\n",
       "      <th>fn</th>\n",
       "    </tr>\n",
       "  </thead>\n",
       "  <tbody>\n",
       "    <tr>\n",
       "      <th>0</th>\n",
       "      <td>/mnt/d/finfox/ASHOKLEY/Financial Year 2010/ind...</td>\n",
       "    </tr>\n",
       "    <tr>\n",
       "      <th>1</th>\n",
       "      <td>/mnt/d/finfox/ASHOKLEY/Financial Year 2010/ind...</td>\n",
       "    </tr>\n",
       "    <tr>\n",
       "      <th>2</th>\n",
       "      <td>/mnt/d/finfox/ASHOKLEY/Financial Year 2010/ind...</td>\n",
       "    </tr>\n",
       "    <tr>\n",
       "      <th>3</th>\n",
       "      <td>/mnt/d/finfox/ASHOKLEY/Financial Year 2010/ind...</td>\n",
       "    </tr>\n",
       "    <tr>\n",
       "      <th>4</th>\n",
       "      <td>/mnt/d/finfox/ASHOKLEY/Financial Year 2010/ind...</td>\n",
       "    </tr>\n",
       "  </tbody>\n",
       "</table>\n",
       "</div>"
      ],
      "text/plain": [
       "                                                  fn\n",
       "0  /mnt/d/finfox/ASHOKLEY/Financial Year 2010/ind...\n",
       "1  /mnt/d/finfox/ASHOKLEY/Financial Year 2010/ind...\n",
       "2  /mnt/d/finfox/ASHOKLEY/Financial Year 2010/ind...\n",
       "3  /mnt/d/finfox/ASHOKLEY/Financial Year 2010/ind...\n",
       "4  /mnt/d/finfox/ASHOKLEY/Financial Year 2010/ind..."
      ]
     },
     "execution_count": 43,
     "metadata": {},
     "output_type": "execute_result"
    }
   ],
   "source": [
    "df = pd.read_csv(\"imgs.csv\")\n",
    "df.head()"
   ]
  },
  {
   "cell_type": "code",
   "execution_count": 45,
   "metadata": {},
   "outputs": [
    {
     "data": {
      "text/plain": [
       "'/mnt/d/finfox/ASHOKLEY/Financial Year 2010/index_img/0.png'"
      ]
     },
     "execution_count": 45,
     "metadata": {},
     "output_type": "execute_result"
    }
   ],
   "source": [
    "df.iloc[0]['fn']"
   ]
  },
  {
   "cell_type": "code",
   "execution_count": 49,
   "metadata": {},
   "outputs": [],
   "source": [
    "config = genai.types.GenerateContentConfig(\n",
    "        temperature=0.5,\n",
    "        max_output_tokens=2_048,  # Maximum number of tokens to generate\n",
    "    )"
   ]
  },
  {
   "cell_type": "code",
   "execution_count": 62,
   "metadata": {},
   "outputs": [],
   "source": [
    "#| export \n",
    "from PIL import Image\n",
    "def im_open(fn:Path):\n",
    "    \"\"\"\n",
    "    open an image and return image\n",
    "    \"\"\"\n",
    "    return Image.open(fn)"
   ]
  },
  {
   "cell_type": "code",
   "execution_count": 65,
   "metadata": {},
   "outputs": [],
   "source": [
    "fn = Path(df.iloc[10]['fn'])\n",
    "im = im_open(fn)"
   ]
  },
  {
   "cell_type": "code",
   "execution_count": 97,
   "metadata": {},
   "outputs": [
    {
     "data": {
      "text/plain": [
       "(Path('/mnt/d/finfox/ASHOKLEY/Financial Year 2010/Index_md'), '19')"
      ]
     },
     "execution_count": 97,
     "metadata": {},
     "output_type": "execute_result"
    }
   ],
   "source": [
    "fn.parent.parent/\"Index_md\",  fn.name.split('.')[0]"
   ]
  },
  {
   "cell_type": "code",
   "execution_count": 107,
   "metadata": {},
   "outputs": [],
   "source": [
    "#| export \n",
    "import re\n",
    "def md(text: str) -> list:\n",
    "    \"\"\"\n",
    "    Extract text wrapped in markdown-style triple backticks.\n",
    "    - list: A list of extracted strings.\n",
    "    \"\"\"\n",
    "    pattern = r'```(?:markdown)?(.*?)```'  # Match ```markdown <text> ```\n",
    "    return [match.strip() for match in re.findall(pattern, text, re.DOTALL)]"
   ]
  },
  {
   "cell_type": "code",
   "execution_count": 108,
   "metadata": {},
   "outputs": [
    {
     "data": {
      "text/plain": [
       "['This is the markdown content.']"
      ]
     },
     "execution_count": 108,
     "metadata": {},
     "output_type": "execute_result"
    }
   ],
   "source": [
    "md(\"\"\"Some content outside\n",
    "```markdown\n",
    "This is the markdown content.\n",
    "```\n",
    "\"\"\")"
   ]
  },
  {
   "cell_type": "code",
   "execution_count": 58,
   "metadata": {},
   "outputs": [
    {
     "name": "stdout",
     "output_type": "stream",
     "text": [
      "```markdown\n",
      "ANNEXURE-B TO DIRECTORS' REPORT - REPORT ON CORPORATE GOVERNANCE\n",
      "Non-mandatory requirements\n",
      "1. Non-Executive Chairman\n",
      "\n",
      "The Company maintains the office of the Non-Executive\n",
      "Chairman and reimburses expenses incurred in the\n",
      "performance of his duties.\n",
      "\n",
      "2. Remuneration Committee\n",
      "\n",
      "The Company has constituted a Remuneration Committee;\n",
      "full details are furnished under Item 4 of this Annexure.\n",
      "\n",
      "3. Shareholder Rights\n",
      "\n",
      "The statements of quarterly and half-yearly results are being\n",
      "published in the Press. The Company has been mailing half-\n",
      "yearly reports to shareholders since October 2001, along with\n",
      "a letter from the Managing Director highlighting significant\n",
      "events.\n",
      "\n",
      "4. Postal Ballot\n",
      "\n",
      "The Company has had no occasion to use the postal ballot\n",
      "during the year.\n",
      "\n",
      "5. Whistle Blower Policy\n",
      "\n",
      "The Company does not have a Whistle Blower Policy, but has\n",
      "an independent Ombudsman, who is not an employee of the\n",
      "Company.\n",
      "\n",
      "SEBI Guidelines on Corporate Governance\n",
      "\n",
      "The Company is fully compliant with the SEBI Guidelines.\n",
      "\n",
      "Code of Conduct\n",
      "\n",
      "Members of the Board and the Senior Management, shall\n",
      "\n",
      "a) Always act in the best interests of the Company and its\n",
      "stakeholders.\n",
      "\n",
      "b) Adopt the highest standards of personal ethics, integrity,\n",
      "confidentiality and discipline in dealing with all matters\n",
      "relating to the Company.\n",
      "\n",
      "c) Apply themselves diligently and objectively in discharging\n",
      "their responsibilities and contribute to the conduct of the\n",
      "business and the progress of the Company, and not be\n",
      "associated simultaneously with competing organisations\n",
      "either as a Director or in any managerial or advisory capacity,\n",
      "without the prior approval of the Board.\n",
      "\n",
      "d) Always adhere and conform to the various statutory and\n",
      "mandatory regulations/guidelines applicable to the operations\n",
      "of the Company, avoiding violations or non-conformities.\n",
      "\n",
      "e) Not derive personal benefit or undue advantages (financial or\n",
      "otherwise) by virtue of their position or relationship with the\n",
      "Company, and for this purpose\n",
      "i) shall adopt total transparency in their dealings with the\n",
      "Company.\n",
      "ii) shall disclose full details of any direct or indirect\n",
      "personal interests in dealings/transactions with the\n",
      "Company.\n",
      "iii) shall not be party to transactions or decisions involving\n",
      "conflict between their personal interest and the\n",
      "Company's interest.\n",
      "\n",
      "f) Conduct themselves and their activities outside the Company\n",
      "in such manner as not to adversely affect the image or\n",
      "reputation of the Company.\n",
      "\n",
      "g) Inform the Company immediately if there is any personal\n",
      "development (relating to his/her business/professional\n",
      "activities) which could be incompatible with the level and\n",
      "stature of his position and responsibility with the Company.\n",
      "\n",
      "h) Bring to the attention of the Board, Chairman or the Managing\n",
      "Director as appropriate, any information or development\n",
      "either within the Company (relating to its employees or other\n",
      "stakeholders) or external, which could impact the Company's\n",
      "operations, and which in the normal course may not have\n",
      "come to the knowledge of the Board/Chairman or Managing\n",
      "Director.\n",
      "\n",
      "i) Always abide by the above Code of Conduct, and be\n",
      "accountable to the Board for their actions/violations/defaults.\n",
      "\n",
      "ANNUAL REPORT 2009-10 17\n",
      "```\n"
     ]
    }
   ],
   "source": [
    "client = genai.Client(api_key=gemini_key)\n",
    "response = client.models.generate_content(\n",
    "    model=\"gemini-2.0-flash\",\n",
    "    contents=[promt, im], \n",
    "    config=generation_config)\n",
    "\n",
    "print(response.text)"
   ]
  },
  {
   "cell_type": "code",
   "execution_count": 55,
   "metadata": {},
   "outputs": [
    {
     "name": "stdout",
     "output_type": "stream",
     "text": [
      "cached_content_token_count=None candidates_token_count=679 prompt_token_count=1602 total_token_count=2281\n"
     ]
    }
   ],
   "source": [
    "print(response.usage_metadata)"
   ]
  },
  {
   "cell_type": "code",
   "execution_count": 56,
   "metadata": {},
   "outputs": [
    {
     "data": {
      "text/plain": [
       "'{\"candidates\":[{\"content\":{\"parts\":[{\"video_metadata\":null,\"thought\":null,\"code_execution_result\":null,\"executable_code\":null,\"file_data\":null,\"function_call\":null,\"function_response\":null,\"inline_data\":null,\"text\":\"```markdown\\\\nANNEXURE-B TO DIRECTORS\\' REPORT - REPORT ON CORPORATE GOVERNANCE\\\\nNon-mandatory requirements\\\\n1. Non-Executive Chairman\\\\n\\\\nThe Company maintains the office of the Non-Executive\\\\nChairman and reimburses expenses incurred in the\\\\nperformance of his duties.\\\\n2. Remuneration Committee\\\\n\\\\nThe Company has constituted a Remuneration Committee;\\\\nfull details are furnished under Item 4 of this Annexure.\\\\n3. Shareholder Rights\\\\n\\\\nThe statements of quarterly and half-yearly results are being\\\\npublished in the Press. The Company has been mailing half-\\\\nyearly reports to shareholders since October 2001, along with\\\\na letter from the Managing Director highlighting significant\\\\nevents.\\\\n4. Postal Ballot\\\\n\\\\nThe Company has had no occasion to use the postal ballot\\\\nduring the year.\\\\n5. Whistle Blower Policy\\\\n\\\\nThe Company does not have a Whistle Blower Policy, but has\\\\nan independent Ombudsman, who is not an employee of the\\\\nCompany.\\\\nSEBI Guidelines on Corporate Governance\\\\n\\\\nThe Company is fully compliant with the SEBI Guidelines.\\\\nCode of Conduct\\\\nMembers of the Board and the Senior Management, shall\\\\na) Always act in the best interests of the Company and its\\\\nstakeholders.\\\\nb) Adopt the highest standards of personal ethics, integrity,\\\\nconfidentiality and discipline in dealing with all matters\\\\nrelating to the Company.\\\\nc) Apply themselves diligently and objectively in discharging\\\\ntheir responsibilities and contribute to the conduct of the\\\\nbusiness and the progress of the Company, and not be\\\\nassociated simultaneously with competing organisations\\\\neither as a Director or in any managerial or advisory capacity,\\\\nwithout the prior approval of the Board.\\\\nd) Always adhere and conform to the various statutory and\\\\nmandatory regulations/guidelines applicable to the operations\\\\nof the Company, avoiding violations or non-conformities.\\\\ne) Not derive personal benefit or undue advantages (financial or\\\\notherwise) by virtue of their position or relationship with the\\\\nCompany, and for this purpose\\\\ni) shall adopt total transparency in their dealings with the\\\\nCompany.\\\\nii) shall disclose full details of any direct or indirect\\\\npersonal interests in dealings/transactions with the\\\\nCompany.\\\\niii) shall not be party to transactions or decisions involving\\\\nconflict between their personal interest and the\\\\nCompany\\'s interest.\\\\nf) Conduct themselves and their activities outside the Company\\\\nin such manner as not to adversely affect the image or\\\\nreputation of the Company.\\\\ng) Inform the Company immediately if there is any personal\\\\ndevelopment (relating to his/her business/professional\\\\nactivities) which could be incompatible with the level and\\\\nstature of his position and responsibility with the Company.\\\\nh) Bring to the attention of the Board, Chairman or the Managing\\\\nDirector as appropriate, any information or development\\\\neither within the Company (relating to its employees or other\\\\nstakeholders) or external, which could impact the Company\\'s\\\\noperations, and which in the normal course may not have\\\\ncome to the knowledge of the Board/Chairman or Managing\\\\nDirector.\\\\ni) Always abide by the above Code of Conduct, and be\\\\naccountable to the Board for their actions/violations/defaults.\\\\n\\\\nANNUAL REPORT 2009-10 17\\\\n```\"}],\"role\":\"model\"},\"citation_metadata\":{\"citations\":[{\"end_index\":1235,\"license\":null,\"publication_date\":null,\"start_index\":1031,\"title\":null,\"uri\":\"https://www.bseindia.com/bseplus/annualreport/517421/5174210312.pdf\"},{\"end_index\":1525,\"license\":null,\"publication_date\":null,\"start_index\":1158,\"title\":null,\"uri\":\"https://www.kandagirimills.com/investors.php\"},{\"end_index\":1796,\"license\":null,\"publication_date\":null,\"start_index\":1546,\"title\":null,\"uri\":\"https://www.kandagirimills.com/investors.php\"},{\"end_index\":2297,\"license\":null,\"publication_date\":null,\"start_index\":1798,\"title\":null,\"uri\":null},{\"end_index\":2623,\"license\":null,\"publication_date\":null,\"start_index\":2297,\"title\":null,\"uri\":\"https://www.kandagirimills.com/investors.php\"},{\"end_index\":2908,\"license\":null,\"publication_date\":null,\"start_index\":2630,\"title\":null,\"uri\":\"https://www.kandagirimills.com/investors.php\"},{\"end_index\":3089,\"license\":null,\"publication_date\":null,\"start_index\":2919,\"title\":null,\"uri\":\"https://www.kandagirimills.com/investors.php\"}]},\"finish_message\":null,\"token_count\":null,\"avg_logprobs\":-0.00303933195583248,\"finish_reason\":\"STOP\",\"grounding_metadata\":null,\"index\":null,\"logprobs_result\":null,\"safety_ratings\":null}],\"model_version\":\"gemini-2.0-flash\",\"prompt_feedback\":null,\"usage_metadata\":{\"cached_content_token_count\":null,\"candidates_token_count\":679,\"prompt_token_count\":1602,\"total_token_count\":2281},\"automatic_function_calling_history\":[],\"parsed\":null}'"
      ]
     },
     "execution_count": 56,
     "metadata": {},
     "output_type": "execute_result"
    }
   ],
   "source": [
    "response.json()"
   ]
  },
  {
   "cell_type": "code",
   "execution_count": 99,
   "metadata": {},
   "outputs": [
    {
     "data": {
      "text/plain": [
       "13720"
      ]
     },
     "execution_count": 99,
     "metadata": {},
     "output_type": "execute_result"
    }
   ],
   "source": [
    "df.shape[0]"
   ]
  },
  {
   "cell_type": "code",
   "execution_count": 198,
   "metadata": {},
   "outputs": [],
   "source": [
    "def get_md(fn:Path, dir_name:str=\"Index_md\"):\n",
    "    try :\n",
    "\n",
    "        dir = fn.parent.parent/dir_name\n",
    "        dir.mkdir(exist_ok=True)\n",
    "        im = im_open(fn)\n",
    "        fn_ = fn.name.split('.')[0]\n",
    "\n",
    "        res = client.models.generate_content(\n",
    "            model=\"gemini-2.0-flash\",\n",
    "            contents=[promt, im], \n",
    "            config=config)\n",
    "\n",
    "        #print(res.json())\n",
    "\n",
    "        md_fn = dir/f\"{fn_}.md\"\n",
    "        txt = res.text if res.text else \"\"\n",
    "        md_fn.write_text(res.text)\n",
    "        print(f\"{md_fn=} {len(txt)=}\")\n",
    "\n",
    "    except Exception as e:\n",
    "        print(f\"error @ {fn=}  {e}\")\n",
    "\n"
   ]
  },
  {
   "cell_type": "code",
   "execution_count": 112,
   "metadata": {},
   "outputs": [
    {
     "data": {
      "text/plain": [
       "4"
      ]
     },
     "execution_count": 112,
     "metadata": {},
     "output_type": "execute_result"
    }
   ],
   "source": [
    "p = Path('/mnt/d/finfox/ASHOKLEY/Financial Year 2010/Index_md/19.md')\n",
    "p.write_text()"
   ]
  },
  {
   "cell_type": "code",
   "execution_count": 191,
   "metadata": {},
   "outputs": [
    {
     "name": "stdout",
     "output_type": "stream",
     "text": [
      "md_fn=Path('/mnt/d/finfox/ASHOKLEY/Financial Year 2013/Index_md/43.md') len(txt)=1731\n"
     ]
    }
   ],
   "source": [
    "p = Path('/mnt/d/finfox/ASHOKLEY/Financial Year 2013/Index_img/43.png')\n",
    "get_md(p)"
   ]
  },
  {
   "cell_type": "code",
   "execution_count": 175,
   "metadata": {},
   "outputs": [
    {
     "data": {
      "text/plain": [
       "304"
      ]
     },
     "execution_count": 175,
     "metadata": {},
     "output_type": "execute_result"
    }
   ],
   "source": [
    "191+113"
   ]
  },
  {
   "cell_type": "code",
   "execution_count": 202,
   "metadata": {},
   "outputs": [
    {
     "name": "stdout",
     "output_type": "stream",
     "text": [
      "error @ fn=Path('/mnt/d/finfox/ASHOKLEY/Financial Year 2024/index_img/129.png')  429 RESOURCE_EXHAUSTED. {'error': {'code': 429, 'message': 'Resource has been exhausted (e.g. check quota).', 'status': 'RESOURCE_EXHAUSTED'}}\n",
      "error @ fn=Path('/mnt/d/finfox/ASHOKLEY/Financial Year 2024/index_img/13.png')  429 RESOURCE_EXHAUSTED. {'error': {'code': 429, 'message': 'Resource has been exhausted (e.g. check quota).', 'status': 'RESOURCE_EXHAUSTED'}}\n",
      "error @ fn=Path('/mnt/d/finfox/ASHOKLEY/Financial Year 2024/index_img/130.png')  429 RESOURCE_EXHAUSTED. {'error': {'code': 429, 'message': 'Resource has been exhausted (e.g. check quota).', 'status': 'RESOURCE_EXHAUSTED'}}\n",
      "error @ fn=Path('/mnt/d/finfox/ASHOKLEY/Financial Year 2024/index_img/131.png')  429 RESOURCE_EXHAUSTED. {'error': {'code': 429, 'message': 'Resource has been exhausted (e.g. check quota).', 'status': 'RESOURCE_EXHAUSTED'}}\n",
      "error @ fn=Path('/mnt/d/finfox/ASHOKLEY/Financial Year 2024/index_img/132.png')  429 RESOURCE_EXHAUSTED. {'error': {'code': 429, 'message': 'Resource has been exhausted (e.g. check quota).', 'status': 'RESOURCE_EXHAUSTED'}}\n",
      "error @ fn=Path('/mnt/d/finfox/ASHOKLEY/Financial Year 2024/index_img/133.png')  429 RESOURCE_EXHAUSTED. {'error': {'code': 429, 'message': 'Resource has been exhausted (e.g. check quota).', 'status': 'RESOURCE_EXHAUSTED'}}\n",
      "error @ fn=Path('/mnt/d/finfox/ASHOKLEY/Financial Year 2024/index_img/134.png')  429 RESOURCE_EXHAUSTED. {'error': {'code': 429, 'message': 'Resource has been exhausted (e.g. check quota).', 'status': 'RESOURCE_EXHAUSTED'}}\n",
      "error @ fn=Path('/mnt/d/finfox/ASHOKLEY/Financial Year 2024/index_img/135.png')  429 RESOURCE_EXHAUSTED. {'error': {'code': 429, 'message': 'Resource has been exhausted (e.g. check quota).', 'status': 'RESOURCE_EXHAUSTED'}}\n",
      "error @ fn=Path('/mnt/d/finfox/ASHOKLEY/Financial Year 2024/index_img/136.png')  429 RESOURCE_EXHAUSTED. {'error': {'code': 429, 'message': 'Resource has been exhausted (e.g. check quota).', 'status': 'RESOURCE_EXHAUSTED'}}\n",
      "error @ fn=Path('/mnt/d/finfox/ASHOKLEY/Financial Year 2024/index_img/137.png')  429 RESOURCE_EXHAUSTED. {'error': {'code': 429, 'message': 'Resource has been exhausted (e.g. check quota).', 'status': 'RESOURCE_EXHAUSTED'}}\n",
      "error @ fn=Path('/mnt/d/finfox/ASHOKLEY/Financial Year 2024/index_img/138.png')  429 RESOURCE_EXHAUSTED. {'error': {'code': 429, 'message': 'Resource has been exhausted (e.g. check quota).', 'status': 'RESOURCE_EXHAUSTED'}}\n",
      "error @ fn=Path('/mnt/d/finfox/ASHOKLEY/Financial Year 2024/index_img/139.png')  429 RESOURCE_EXHAUSTED. {'error': {'code': 429, 'message': 'Resource has been exhausted (e.g. check quota).', 'status': 'RESOURCE_EXHAUSTED'}}\n",
      "error @ fn=Path('/mnt/d/finfox/ASHOKLEY/Financial Year 2024/index_img/14.png')  429 RESOURCE_EXHAUSTED. {'error': {'code': 429, 'message': 'Resource has been exhausted (e.g. check quota).', 'status': 'RESOURCE_EXHAUSTED'}}\n",
      "error @ fn=Path('/mnt/d/finfox/ASHOKLEY/Financial Year 2024/index_img/140.png')  429 RESOURCE_EXHAUSTED. {'error': {'code': 429, 'message': 'Resource has been exhausted (e.g. check quota).', 'status': 'RESOURCE_EXHAUSTED'}}\n",
      "error @ fn=Path('/mnt/d/finfox/ASHOKLEY/Financial Year 2024/index_img/141.png')  429 RESOURCE_EXHAUSTED. {'error': {'code': 429, 'message': 'Resource has been exhausted (e.g. check quota).', 'status': 'RESOURCE_EXHAUSTED'}}\n",
      "error @ fn=Path('/mnt/d/finfox/ASHOKLEY/Financial Year 2024/index_img/142.png')  429 RESOURCE_EXHAUSTED. {'error': {'code': 429, 'message': 'Resource has been exhausted (e.g. check quota).', 'status': 'RESOURCE_EXHAUSTED'}}\n",
      "error @ fn=Path('/mnt/d/finfox/ASHOKLEY/Financial Year 2024/index_img/143.png')  429 RESOURCE_EXHAUSTED. {'error': {'code': 429, 'message': 'Resource has been exhausted (e.g. check quota).', 'status': 'RESOURCE_EXHAUSTED'}}\n",
      "error @ fn=Path('/mnt/d/finfox/ASHOKLEY/Financial Year 2024/index_img/144.png')  429 RESOURCE_EXHAUSTED. {'error': {'code': 429, 'message': 'Resource has been exhausted (e.g. check quota).', 'status': 'RESOURCE_EXHAUSTED'}}\n",
      "error @ fn=Path('/mnt/d/finfox/ASHOKLEY/Financial Year 2024/index_img/145.png')  429 RESOURCE_EXHAUSTED. {'error': {'code': 429, 'message': 'Resource has been exhausted (e.g. check quota).', 'status': 'RESOURCE_EXHAUSTED'}}\n",
      "error @ fn=Path('/mnt/d/finfox/ASHOKLEY/Financial Year 2024/index_img/146.png')  429 RESOURCE_EXHAUSTED. {'error': {'code': 429, 'message': 'Resource has been exhausted (e.g. check quota).', 'status': 'RESOURCE_EXHAUSTED'}}\n",
      "error @ fn=Path('/mnt/d/finfox/ASHOKLEY/Financial Year 2024/index_img/147.png')  429 RESOURCE_EXHAUSTED. {'error': {'code': 429, 'message': 'Resource has been exhausted (e.g. check quota).', 'status': 'RESOURCE_EXHAUSTED'}}\n",
      "error @ fn=Path('/mnt/d/finfox/ASHOKLEY/Financial Year 2024/index_img/148.png')  429 RESOURCE_EXHAUSTED. {'error': {'code': 429, 'message': 'Resource has been exhausted (e.g. check quota).', 'status': 'RESOURCE_EXHAUSTED'}}\n",
      "error @ fn=Path('/mnt/d/finfox/ASHOKLEY/Financial Year 2024/index_img/149.png')  429 RESOURCE_EXHAUSTED. {'error': {'code': 429, 'message': 'Resource has been exhausted (e.g. check quota).', 'status': 'RESOURCE_EXHAUSTED'}}\n",
      "error @ fn=Path('/mnt/d/finfox/ASHOKLEY/Financial Year 2024/index_img/15.png')  429 RESOURCE_EXHAUSTED. {'error': {'code': 429, 'message': 'Resource has been exhausted (e.g. check quota).', 'status': 'RESOURCE_EXHAUSTED'}}\n",
      "error @ fn=Path('/mnt/d/finfox/ASHOKLEY/Financial Year 2024/index_img/150.png')  429 RESOURCE_EXHAUSTED. {'error': {'code': 429, 'message': 'Resource has been exhausted (e.g. check quota).', 'status': 'RESOURCE_EXHAUSTED'}}\n",
      "error @ fn=Path('/mnt/d/finfox/ASHOKLEY/Financial Year 2024/index_img/151.png')  429 RESOURCE_EXHAUSTED. {'error': {'code': 429, 'message': 'Resource has been exhausted (e.g. check quota).', 'status': 'RESOURCE_EXHAUSTED'}}\n",
      "error @ fn=Path('/mnt/d/finfox/ASHOKLEY/Financial Year 2024/index_img/152.png')  429 RESOURCE_EXHAUSTED. {'error': {'code': 429, 'message': 'Resource has been exhausted (e.g. check quota).', 'status': 'RESOURCE_EXHAUSTED'}}\n",
      "error @ fn=Path('/mnt/d/finfox/ASHOKLEY/Financial Year 2024/index_img/153.png')  429 RESOURCE_EXHAUSTED. {'error': {'code': 429, 'message': 'Resource has been exhausted (e.g. check quota).', 'status': 'RESOURCE_EXHAUSTED'}}\n",
      "error @ fn=Path('/mnt/d/finfox/ASHOKLEY/Financial Year 2024/index_img/154.png')  429 RESOURCE_EXHAUSTED. {'error': {'code': 429, 'message': 'Resource has been exhausted (e.g. check quota).', 'status': 'RESOURCE_EXHAUSTED'}}\n",
      "error @ fn=Path('/mnt/d/finfox/ASHOKLEY/Financial Year 2024/index_img/155.png')  429 RESOURCE_EXHAUSTED. {'error': {'code': 429, 'message': 'Resource has been exhausted (e.g. check quota).', 'status': 'RESOURCE_EXHAUSTED'}}\n",
      "error @ fn=Path('/mnt/d/finfox/ASHOKLEY/Financial Year 2024/index_img/156.png')  429 RESOURCE_EXHAUSTED. {'error': {'code': 429, 'message': 'Resource has been exhausted (e.g. check quota).', 'status': 'RESOURCE_EXHAUSTED'}}\n",
      "error @ fn=Path('/mnt/d/finfox/ASHOKLEY/Financial Year 2024/index_img/157.png')  429 RESOURCE_EXHAUSTED. {'error': {'code': 429, 'message': 'Resource has been exhausted (e.g. check quota).', 'status': 'RESOURCE_EXHAUSTED'}}\n",
      "error @ fn=Path('/mnt/d/finfox/ASHOKLEY/Financial Year 2024/index_img/158.png')  429 RESOURCE_EXHAUSTED. {'error': {'code': 429, 'message': 'Resource has been exhausted (e.g. check quota).', 'status': 'RESOURCE_EXHAUSTED'}}\n",
      "error @ fn=Path('/mnt/d/finfox/ASHOKLEY/Financial Year 2024/index_img/159.png')  429 RESOURCE_EXHAUSTED. {'error': {'code': 429, 'message': 'Resource has been exhausted (e.g. check quota).', 'status': 'RESOURCE_EXHAUSTED'}}\n"
     ]
    },
    {
     "ename": "KeyboardInterrupt",
     "evalue": "",
     "output_type": "error",
     "traceback": [
      "\u001b[0;31m---------------------------------------------------------------------------\u001b[0m",
      "\u001b[0;31mKeyboardInterrupt\u001b[0m                         Traceback (most recent call last)",
      "Cell \u001b[0;32mIn[202], line 8\u001b[0m\n\u001b[1;32m      6\u001b[0m fn \u001b[38;5;241m=\u001b[39m Path(df\u001b[38;5;241m.\u001b[39miloc[i][\u001b[38;5;124m'\u001b[39m\u001b[38;5;124mfn\u001b[39m\u001b[38;5;124m'\u001b[39m])\n\u001b[1;32m      7\u001b[0m get_md(fn)\n\u001b[0;32m----> 8\u001b[0m \u001b[43msleep\u001b[49m\u001b[43m(\u001b[49m\u001b[43mrandom\u001b[49m\u001b[38;5;241;43m.\u001b[39;49m\u001b[43muniform\u001b[49m\u001b[43m(\u001b[49m\u001b[38;5;241;43m0\u001b[39;49m\u001b[43m,\u001b[49m\u001b[43m \u001b[49m\u001b[38;5;241;43m5\u001b[39;49m\u001b[43m)\u001b[49m\u001b[43m)\u001b[49m\n",
      "\u001b[0;31mKeyboardInterrupt\u001b[0m: "
     ]
    }
   ],
   "source": [
    "from time import sleep\n",
    "import random\n",
    "\n",
    "for i in range(2836,5000):\n",
    "\n",
    "    fn = Path(df.iloc[i]['fn'])\n",
    "    get_md(fn)\n",
    "    sleep(random.uniform(0, 5))"
   ]
  },
  {
   "cell_type": "code",
   "execution_count": null,
   "metadata": {},
   "outputs": [],
   "source": []
  }
 ],
 "metadata": {
  "kernelspec": {
   "display_name": "Python 3 (ipykernel)",
   "language": "python",
   "name": "python3"
  }
 },
 "nbformat": 4,
 "nbformat_minor": 2
}
